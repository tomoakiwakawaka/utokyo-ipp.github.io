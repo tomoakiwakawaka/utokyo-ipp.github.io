{
  "cells": [
    {
      "cell_type": "code",
      "execution_count": 3,
      "metadata": {
        "colab": {
          "base_uri": "https://localhost:8080/"
        },
        "id": "S5fJvu8PRbYr",
        "outputId": "133f3637-a1f5-4135-c2e8-34ccf5b2ba24"
      },
      "outputs": [
        {
          "output_type": "stream",
          "name": "stdout",
          "text": [
            "--2025-08-22 05:42:39--  https://raw.githubusercontent.com/utokyo-ipp/utokyo-ipp.github.io/master/colab/4/utf-8.txt\n",
            "Resolving raw.githubusercontent.com (raw.githubusercontent.com)... 185.199.111.133, 185.199.110.133, 185.199.109.133, ...\n",
            "Connecting to raw.githubusercontent.com (raw.githubusercontent.com)|185.199.111.133|:443... connected.\n",
            "HTTP request sent, awaiting response... 200 OK\n",
            "Length: 15 [text/plain]\n",
            "Saving to: ‘./utf-8.txt’\n",
            "\n",
            "\rutf-8.txt             0%[                    ]       0  --.-KB/s               \rutf-8.txt           100%[===================>]      15  --.-KB/s    in 0s      \n",
            "\n",
            "2025-08-22 05:42:39 (232 KB/s) - ‘./utf-8.txt’ saved [15/15]\n",
            "\n",
            "--2025-08-22 05:42:39--  https://raw.githubusercontent.com/utokyo-ipp/utokyo-ipp.github.io/master/colab/4/shift_jis.txt\n",
            "Resolving raw.githubusercontent.com (raw.githubusercontent.com)... 185.199.108.133, 185.199.109.133, 185.199.110.133, ...\n",
            "Connecting to raw.githubusercontent.com (raw.githubusercontent.com)|185.199.108.133|:443... connected.\n",
            "HTTP request sent, awaiting response... 200 OK\n",
            "Length: 10 [application/octet-stream]\n",
            "Saving to: ‘./shift_jis.txt’\n",
            "\n",
            "shift_jis.txt       100%[===================>]      10  --.-KB/s    in 0s      \n",
            "\n",
            "2025-08-22 05:42:39 (144 KB/s) - ‘./shift_jis.txt’ saved [10/10]\n",
            "\n",
            "--2025-08-22 05:42:39--  https://raw.githubusercontent.com/utokyo-ipp/utokyo-ipp.github.io/master/colab/4/test.txt\n",
            "Resolving raw.githubusercontent.com (raw.githubusercontent.com)... 185.199.109.133, 185.199.110.133, 185.199.108.133, ...\n",
            "Connecting to raw.githubusercontent.com (raw.githubusercontent.com)|185.199.109.133|:443... connected.\n",
            "HTTP request sent, awaiting response... 200 OK\n",
            "Length: 446 [text/plain]\n",
            "Saving to: ‘./test.txt’\n",
            "\n",
            "test.txt            100%[===================>]     446  --.-KB/s    in 0s      \n",
            "\n",
            "2025-08-22 05:42:40 (19.5 MB/s) - ‘./test.txt’ saved [446/446]\n",
            "\n",
            "--2025-08-22 05:42:40--  https://raw.githubusercontent.com/utokyo-ipp/utokyo-ipp.github.io/master/colab/4/sample.txt\n",
            "Resolving raw.githubusercontent.com (raw.githubusercontent.com)... 185.199.108.133, 185.199.109.133, 185.199.110.133, ...\n",
            "Connecting to raw.githubusercontent.com (raw.githubusercontent.com)|185.199.108.133|:443... connected.\n",
            "HTTP request sent, awaiting response... 200 OK\n",
            "Length: 446 [text/plain]\n",
            "Saving to: ‘./sample.txt’\n",
            "\n",
            "sample.txt          100%[===================>]     446  --.-KB/s    in 0s      \n",
            "\n",
            "2025-08-22 05:42:40 (6.83 MB/s) - ‘./sample.txt’ saved [446/446]\n",
            "\n",
            "--2025-08-22 05:42:40--  https://raw.githubusercontent.com/utokyo-ipp/utokyo-ipp.github.io/master/colab/4/text/novel.txt\n",
            "Resolving raw.githubusercontent.com (raw.githubusercontent.com)... 185.199.110.133, 185.199.109.133, 185.199.111.133, ...\n",
            "Connecting to raw.githubusercontent.com (raw.githubusercontent.com)|185.199.110.133|:443... connected.\n",
            "HTTP request sent, awaiting response... 200 OK\n",
            "Length: 696 [text/plain]\n",
            "Saving to: ‘text/novel.txt’\n",
            "\n",
            "novel.txt           100%[===================>]     696  --.-KB/s    in 0s      \n",
            "\n",
            "2025-08-22 05:42:40 (28.5 MB/s) - ‘text/novel.txt’ saved [696/696]\n",
            "\n"
          ]
        }
      ],
      "source": [
        "##================================================\n",
        "## このセルを最初に実行せよ---Run this cell first.\n",
        "##================================================\n",
        "!wget -P . https://raw.githubusercontent.com/utokyo-ipp/utokyo-ipp.github.io/master/colab/4/utf-8.txt\n",
        "!wget -P . https://raw.githubusercontent.com/utokyo-ipp/utokyo-ipp.github.io/master/colab/4/shift_jis.txt\n",
        "!wget -P . https://raw.githubusercontent.com/utokyo-ipp/utokyo-ipp.github.io/master/colab/4/test.txt\n",
        "!wget -P . https://raw.githubusercontent.com/utokyo-ipp/utokyo-ipp.github.io/master/colab/4/sample.txt\n",
        "!wget -P text https://raw.githubusercontent.com/utokyo-ipp/utokyo-ipp.github.io/master/colab/4/text/novel.txt"
      ]
    },
    {
      "cell_type": "markdown",
      "metadata": {
        "id": "xakgb0qXRbYu"
      },
      "source": [
        "# 4-1. ファイル入出力の基本\n",
        "ファイル入出力の基本について説明します。\n",
        "\n",
        "参考\n",
        "\n",
        "- https://docs.python.org/ja/3/tutorial/inputoutput.html#reading-and-writing-files\n",
        "\n",
        "## ファイルのオープン\n",
        "**ファイル**から文字列を読み込んだり、ファイルに書き込んだりするには、\n",
        "まず、**`open()`** という関数によってファイルを**オープン**する（開く）必要があります。"
      ]
    },
    {
      "cell_type": "code",
      "execution_count": 4,
      "metadata": {
        "id": "U8MpoTCoRbYv"
      },
      "outputs": [],
      "source": [
        "f = open('sample.txt', 'r')"
      ]
    },
    {
      "cell_type": "markdown",
      "metadata": {
        "id": "R72UGLW2RbYw"
      },
      "source": [
        "変数 `f` には、ファイルを読み書きするためのデータが入ります。\n",
        "これを**ファイルオブジェクト**と呼びます。"
      ]
    },
    {
      "cell_type": "markdown",
      "metadata": {
        "id": "SvZK9CGgRbYw"
      },
      "source": [
        "`'sample.txt'` はファイル名で、そのファイルの絶対パス名か、このノートブックからの相対パス名を指定します。\n",
        "\n",
        "ここでは、`sample.txt` という名前のファイルがこのノートブックと同じディレクトリにあることを想定しています。\n",
        "\n",
        "たとえば、`novel.txt` というファイルが、ノートブックの1段上のディレクトリ（このディレクトリが入っているディレクトリ）にあるならば、`'../novel.txt'` と指定します。\n",
        "ノートブックの1段上のディレクトリに置かれている `data` というディレクトリにあるならば、`'../data/novel.txt'` となります\n",
        "（4-3にもう少し詳しい解説があります）。"
      ]
    },
    {
      "cell_type": "markdown",
      "metadata": {
        "id": "WyVLVP5RRbYx"
      },
      "source": [
        "`'r'` はファイルをどのモードで開くかを指しており、`'r'`は**読み込みモード**を意味します。\n",
        "このモードで開いたファイルに書き込みすることはできません。\n",
        "\n",
        "よく使われるモードは、次の3種類です。\n",
        "\n",
        "引数 | モード\n",
        "---|:---\n",
        "`'r'` | 読み込み\n",
        "`'w'` | 書き込み\n",
        "`'a'` | 追記\n",
        "\n",
        "モードの引数がなかった場合は、`'r'` であると解釈されます。\n",
        "書き込みについては後でも説明します。\n",
        "\n",
        "モードの詳細は[公式ドキュメント](https://docs.python.org/ja/3/library/functions.html#open)を参照。"
      ]
    },
    {
      "cell_type": "markdown",
      "metadata": {
        "id": "2xvpSIgXRbYx"
      },
      "source": [
        "## ファイルのクローズ\n",
        "\n",
        "ファイルオブジェクトを使い終わったら、原則として、**`close()`** メソッドを呼び出して、**クローズ**する（閉じる）必要があります。"
      ]
    },
    {
      "cell_type": "code",
      "execution_count": null,
      "metadata": {
        "id": "-nK0fQZpRbYy"
      },
      "outputs": [],
      "source": [
        "f.close()"
      ]
    },
    {
      "cell_type": "markdown",
      "metadata": {
        "id": "n0CjwsPfRbYy"
      },
      "source": [
        "`close()` を呼び出さずに放置すると、そのファイルがまだ使用中だと認識されてしまいます。\n",
        "これは、同じファイルを利用しようとする他のプログラムの働きを阻害します。（個室のトイレをイメージしてください。）\n",
        "\n",
        "`close()` の呼び出しは重要ですが、忘れがちなものでもあります。\n",
        "後述するwith文を使うのが安全です。"
      ]
    },
    {
      "cell_type": "markdown",
      "metadata": {
        "id": "ij26zhi7RbYz"
      },
      "source": [
        "## 行の読み込み\n",
        "ファイルオブジェクトには、**`readline()`** というメソッドを適用することができます。\n",
        "ファイルから新たに1行を読んで文字列として返します。\n",
        "この「1行」というのは、正確には、ファイルの先頭もしくは改行文字の次の文字から、ファイルの終わりもしくは改行文字までの文字列です。\n",
        "1行は必ずしも改行文字で終わらないという点に注意して下さい。\n",
        "\n",
        "ファイルの終わりに来たとき、`readline()` は `''` という空文字列を返します。\n",
        "\n",
        "以下のようにして `readline()` を使ってファイルを行単位で読んでみましょう。\n",
        "\n",
        "ファイルを読み終わると空文字列が返ることを確認してください。"
      ]
    },
    {
      "cell_type": "code",
      "execution_count": 5,
      "metadata": {
        "id": "DxjOfGN1RbYz"
      },
      "outputs": [],
      "source": [
        "f = open('sample.txt', 'r')"
      ]
    },
    {
      "cell_type": "code",
      "execution_count": 6,
      "metadata": {
        "colab": {
          "base_uri": "https://localhost:8080/",
          "height": 54
        },
        "id": "s4PS_hNHRbYz",
        "outputId": "f9efdb2a-433b-47c3-94e5-0fa1b2f6609c"
      },
      "outputs": [
        {
          "output_type": "execute_result",
          "data": {
            "text/plain": [
              "'Lorem ipsum dolor sit amet, consectetur adipiscing elit, sed do eiusmod tempor incididunt ut labore et dolore magna aliqua. Ut enim ad minim veniam, quis nostrud exercitation ullamco laboris nisi ut aliquip ex ea commodo consequat.\\n'"
            ],
            "application/vnd.google.colaboratory.intrinsic+json": {
              "type": "string"
            }
          },
          "metadata": {},
          "execution_count": 6
        }
      ],
      "source": [
        "f.readline()"
      ]
    },
    {
      "cell_type": "code",
      "execution_count": 7,
      "metadata": {
        "colab": {
          "base_uri": "https://localhost:8080/",
          "height": 36
        },
        "id": "nOv2NBEFRbYz",
        "outputId": "02a25f1a-3584-4b30-a46c-9a6597060ad7"
      },
      "outputs": [
        {
          "output_type": "execute_result",
          "data": {
            "text/plain": [
              "'Duis aute irure dolor in reprehenderit in voluptate velit esse cillum dolore eu fugiat nulla pariatur.\\n'"
            ],
            "application/vnd.google.colaboratory.intrinsic+json": {
              "type": "string"
            }
          },
          "metadata": {},
          "execution_count": 7
        }
      ],
      "source": [
        "f.readline()"
      ]
    },
    {
      "cell_type": "code",
      "execution_count": 8,
      "metadata": {
        "colab": {
          "base_uri": "https://localhost:8080/",
          "height": 36
        },
        "id": "Zfex3ioCRbYz",
        "outputId": "f95f7577-6b10-4880-c44b-4461962594dc"
      },
      "outputs": [
        {
          "output_type": "execute_result",
          "data": {
            "text/plain": [
              "'Excepteur sint occaecat cupidatat non proident, sunt in culpa qui officia deserunt mollit anim id est laborum.\\n'"
            ],
            "application/vnd.google.colaboratory.intrinsic+json": {
              "type": "string"
            }
          },
          "metadata": {},
          "execution_count": 8
        }
      ],
      "source": [
        "f.readline()"
      ]
    },
    {
      "cell_type": "code",
      "execution_count": 9,
      "metadata": {
        "colab": {
          "base_uri": "https://localhost:8080/",
          "height": 36
        },
        "id": "ofqcN7ErRbYz",
        "outputId": "c0f30122-b5e6-49d5-aa21-4393b0f7f56e"
      },
      "outputs": [
        {
          "output_type": "execute_result",
          "data": {
            "text/plain": [
              "''"
            ],
            "application/vnd.google.colaboratory.intrinsic+json": {
              "type": "string"
            }
          },
          "metadata": {},
          "execution_count": 9
        }
      ],
      "source": [
        "f.readline()"
      ]
    },
    {
      "cell_type": "code",
      "execution_count": 10,
      "metadata": {
        "id": "IlHX3-RnRbY0"
      },
      "outputs": [],
      "source": [
        "f.close()"
      ]
    },
    {
      "cell_type": "markdown",
      "metadata": {
        "id": "FhahV26cRbY0"
      },
      "source": [
        "`readline()` メソッドの呼び出しは、ファイルオブジェクトを消費します。\n",
        "改めて読み出したいときには、再度オープンして新しいオブジェクトを使ってください。"
      ]
    },
    {
      "cell_type": "markdown",
      "metadata": {
        "id": "Ary0fHz1RbY0"
      },
      "source": [
        "## 練習\n",
        "文字列 `name` をファイル名とするファイルの最後の行を文字列として返す関数 `last_line(name)` を定義してください。"
      ]
    },
    {
      "cell_type": "code",
      "execution_count": 17,
      "metadata": {
        "id": "x815shaYRbY0"
      },
      "outputs": [],
      "source": [
        "def last_line(name):\n",
        "    f= open(name, 'r')\n",
        "    while True:\n",
        "        line = f.readline()\n",
        "        if line == '':\n",
        "            break\n",
        "        sentense=line\n",
        "    f.close()\n",
        "    return sentense"
      ]
    },
    {
      "cell_type": "markdown",
      "metadata": {
        "id": "rbtCMQj1RbY0"
      },
      "source": [
        "上のセルで解答を作成した後、以下のセルを実行し、実行結果が `True` になることを確認してください。"
      ]
    },
    {
      "cell_type": "code",
      "execution_count": 18,
      "metadata": {
        "tags": [
          "raises-exception"
        ],
        "colab": {
          "base_uri": "https://localhost:8080/"
        },
        "id": "9LO2hKa2RbY0",
        "outputId": "7fd6d0c0-0413-4978-9ed9-1de66769d0d2"
      },
      "outputs": [
        {
          "output_type": "stream",
          "name": "stdout",
          "text": [
            "True\n"
          ]
        }
      ],
      "source": [
        "print(last_line('sample.txt')==\"Excepteur sint occaecat cupidatat non proident, sunt in culpa qui officia deserunt mollit anim id est laborum.\\n\")"
      ]
    },
    {
      "cell_type": "markdown",
      "metadata": {
        "id": "lwJiuKtERbY0"
      },
      "source": [
        "## ファイル全体の読み込み\n",
        "\n",
        "ファイル全体を一括で読み込んで、1つの文字列を取得したいときには、**`read()`** メソッドを利用します。"
      ]
    },
    {
      "cell_type": "code",
      "execution_count": 19,
      "metadata": {
        "colab": {
          "base_uri": "https://localhost:8080/",
          "height": 73
        },
        "id": "70kDge4IRbY0",
        "outputId": "daca3b79-2f24-434a-8a9c-f440d060943d"
      },
      "outputs": [
        {
          "output_type": "execute_result",
          "data": {
            "text/plain": [
              "'Lorem ipsum dolor sit amet, consectetur adipiscing elit, sed do eiusmod tempor incididunt ut labore et dolore magna aliqua. Ut enim ad minim veniam, quis nostrud exercitation ullamco laboris nisi ut aliquip ex ea commodo consequat.\\nDuis aute irure dolor in reprehenderit in voluptate velit esse cillum dolore eu fugiat nulla pariatur.\\nExcepteur sint occaecat cupidatat non proident, sunt in culpa qui officia deserunt mollit anim id est laborum.\\n'"
            ],
            "application/vnd.google.colaboratory.intrinsic+json": {
              "type": "string"
            }
          },
          "metadata": {},
          "execution_count": 19
        }
      ],
      "source": [
        "f = open('sample.txt', 'r')\n",
        "f.read()"
      ]
    },
    {
      "cell_type": "markdown",
      "metadata": {
        "id": "TOpfuBzkRbY0"
      },
      "source": [
        "一度 `read()` を呼ぶと、ファイルの終端に達するので、それ以降は空文字列を返します。"
      ]
    },
    {
      "cell_type": "code",
      "execution_count": 20,
      "metadata": {
        "colab": {
          "base_uri": "https://localhost:8080/",
          "height": 36
        },
        "id": "LLZ7lGSPRbY0",
        "outputId": "e0580682-c16d-4a6c-c1f4-0280288a2c5c"
      },
      "outputs": [
        {
          "output_type": "execute_result",
          "data": {
            "text/plain": [
              "''"
            ],
            "application/vnd.google.colaboratory.intrinsic+json": {
              "type": "string"
            }
          },
          "metadata": {},
          "execution_count": 20
        }
      ],
      "source": [
        "f.read()"
      ]
    },
    {
      "cell_type": "code",
      "execution_count": 21,
      "metadata": {
        "id": "B16jEFViRbY0"
      },
      "outputs": [],
      "source": [
        "f.close()"
      ]
    },
    {
      "cell_type": "markdown",
      "metadata": {
        "id": "xs0m_EDuRbY1"
      },
      "source": [
        "`read()` メソッドは、内部的には `readline()` メソッドを呼んでいます。\n",
        "したがって、`read()` メソッドも同様にファイルオブジェクトを消費します。"
      ]
    },
    {
      "cell_type": "markdown",
      "metadata": {
        "id": "CN-1RVjrRbY1"
      },
      "source": [
        "## 練習\n",
        "\n",
        "文字列 `name` をファイル名とするファイルをオープンして、\n",
        "`read()` メソッドによってファイル全体を文字列として読み込み、\n",
        "その文字数を返す関数 `number_of_characters(name)` を作成してください。\n",
        "\n",
        "注意：`return` する前にファイルをクローズすることを忘れないようにしてください。"
      ]
    },
    {
      "cell_type": "code",
      "execution_count": 33,
      "metadata": {
        "id": "LpDIV02vRbY1"
      },
      "outputs": [],
      "source": [
        "def  number_of_characters(name):\n",
        "    f=open(name,'r')\n",
        "    num=len(f.read())\n",
        "    f.close()\n",
        "    # print(num)\n",
        "    return num\n"
      ]
    },
    {
      "cell_type": "markdown",
      "metadata": {
        "id": "WB4ZIhI0RbY1"
      },
      "source": [
        "上のセルで解答を作成した後、以下のセルを実行し、実行結果が `True` になることを確認してください。"
      ]
    },
    {
      "cell_type": "code",
      "execution_count": 34,
      "metadata": {
        "tags": [
          "raises-exception"
        ],
        "colab": {
          "base_uri": "https://localhost:8080/"
        },
        "id": "4gsaw5Z6RbY1",
        "outputId": "79dea3b8-7124-44c9-9e77-013ef2338027"
      },
      "outputs": [
        {
          "output_type": "stream",
          "name": "stdout",
          "text": [
            "True\n"
          ]
        }
      ],
      "source": [
        "print(number_of_characters('sample.txt') == 446)"
      ]
    },
    {
      "cell_type": "markdown",
      "metadata": {
        "id": "csMLKWHVRbY1"
      },
      "source": [
        "## 編集中のファイルの動作\n",
        "\n",
        "プログラムでファイルを開くと、そのプログラム内でそのファイルを閉じるまでは、他のプログラムでそのファイルを編集することはできません。\n",
        "\n",
        "下のセルを実行した後で、Windowsならエクスプローラ、macOSならFinderで上のファイルを探して、削除してみてください。\n",
        "「ファイルを閉じてから再実行してください。（Windowsの場合）」といったメッセージが出て、削除ができないはずです。   "
      ]
    },
    {
      "cell_type": "code",
      "execution_count": 35,
      "metadata": {
        "id": "s5SrLxHJRbY1"
      },
      "outputs": [],
      "source": [
        "f = open('test.txt', 'r')"
      ]
    },
    {
      "cell_type": "markdown",
      "metadata": {
        "id": "1Y205VyXRbY1"
      },
      "source": [
        "下のセルを実行した後だと削除できます。"
      ]
    },
    {
      "cell_type": "code",
      "execution_count": 36,
      "metadata": {
        "id": "1WDLoVffRbY1"
      },
      "outputs": [],
      "source": [
        "f.close()"
      ]
    },
    {
      "cell_type": "markdown",
      "metadata": {
        "id": "NzrAG-E2RbY1"
      },
      "source": [
        "## ファイルに対するwith文"
      ]
    },
    {
      "cell_type": "markdown",
      "metadata": {
        "id": "_9Uq1oVmRbY1"
      },
      "source": [
        "ファイルのオブジェクトは、with文に指定することができます。\n",
        "\n",
        "---\n",
        "```Python\n",
        "with ファイルオブジェクト as 変数:\n",
        "    ...\n",
        "\n",
        "```\n",
        "---\n",
        "\n",
        "**`with`** の次には、`open` によってファイルをオープンする式を書きます。\n",
        "\n",
        "また、**`as`** の次には、ファイルのオブジェクトが格納される変数を書きます。\n",
        "\n",
        "with文は処理後にファイルのクローズを自動的にやってくれますので、\n",
        "ファイルに対して `close()` を呼び出す必要がありません。"
      ]
    },
    {
      "cell_type": "code",
      "execution_count": 39,
      "metadata": {
        "colab": {
          "base_uri": "https://localhost:8080/"
        },
        "id": "WXHYXD-5RbY1",
        "outputId": "c6d4ae17-a336-49e0-cd32-26a7dfb6c602"
      },
      "outputs": [
        {
          "output_type": "stream",
          "name": "stdout",
          "text": [
            "Lorem ipsum dolor sit amet, consectetur adipiscing elit, sed do eiusmod tempor incididunt ut labore et dolore magna aliqua. Ut enim ad minim veniam, quis nostrud exercitation ullamco laboris nisi ut aliquip ex ea commodo consequat.\n",
            "Duis aute irure dolor in reprehenderit in voluptate velit esse cillum dolore eu fugiat nulla pariatur.\n",
            "Excepteur sint occaecat cupidatat non proident, sunt in culpa qui officia deserunt mollit anim id est laborum.\n",
            "\n"
          ]
        }
      ],
      "source": [
        "with open('sample.txt', 'r') as f:\n",
        "    print(f.read())"
      ]
    },
    {
      "cell_type": "markdown",
      "metadata": {
        "id": "rRfz5y1-RbY1"
      },
      "source": [
        "## ファイルへの書き込み\n",
        "\n",
        "ファイルへの書き込みは、`print` 関数を使って行えます。\n",
        "`file` 引数に書き込み先のファイルオブジェクトを指定します。\n",
        "`file` は3.3で説明されているキーワード引数と呼ばれる引数ですので、\n",
        "以下のように `file=...` という形で指定します。"
      ]
    },
    {
      "cell_type": "code",
      "execution_count": 53,
      "metadata": {
        "id": "FAEi6-ZxRbZC"
      },
      "outputs": [],
      "source": [
        "with open('print-test.txt', 'w') as f:\n",
        "    print('hello\\nworld', file=f)\n"
      ]
    },
    {
      "cell_type": "markdown",
      "metadata": {
        "id": "p9iXyaAKRbZD"
      },
      "source": [
        "文字列の中の `\\n` は改行文字を表します。`\\n` は**エスケープシーケンス**（2-1に説明があります）の一種です。\n",
        "エスケープシーケンスには、この他に、復帰文字を表す `\\r` やタブを表す `\\t` などがあります。\n",
        "\n",
        "ファイルの読み書きのモードとしては、**書き込みモード**を意味する `'w'` を指定しています。既に同じ名前のファイルが存在する場合は上書きされます（以前の内容はなくなります）。ファイルがない場合は、新たに作成されます。\n",
        "\n",
        "`'a'` を指定すると、ファイルが存在する場合、既存の内容の後に追記されます。ファイルがない場合は、新たに作成されます。\n",
        "\n",
        "`print` 関数は、デフォルトで、与えられた文字列の末尾に改行文字を加えて印字します。\n",
        "末尾に加える文字は、`end` 引数で指定できます。"
      ]
    },
    {
      "cell_type": "code",
      "execution_count": 54,
      "metadata": {
        "colab": {
          "base_uri": "https://localhost:8080/"
        },
        "id": "B7borQYMRbZE",
        "outputId": "31c2c911-6227-42e9-da2a-472d484c17b7"
      },
      "outputs": [
        {
          "output_type": "stream",
          "name": "stdout",
          "text": [
            "hello\n",
            "world\n",
            "hello world\n",
            "\n"
          ]
        }
      ],
      "source": [
        "with open('print-test.txt', 'a') as f:\n",
        "    print('hello', 'world\\n', end='', file=f) # 改行文字を加えない\n",
        "\n",
        "\n",
        "with open('print-test.txt', 'r') as f:\n",
        "    print(f.read())"
      ]
    },
    {
      "cell_type": "markdown",
      "metadata": {
        "id": "yFGJ0X3YRbZE"
      },
      "source": [
        "また、複数の印字対象を渡すと、デフォルトで、空白文字で区切って印字します。\n",
        "この区切り文字は、`sep` 引数で指定できます。"
      ]
    },
    {
      "cell_type": "code",
      "execution_count": 55,
      "metadata": {
        "colab": {
          "base_uri": "https://localhost:8080/"
        },
        "id": "XettErHKRbZE",
        "outputId": "007905d5-2006-4e0a-a496-33ce6a3dba3b"
      },
      "outputs": [
        {
          "output_type": "stream",
          "name": "stdout",
          "text": [
            "hello\n",
            "world\n",
            "hello world\n",
            "hello, world\n",
            "\n"
          ]
        }
      ],
      "source": [
        "with open('print-test.txt', 'a') as f:\n",
        "    print('hello', 'world', sep=', ', file=f) # 'hello, world'が印字される\n",
        "\n",
        "\n",
        "with open('print-test.txt', 'r') as f:\n",
        "    print(f.read())"
      ]
    },
    {
      "cell_type": "markdown",
      "metadata": {
        "id": "00n0GpDCRbZE"
      },
      "source": [
        "この他にも、ファイルオブジェクトには、より原始的な書き込み用メソッドが用意されています。\n",
        "**`write()`** メソッドは、与えられた1つの文字列を単に書き込みます。\n",
        "次に示すように、`write()` メソッドと `read()` メソッドは、対で使うことが良くあります。"
      ]
    },
    {
      "cell_type": "code",
      "execution_count": 57,
      "metadata": {
        "colab": {
          "base_uri": "https://localhost:8080/"
        },
        "id": "UmDNfjQgRbZE",
        "outputId": "700b8a7e-5e7a-4bec-ccc3-379bc4a7f792"
      },
      "outputs": [
        {
          "output_type": "stream",
          "name": "stdout",
          "text": [
            "sample.txt\n",
            "\n",
            "Lorem ipsum dolor sit amet, consectetur adipiscing elit, sed do eiusmod tempor incididunt ut labore et dolore magna aliqua. Ut enim ad minim veniam, quis nostrud exercitation ullamco laboris nisi ut aliquip ex ea commodo consequat.\n",
            "Duis aute irure dolor in reprehenderit in voluptate velit esse cillum dolore eu fugiat nulla pariatur.\n",
            "Excepteur sint occaecat cupidatat non proident, sunt in culpa qui officia deserunt mollit anim id est laborum.\n",
            "\n",
            "sample.txt.bak\n",
            "\n",
            "Lorem ipsum dolor sit amet, consectetur adipiscing elit, sed do eiusmod tempor incididunt ut labore et dolore magna aliqua. Ut enim ad minim veniam, quis nostrud exercitation ullamco laboris nisi ut aliquip ex ea commodo consequat.\n",
            "Duis aute irure dolor in reprehenderit in voluptate velit esse cillum dolore eu fugiat nulla pariatur.\n",
            "Excepteur sint occaecat cupidatat non proident, sunt in culpa qui officia deserunt mollit anim id est laborum.\n",
            "\n"
          ]
        }
      ],
      "source": [
        "with open('sample.txt') as src, open('sample.txt.bak', 'w') as dst:\n",
        "    dst.write(src.read())\n",
        "\n",
        "print(\"sample.txt\\n\")\n",
        "with open('sample.txt', 'r') as f:\n",
        "    print(f.read())\n",
        "\n",
        "print(\"sample.txt.bak\\n\")\n",
        "with open('sample.txt.bak', 'r') as f:\n",
        "    print(f.read())"
      ]
    },
    {
      "cell_type": "markdown",
      "metadata": {
        "id": "omy0JULdRbZE"
      },
      "source": [
        "このコードは、`sample.txt` を `sample.txt.bak` にコピーします。"
      ]
    },
    {
      "cell_type": "markdown",
      "metadata": {
        "id": "H2Zm6jmpRbZE"
      },
      "source": [
        "## 練習\n",
        "\n",
        "2つのファイル名 `infile`, `outfile` を引数として、`infile` の半角英文字を全て大文字にした結果を `outfile` に書き込む `file_upper(infile, outfile)` という関数を作成してください。   \n",
        "\n",
        "なお、半角英文字の小文字を大文字に変換するには `upper()` というメソッドが使えます。\n",
        "たとえば `line` という名前の変数に半角文字列が入っている場合、`line.upper()` とすれば大文字に変換した文字列を返します。"
      ]
    },
    {
      "cell_type": "code",
      "execution_count": 67,
      "metadata": {
        "id": "3E8GMrknRbZF"
      },
      "outputs": [],
      "source": [
        "def file_upper(infile,outfile):\n",
        "    with open(infile) as src, open('outfile', 'w') as dst:\n",
        "      dst.write((src.read()).upper())\n"
      ]
    },
    {
      "cell_type": "markdown",
      "metadata": {
        "id": "vmqDrpQ-RbZF"
      },
      "source": [
        "上のセルで解答を作成した後、以下のセルを実行し、実行結果が `True` になることを確認してください。"
      ]
    },
    {
      "cell_type": "code",
      "execution_count": 68,
      "metadata": {
        "tags": [
          "raises-exception"
        ],
        "colab": {
          "base_uri": "https://localhost:8080/"
        },
        "id": "MQJyfH2HRbZF",
        "outputId": "182d9296-10ce-429e-bfc6-3e5032cdb400"
      },
      "outputs": [
        {
          "output_type": "stream",
          "name": "stdout",
          "text": [
            "True\n"
          ]
        }
      ],
      "source": [
        "with open('print-test.txt', 'w') as f:\n",
        "    print('hello', 'world', file=f)\n",
        "file_upper('print-test.txt', 'print-test-upper.txt')\n",
        "with open('print-test-upper.txt', 'r') as f:\n",
        "    print(f.read() == 'HELLO WORLD\\n')"
      ]
    },
    {
      "cell_type": "markdown",
      "metadata": {
        "id": "37uc1efKRbZF"
      },
      "source": [
        "## ファイルの読み書きにおける文字コード指定\n",
        "\n",
        "`open` でファイルを開くと、通常そのファイルをテキストモードで開きます（テキストモード以外にバイナリモードもあります）。\n",
        "\n",
        "テキストモードでファイルを開くときは、さらに特定の**文字コード**によってそのファイルを開こうとします。\n",
        "文字コードを指定しないと、デフォルトの文字コードでそのファイルを開こうとしますが、\n",
        "この文字コードがファイルを書き込む際に指定したものと異なる場合、エラーが出たり文字化けしてしまいます。\n",
        "\n",
        "デフォルトの文字コードは、WindowsはShift_JIS、macOSやLinuxはUTF-8になっていることが多いです。\n",
        "UTF-8で文字を記録されたファイルをWindowsで、ただ `open('utf-8.txt', 'w')` のように文字コードを指定せずに開くとエラーが出ます。\n",
        "同じく、Shift_JISで文字を記録されたファイルをmacOSで `open('shift_jis.txt', 'w')` として開くとエラーが出ます。\n",
        "\n",
        "なお、この教材の冒頭で `open('sample.txt', 'r')` と、文字コードを指定せずにファイルを開きましたがエラーは出ませんでしたね。\n",
        "これは、`sample.txt` では半角英数字しか使われておらず、半角英数字に関しては、Shift_JISもUTF-8も共通のルールでエンコードされているためです。"
      ]
    },
    {
      "cell_type": "code",
      "execution_count": 69,
      "metadata": {
        "tags": [
          "raises-exception"
        ],
        "colab": {
          "base_uri": "https://localhost:8080/",
          "height": 261
        },
        "id": "Ykz69h8ZRbZF",
        "outputId": "449a915d-9471-473f-e3e7-12b748a74866"
      },
      "outputs": [
        {
          "output_type": "error",
          "ename": "UnicodeDecodeError",
          "evalue": "'utf-8' codec can't decode byte 0x82 in position 0: invalid start byte",
          "traceback": [
            "\u001b[0;31m---------------------------------------------------------------------------\u001b[0m",
            "\u001b[0;31mUnicodeDecodeError\u001b[0m                        Traceback (most recent call last)",
            "\u001b[0;32m/tmp/ipython-input-1730420542.py\u001b[0m in \u001b[0;36m<cell line: 0>\u001b[0;34m()\u001b[0m\n\u001b[1;32m      1\u001b[0m \u001b[0;31m# macOSならこちらでエラー\u001b[0m\u001b[0;34m\u001b[0m\u001b[0;34m\u001b[0m\u001b[0m\n\u001b[1;32m      2\u001b[0m \u001b[0;32mwith\u001b[0m \u001b[0mopen\u001b[0m\u001b[0;34m(\u001b[0m\u001b[0;34m'shift_jis.txt'\u001b[0m\u001b[0;34m,\u001b[0m \u001b[0;34m'r'\u001b[0m\u001b[0;34m)\u001b[0m \u001b[0;32mas\u001b[0m \u001b[0mf\u001b[0m\u001b[0;34m:\u001b[0m\u001b[0;34m\u001b[0m\u001b[0;34m\u001b[0m\u001b[0m\n\u001b[0;32m----> 3\u001b[0;31m     \u001b[0mprint\u001b[0m\u001b[0;34m(\u001b[0m\u001b[0mf\u001b[0m\u001b[0;34m.\u001b[0m\u001b[0mread\u001b[0m\u001b[0;34m(\u001b[0m\u001b[0;34m)\u001b[0m\u001b[0;34m)\u001b[0m\u001b[0;34m\u001b[0m\u001b[0;34m\u001b[0m\u001b[0m\n\u001b[0m\u001b[1;32m      4\u001b[0m \u001b[0;34m\u001b[0m\u001b[0m\n\u001b[1;32m      5\u001b[0m \u001b[0;31m# Windowsならこちらでエラー\u001b[0m\u001b[0;34m\u001b[0m\u001b[0;34m\u001b[0m\u001b[0m\n",
            "\u001b[0;32m/usr/lib/python3.12/codecs.py\u001b[0m in \u001b[0;36mdecode\u001b[0;34m(self, input, final)\u001b[0m\n",
            "\u001b[0;31mUnicodeDecodeError\u001b[0m: 'utf-8' codec can't decode byte 0x82 in position 0: invalid start byte"
          ]
        }
      ],
      "source": [
        "# macOSならこちらでエラー\n",
        "with open('shift_jis.txt', 'r') as f:\n",
        "    print(f.read())\n",
        "\n",
        "# Windowsならこちらでエラー\n",
        "with open('utf-8.txt', 'r') as f:\n",
        "    print(f.read())"
      ]
    },
    {
      "cell_type": "markdown",
      "metadata": {
        "id": "UD8gUWAoRbZF"
      },
      "source": [
        "特に半角英数以外の文字を記録する際は文字コードを指定すること、またそのようなファイルを開くときは、記録するときに指定した文字コードでファイルを開いてください。\n",
        "\n",
        "文字コードは、`open` のキーワード引数として\n",
        "`encoding='utf-8'`（文字コードにUTF-8を指定する場合）のように指定することができます。\n",
        "\n",
        "なお、日本語の文字コードには `UTF-8`, `Shift_JIS`, `EUC-JP` などがありますが、PythonではOSの種類に限らず、UTF-8という文字コードがよく使われます。本授業でもUTF-8を推奨します。"
      ]
    },
    {
      "cell_type": "code",
      "execution_count": 70,
      "metadata": {
        "tags": [
          "raises-exception"
        ],
        "colab": {
          "base_uri": "https://localhost:8080/"
        },
        "id": "fj9H9F3hRbZF",
        "outputId": "3f888010-a737-4451-a6f1-855013305377"
      },
      "outputs": [
        {
          "output_type": "stream",
          "name": "stdout",
          "text": [
            "あいうえお\n",
            "あいうえお\n",
            "かきくけこ\n"
          ]
        }
      ],
      "source": [
        "# 文字コードを指定しないとmacOSならこちらでエラー\n",
        "with open('shift_jis.txt', 'r', encoding='shift_jis') as f:\n",
        "    print(f.read())\n",
        "\n",
        "# 文字コードを指定しないとWindowsならこちらでエラー\n",
        "with open('utf-8.txt', 'r', encoding='utf-8') as f:\n",
        "    print(f.read())\n",
        "\n",
        "# 文字コードを指定してファイルに書き込む場合\n",
        "with open('text.txt', 'w', encoding='utf-8') as f:\n",
        "    f.write('かきくけこ')\n",
        "with open('text.txt', 'r', encoding='utf-8') as f:\n",
        "    print(f.read())"
      ]
    },
    {
      "cell_type": "markdown",
      "metadata": {
        "id": "vph8HngeRbZF"
      },
      "source": [
        "## 改行文字の削除\n",
        "\n",
        "ファイルをテキストモードで開いて `read()` や `readline()` を呼び出すと、\n",
        "`str` 型の文字列として読み込まれます。\n",
        "\n",
        "文字列の末尾にある改行文字の削除には、2-1で紹介した `rstrip` メソッドが使えます。\n",
        "ただし、無引数で呼び出すと、改行文字以外の空白文字もまとめて削除されます。"
      ]
    },
    {
      "cell_type": "code",
      "execution_count": 71,
      "metadata": {
        "colab": {
          "base_uri": "https://localhost:8080/",
          "height": 36
        },
        "id": "PQUb9xinRbZF",
        "outputId": "29a53971-244d-4173-f692-e971ba9062e4"
      },
      "outputs": [
        {
          "output_type": "execute_result",
          "data": {
            "text/plain": [
              "'あいうえお'"
            ],
            "application/vnd.google.colaboratory.intrinsic+json": {
              "type": "string"
            }
          },
          "metadata": {},
          "execution_count": 71
        }
      ],
      "source": [
        "'あいうえお \\n'.rstrip()"
      ]
    },
    {
      "cell_type": "markdown",
      "metadata": {
        "id": "k8HDnZflRbZF"
      },
      "source": [
        "削除する空白文字を改行文字 `'\\n'` に限定したい場合には、 `rstrip` の引数に指定します。"
      ]
    },
    {
      "cell_type": "code",
      "execution_count": 72,
      "metadata": {
        "colab": {
          "base_uri": "https://localhost:8080/",
          "height": 36
        },
        "id": "YkdnrYnFRbZG",
        "outputId": "a0084410-ed69-4d24-f8f2-7d0c1732a66a"
      },
      "outputs": [
        {
          "output_type": "execute_result",
          "data": {
            "text/plain": [
              "'あいうえお '"
            ],
            "application/vnd.google.colaboratory.intrinsic+json": {
              "type": "string"
            }
          },
          "metadata": {},
          "execution_count": 72
        }
      ],
      "source": [
        "'あいうえお \\n\\n'.rstrip('\\n')"
      ]
    },
    {
      "cell_type": "markdown",
      "metadata": {
        "id": "64LvjFC3RbZG"
      },
      "source": [
        "上の例から分かるように、末尾の改行文字をただ1つ削除したい場合には、 `rstrip('\\n')` は適していません。\n",
        "しかし、 `readline()` の返す文字列には、末尾に高々1つの `'\\n'` しか存在しないので、 `rstrip('\\n')` で問題ありません。"
      ]
    },
    {
      "cell_type": "code",
      "execution_count": 74,
      "metadata": {
        "colab": {
          "base_uri": "https://localhost:8080/"
        },
        "id": "ZpbXrMhBRbZG",
        "outputId": "bbce0e31-f617-4e10-8a06-ce62b4409a65"
      },
      "outputs": [
        {
          "output_type": "stream",
          "name": "stdout",
          "text": [
            "二人の若い紳士が、すつかりイギリスの兵隊のかたちをして、ぴか／＼する鉄砲をかついで、白熊のやうな犬を二疋つれて、だいぶ山奥の、木の葉のかさ／＼したとこを、こんなことを云ひながら、あるいてをりました。\n",
            "\n",
            "「ぜんたい、こゝらの山は怪しからんね。鳥も獣も一疋も居やがらん。なんでも構はないから、早くタンタアーンと、やつて見たいもんだなあ。」\n",
            "\n",
            "「鹿の黄いろな横つ腹なんぞに、二三発お見舞まうしたら、ずゐぶん痛快だらうねえ。くる／＼まはつて、それからどたつと倒れるだらうねえ。」\n",
            "\n",
            "------ 末尾の改行文字を削除すると以下のようになります-------\n",
            "二人の若い紳士が、すつかりイギリスの兵隊のかたちをして、ぴか／＼する鉄砲をかついで、白熊のやうな犬を二疋つれて、だいぶ山奥の、木の葉のかさ／＼したとこを、こんなことを云ひながら、あるいてをりました。\n",
            "「ぜんたい、こゝらの山は怪しからんね。鳥も獣も一疋も居やがらん。なんでも構はないから、早くタンタアーンと、やつて見たいもんだなあ。」\n",
            "「鹿の黄いろな横つ腹なんぞに、二三発お見舞まうしたら、ずゐぶん痛快だらうねえ。くる／＼まはつて、それからどたつと倒れるだらうねえ。」\n"
          ]
        }
      ],
      "source": [
        "with open('text/novel.txt', 'r', encoding='utf-8') as f:\n",
        "    while True:\n",
        "        line = f.readline()\n",
        "        if line == '':\n",
        "            break\n",
        "        print(line)\n",
        "\n",
        "print('------ 末尾の改行文字を削除すると以下のようになります-------')\n",
        "with open('text/novel.txt', 'r', encoding='utf-8') as f:\n",
        "    while True:\n",
        "        line = f.readline()\n",
        "        if line == '':\n",
        "            break\n",
        "        print(line.rstrip('\\n'))"
      ]
    },
    {
      "cell_type": "markdown",
      "metadata": {
        "id": "B0xkZwgaRbZG"
      },
      "source": [
        "## 練習の解答"
      ]
    },
    {
      "cell_type": "code",
      "execution_count": null,
      "metadata": {
        "id": "NNF_qghmRbZG"
      },
      "outputs": [],
      "source": [
        "def  number_of_characters(name):\n",
        "    f = open(name, 'r')\n",
        "    s = f.read()\n",
        "    f.close()\n",
        "    return len(s)"
      ]
    },
    {
      "cell_type": "code",
      "execution_count": null,
      "metadata": {
        "id": "lgOFUmbBRbZG"
      },
      "outputs": [],
      "source": [
        "def last_line(name):\n",
        "    last = ''\n",
        "    with open(name, 'r') as f:\n",
        "        while True:\n",
        "            line = f.readline()\n",
        "            if line == '':\n",
        "                return last\n",
        "            last = line"
      ]
    },
    {
      "cell_type": "code",
      "execution_count": null,
      "metadata": {
        "id": "aweDJ83CRbZG"
      },
      "outputs": [],
      "source": [
        "def file_upper(infile,outfile):\n",
        "    with open(infile, 'r') as f:\n",
        "        with open(outfile, 'w') as g:\n",
        "            g.write(f.read().upper())"
      ]
    },
    {
      "cell_type": "markdown",
      "metadata": {
        "id": "nCDkj84URbZG"
      },
      "source": [
        "以下のように1つのwith文に複数の `open` を書くこともできます。"
      ]
    },
    {
      "cell_type": "code",
      "execution_count": null,
      "metadata": {
        "id": "pmMq_ortRbZG"
      },
      "outputs": [],
      "source": [
        "def file_upper(infile,outfile):\n",
        "    with open(infile, 'r') as f, open(outfile, 'w') as g:\n",
        "        g.write(f.read().upper())"
      ]
    },
    {
      "cell_type": "code",
      "execution_count": null,
      "metadata": {
        "id": "H9L79u1oRbZG"
      },
      "outputs": [],
      "source": []
    }
  ],
  "metadata": {
    "kernelspec": {
      "display_name": "Python 3",
      "language": "python",
      "name": "python3"
    },
    "language_info": {
      "name": "python"
    },
    "colab": {
      "provenance": []
    }
  },
  "nbformat": 4,
  "nbformat_minor": 0
}