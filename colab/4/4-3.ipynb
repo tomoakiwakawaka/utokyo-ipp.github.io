{
  "cells": [
    {
      "cell_type": "code",
      "execution_count": 1,
      "metadata": {
        "id": "1BDMqUjtl-Ha",
        "outputId": "ab2ffc7a-3833-4506-bd1c-11c5376c97db",
        "colab": {
          "base_uri": "https://localhost:8080/"
        }
      },
      "outputs": [
        {
          "output_type": "stream",
          "name": "stdout",
          "text": [
            "--2025-08-22 07:04:46--  https://raw.githubusercontent.com/utokyo-ipp/utokyo-ipp.github.io/master/colab/4/utf-8.txt\n",
            "Resolving raw.githubusercontent.com (raw.githubusercontent.com)... 185.199.108.133, 185.199.109.133, 185.199.110.133, ...\n",
            "Connecting to raw.githubusercontent.com (raw.githubusercontent.com)|185.199.108.133|:443... connected.\n",
            "HTTP request sent, awaiting response... 200 OK\n",
            "Length: 15 [text/plain]\n",
            "Saving to: ‘./utf-8.txt’\n",
            "\n",
            "\rutf-8.txt             0%[                    ]       0  --.-KB/s               \rutf-8.txt           100%[===================>]      15  --.-KB/s    in 0s      \n",
            "\n",
            "2025-08-22 07:04:46 (234 KB/s) - ‘./utf-8.txt’ saved [15/15]\n",
            "\n",
            "--2025-08-22 07:04:46--  https://raw.githubusercontent.com/utokyo-ipp/utokyo-ipp.github.io/master/colab/4/shift_jis.txt\n",
            "Resolving raw.githubusercontent.com (raw.githubusercontent.com)... 185.199.108.133, 185.199.109.133, 185.199.110.133, ...\n",
            "Connecting to raw.githubusercontent.com (raw.githubusercontent.com)|185.199.108.133|:443... connected.\n",
            "HTTP request sent, awaiting response... 200 OK\n",
            "Length: 10 [application/octet-stream]\n",
            "Saving to: ‘./shift_jis.txt’\n",
            "\n",
            "shift_jis.txt       100%[===================>]      10  --.-KB/s    in 0s      \n",
            "\n",
            "2025-08-22 07:04:46 (157 KB/s) - ‘./shift_jis.txt’ saved [10/10]\n",
            "\n",
            "--2025-08-22 07:04:46--  https://raw.githubusercontent.com/utokyo-ipp/utokyo-ipp.github.io/master/colab/4/test.txt\n",
            "Resolving raw.githubusercontent.com (raw.githubusercontent.com)... 185.199.108.133, 185.199.111.133, 185.199.109.133, ...\n",
            "Connecting to raw.githubusercontent.com (raw.githubusercontent.com)|185.199.108.133|:443... connected.\n",
            "HTTP request sent, awaiting response... 200 OK\n",
            "Length: 446 [text/plain]\n",
            "Saving to: ‘./test.txt’\n",
            "\n",
            "test.txt            100%[===================>]     446  --.-KB/s    in 0s      \n",
            "\n",
            "2025-08-22 07:04:46 (5.21 MB/s) - ‘./test.txt’ saved [446/446]\n",
            "\n",
            "--2025-08-22 07:04:46--  https://raw.githubusercontent.com/utokyo-ipp/utokyo-ipp.github.io/master/colab/4/sample.txt\n",
            "Resolving raw.githubusercontent.com (raw.githubusercontent.com)... 185.199.108.133, 185.199.109.133, 185.199.110.133, ...\n",
            "Connecting to raw.githubusercontent.com (raw.githubusercontent.com)|185.199.108.133|:443... connected.\n",
            "HTTP request sent, awaiting response... 200 OK\n",
            "Length: 446 [text/plain]\n",
            "Saving to: ‘./sample.txt’\n",
            "\n",
            "sample.txt          100%[===================>]     446  --.-KB/s    in 0s      \n",
            "\n",
            "2025-08-22 07:04:46 (7.40 MB/s) - ‘./sample.txt’ saved [446/446]\n",
            "\n",
            "--2025-08-22 07:04:46--  https://raw.githubusercontent.com/utokyo-ipp/utokyo-ipp.github.io/master/colab/4/text/novel.txt\n",
            "Resolving raw.githubusercontent.com (raw.githubusercontent.com)... 185.199.109.133, 185.199.110.133, 185.199.108.133, ...\n",
            "Connecting to raw.githubusercontent.com (raw.githubusercontent.com)|185.199.109.133|:443... connected.\n",
            "HTTP request sent, awaiting response... 200 OK\n",
            "Length: 696 [text/plain]\n",
            "Saving to: ‘text/novel.txt’\n",
            "\n",
            "novel.txt           100%[===================>]     696  --.-KB/s    in 0s      \n",
            "\n",
            "2025-08-22 07:04:46 (18.8 MB/s) - ‘text/novel.txt’ saved [696/696]\n",
            "\n"
          ]
        }
      ],
      "source": [
        "##================================================\n",
        "## このセルを最初に実行せよ---Run this cell first.\n",
        "##================================================\n",
        "!wget -P . https://raw.githubusercontent.com/utokyo-ipp/utokyo-ipp.github.io/master/colab/4/utf-8.txt\n",
        "!wget -P . https://raw.githubusercontent.com/utokyo-ipp/utokyo-ipp.github.io/master/colab/4/shift_jis.txt\n",
        "!wget -P . https://raw.githubusercontent.com/utokyo-ipp/utokyo-ipp.github.io/master/colab/4/test.txt\n",
        "!wget -P . https://raw.githubusercontent.com/utokyo-ipp/utokyo-ipp.github.io/master/colab/4/sample.txt\n",
        "!wget -P text https://raw.githubusercontent.com/utokyo-ipp/utokyo-ipp.github.io/master/colab/4/text/novel.txt"
      ]
    },
    {
      "cell_type": "markdown",
      "metadata": {
        "id": "y70_UwkAl-Hd"
      },
      "source": [
        "# 4-3. ディレクトリと木構造\n",
        "\n",
        "ディレクトリと木構造について説明します。\n",
        "この内容はPythonというよりも、Windows・macOS・Linuxなどの一般的なOSに共通する概念です。\n",
        "なお、Colaboratoryは、仮想マシン上のLinuxの上で動作しています。\n",
        "\n",
        "## ディレクトリと階層構造\n",
        "\n",
        "OS上でのファイルは一般に、階層的に管理されています。\n",
        "ファイルが置かれる場所のことを、**ディレクトリ**と呼びます。\n",
        "ファイルをまとめることから、**フォルダ**とも呼ばれます。\n",
        "\n",
        "[zip版の教材](https://utokyo-ipp.github.io/IPP_textbook.zip)を、`IPP_textbook` ディレクトリに展開すると、次のような階層構造になります。\n",
        "\n",
        "```\n",
        "IPP_textbook\n",
        "├── 1\n",
        "│   ├── 1-0.ipynb\n",
        "│   ├── 1-1.ipynb\n",
        "│   ├── 1-2.ipynb\n",
        "│   ├── 1-3.ipynb\n",
        "│   ├── 1-4.ipynb\n",
        "│   ├── colab1.png\n",
        "│   ├── colab2.png\n",
        "│   ├── colab3.png\n",
        "│   ├── colab4.png\n",
        "│   └── colaboratory.png\n",
        "├── 2\n",
        "│   ├── 2-1.ipynb\n",
        "│   ├── 2-2.ipynb\n",
        "│   └── 2-3.ipynb\n",
        "├── 3\n",
        "│   ├── 3-1.ipynb\n",
        "│   ├── 3-2.ipynb\n",
        "│   └── 3-3.ipynb\n",
        "├── 4\n",
        "│   ├── 4-1.ipynb\n",
        "│   ├── 4-2.ipynb\n",
        "│   ├── 4-3.ipynb\n",
        "│   ├── sample.txt\n",
        "│   ├── shift_jis.txt\n",
        "│   ├── test.txt\n",
        "│   ├── text\n",
        "│   │   └── novel.txt\n",
        "│   └── utf-8.txt\n",
        "├── 5\n",
        "│   ├── 5-1.ipynb\n",
        "│   ├── 5-2.ipynb\n",
        "│   ├── 5-3.ipynb\n",
        "│   ├── factorial.py\n",
        "│   └── fig\n",
        "│       ├── py_conv_1.png\n",
        "│       ├── py_conv_2.png\n",
        "│       ├── py_open_1.png\n",
        "│       └── py_open_2.png\n",
        "├── 6\n",
        "│   ├── 6-1.ipynb\n",
        "│   ├── 6-2.ipynb\n",
        "│   ├── 6-3.ipynb\n",
        "│   └── jugemu.txt\n",
        "├── 7\n",
        "│   ├── 7-1.ipynb\n",
        "│   ├── 7-2.ipynb\n",
        "│   └── iris.csv\n",
        "├── appendix\n",
        "│   ├── 1-jupyter-notebook.ipynb\n",
        "│   ├── 2-set.ipynb\n",
        "│   ├── 3-recursion.ipynb\n",
        "│   ├── 3-visualization.ipynb\n",
        "│   ├── 4-csv.ipynb\n",
        "│   ├── 5-bokeh.ipynb\n",
        "│   ├── 5-command.ipynb\n",
        "│   ├── 5-matplotlib.ipynb\n",
        "│   ├── 5-re.ipynb\n",
        "│   ├── argsprint.py\n",
        "│   ├── B1S.xml\n",
        "│   ├── fig\n",
        "│   │   ├── argsprint.png\n",
        "│   │   ├── console_in_browser.png\n",
        "│   │   ├── py_conv_1.png\n",
        "│   │   ├── py_conv_2.png\n",
        "│   │   ├── py_open_1.png\n",
        "│   │   ├── py_open_2.png\n",
        "│   │   ├── sample_py_browser.png\n",
        "│   │   ├── sample_py_mac_1.png\n",
        "│   │   ├── sample_py_mac_2.png\n",
        "│   │   ├── sample_py_mac_3.png\n",
        "│   │   ├── sample_py_win_1.png\n",
        "│   │   ├── sample_py_win2_1.png\n",
        "│   │   ├── sample_py_win2_2.png\n",
        "│   │   ├── sample_py_win2_3.png\n",
        "│   │   ├── sample_py_win_2.png\n",
        "│   │   ├── sample_py_win_3.png\n",
        "│   │   └── terminal_in_menu.png\n",
        "│   ├── sample.py\n",
        "│   ├── small.csv\n",
        "│   ├── text-sample.txt\n",
        "│   ├── tokyo-july-temps.csv\n",
        "│   └── tokyo-temps.csv\n",
        "├── index.ipynb\n",
        "├── index_of_terms.ipynb\n",
        "└── LICENSE\n",
        "```\n",
        "\n",
        "ここで、末端にあるものがファイルであり、末端以外にあるものがディレクトリ（フォルダ）です。"
      ]
    },
    {
      "cell_type": "markdown",
      "metadata": {
        "id": "lRXT4jyPl-Hf"
      },
      "source": [
        "## カレントワーキングディレクトリ\n",
        "\n",
        "プログラムは、必ずどこかのディレクトリで動いています。\n",
        "このプログラムが動作しているディレクトリのことを、**ワーキングディレクトリ**（もしくは**作業ディレクトリ**）と呼びます。\n",
        "通例、特にWindowsやmacOSでは、何らかのファイルをクリックしてアプリケーションが起動したとき、その開いたファイルのある場所がワーキングディレクトリになります。\n",
        "\n",
        "ワーキングディレクトリは、プログラムの実行中に変更できます。\n",
        "Python上では [**`os.chdir`**](https://docs.python.org/ja/3/library/os.html#os.chdir) を使うことで変更できます。\n",
        "\n",
        "プログラム実行中の現在のワーキングディレクトリのことを、**カレントワーキングディレクトリ**、もしくは単に**カレントディレクトリ**と呼びます。\n",
        "カレントディレクトリは頻繁に利用するので、 `.` という特別な記号によって表現できます。"
      ]
    },
    {
      "cell_type": "markdown",
      "metadata": {
        "id": "0fKBnDJHl-Hf"
      },
      "source": [
        "## パス\n",
        "\n",
        "カレントディレクトリに置かれているファイルは、ファイル名を指定するだけで開くことができます。\n",
        "だから、4-1で示したように、カレントディレクトリにある `sample.txt` は、ファイル名を指定するだけで開けます。"
      ]
    },
    {
      "cell_type": "code",
      "execution_count": 2,
      "metadata": {
        "id": "bKLSxo8Xl-Hf",
        "outputId": "c2117d37-36d4-44d7-b7f3-f8f5f9081e53",
        "colab": {
          "base_uri": "https://localhost:8080/"
        }
      },
      "outputs": [
        {
          "output_type": "execute_result",
          "data": {
            "text/plain": [
              "<_io.TextIOWrapper name='sample.txt' mode='r' encoding='utf-8'>"
            ]
          },
          "metadata": {},
          "execution_count": 2
        }
      ],
      "source": [
        "open('sample.txt', 'r', encoding='utf-8')"
      ]
    },
    {
      "cell_type": "markdown",
      "metadata": {
        "id": "PoxVgUxcl-Hg"
      },
      "source": [
        "一方、それ以外の場所にあるファイルについては、そのファイルのディレクトリまで含めて指定しなければ、開くことができません。"
      ]
    },
    {
      "cell_type": "code",
      "execution_count": 3,
      "metadata": {
        "id": "e0o_Nlj5l-Hg",
        "outputId": "ebae1eab-95f5-4ee6-b7f4-8d1c0d1081f5",
        "colab": {
          "base_uri": "https://localhost:8080/",
          "height": 149
        }
      },
      "outputs": [
        {
          "output_type": "error",
          "ename": "FileNotFoundError",
          "evalue": "[Errno 2] No such file or directory: 'novel.txt'",
          "traceback": [
            "\u001b[0;31m---------------------------------------------------------------------------\u001b[0m",
            "\u001b[0;31mFileNotFoundError\u001b[0m                         Traceback (most recent call last)",
            "\u001b[0;32m/tmp/ipython-input-2699753231.py\u001b[0m in \u001b[0;36m<cell line: 0>\u001b[0;34m()\u001b[0m\n\u001b[0;32m----> 1\u001b[0;31m \u001b[0mopen\u001b[0m\u001b[0;34m(\u001b[0m\u001b[0;34m'novel.txt'\u001b[0m\u001b[0;34m,\u001b[0m \u001b[0;34m'r'\u001b[0m\u001b[0;34m)\u001b[0m\u001b[0;34m\u001b[0m\u001b[0;34m\u001b[0m\u001b[0m\n\u001b[0m",
            "\u001b[0;31mFileNotFoundError\u001b[0m: [Errno 2] No such file or directory: 'novel.txt'"
          ]
        }
      ],
      "source": [
        "open('novel.txt', 'r')"
      ]
    },
    {
      "cell_type": "markdown",
      "metadata": {
        "id": "7ZfZHygvl-Hg"
      },
      "source": [
        "カレントディレクトリに存在しない `novel.txt` を開こうとしたので `FileNotFoundError` が生じました。\n",
        "`novel.txt` は、`text` というディレクトリの中にあるので、それ明示するために、`/` で区切って、次のように指定します。"
      ]
    },
    {
      "cell_type": "code",
      "execution_count": 4,
      "metadata": {
        "id": "PpMSqEupl-Hh",
        "outputId": "a7c9b66c-7381-46eb-faec-c7318c26d0cd",
        "colab": {
          "base_uri": "https://localhost:8080/"
        }
      },
      "outputs": [
        {
          "output_type": "execute_result",
          "data": {
            "text/plain": [
              "<_io.TextIOWrapper name='text/novel.txt' mode='r' encoding='utf-8'>"
            ]
          },
          "metadata": {},
          "execution_count": 4
        }
      ],
      "source": [
        "open('text/novel.txt', 'r', encoding='utf-8')"
      ]
    },
    {
      "cell_type": "markdown",
      "metadata": {
        "id": "vFz0GcZql-Hh"
      },
      "source": [
        "実は、カレントディレクトリにあるファイルが、ファイル名の指定だけで開けるのは、自動的に `./` が補われていたからでした。\n",
        "\n",
        "`open` の第1引数に渡す文字列ような、ファイルやディレクトリの場所を指定する表記を、**パス**と呼びます。\n",
        "パス（経路）と呼ぶのは、`/` 区切りで1歩ずつ次に進むディレクトリを指定することに由来しています。\n",
        "\n",
        "パスを記述する際、ルートディレクトリは `/` で表されます。\n",
        "ルートディレクトリから始まるパスを、**絶対パス**と呼びます。\n",
        "一方、カレントディレクトリからのパスを、**相対パス**と呼びます。\n",
        "パス表記において `/` 以外から始まる場合は、自動的に先頭に `./` が補われて、相対パスとして扱われます。\n",
        "\n",
        "さて、`./text/` というパス表記は、カレントディレクトリにある一段下の `text` ディレクトリに進むことに対応します。\n",
        "これに、一段上のディレクトリを表す `..` を組み合わせることで、より柔軟にパスを指定できます。\n",
        "\n",
        "たとえば、`./text/../` は `./` と同じディレクトリを指します。"
      ]
    },
    {
      "cell_type": "code",
      "execution_count": 5,
      "metadata": {
        "id": "UfduRjWjl-Hh",
        "outputId": "101097a5-3bed-40b9-fa53-77726c320215",
        "colab": {
          "base_uri": "https://localhost:8080/"
        }
      },
      "outputs": [
        {
          "output_type": "stream",
          "name": "stdout",
          "text": [
            "Lorem ipsum dolor sit amet, consectetur adipiscing elit, sed do eiusmod tempor incididunt ut labore et dolore magna aliqua. Ut enim ad minim veniam, quis nostrud exercitation ullamco laboris nisi ut aliquip ex ea commodo consequat.\n",
            "Duis aute irure dolor in reprehenderit in voluptate velit esse cillum dolore eu fugiat nulla pariatur.\n",
            "Excepteur sint occaecat cupidatat non proident, sunt in culpa qui officia deserunt mollit anim id est laborum.\n"
          ]
        }
      ],
      "source": [
        "with open('sample.txt', 'r', encoding='utf-8') as f:\n",
        "    print(f.read(), end='')"
      ]
    },
    {
      "cell_type": "code",
      "execution_count": 6,
      "metadata": {
        "id": "eoqszO_ol-Hh",
        "outputId": "a40ec30d-cc1d-42b2-dd6c-7b40a137efd3",
        "colab": {
          "base_uri": "https://localhost:8080/"
        }
      },
      "outputs": [
        {
          "output_type": "stream",
          "name": "stdout",
          "text": [
            "Lorem ipsum dolor sit amet, consectetur adipiscing elit, sed do eiusmod tempor incididunt ut labore et dolore magna aliqua. Ut enim ad minim veniam, quis nostrud exercitation ullamco laboris nisi ut aliquip ex ea commodo consequat.\n",
            "Duis aute irure dolor in reprehenderit in voluptate velit esse cillum dolore eu fugiat nulla pariatur.\n",
            "Excepteur sint occaecat cupidatat non proident, sunt in culpa qui officia deserunt mollit anim id est laborum.\n"
          ]
        }
      ],
      "source": [
        "with open('./text/../sample.txt', 'r', encoding='utf-8') as f:\n",
        "    print(f.read(), end='')"
      ]
    },
    {
      "cell_type": "markdown",
      "metadata": {
        "id": "N1TTjHt4l-Hh"
      },
      "source": [
        "また、カレントディレクトリを `./text/` に変化させた後に、`sample.txt` を開くときには、`../sample.txt` と指定することができます。"
      ]
    },
    {
      "cell_type": "code",
      "execution_count": 7,
      "metadata": {
        "id": "ms1y_PUbl-Hi",
        "outputId": "750aefc1-f30a-4ce0-c7ab-5d509ece6671",
        "colab": {
          "base_uri": "https://localhost:8080/"
        }
      },
      "outputs": [
        {
          "output_type": "stream",
          "name": "stdout",
          "text": [
            "Lorem ipsum dolor sit amet, consectetur adipiscing elit, sed do eiusmod tempor incididunt ut labore et dolore magna aliqua. Ut enim ad minim veniam, quis nostrud exercitation ullamco laboris nisi ut aliquip ex ea commodo consequat.\n",
            "Duis aute irure dolor in reprehenderit in voluptate velit esse cillum dolore eu fugiat nulla pariatur.\n",
            "Excepteur sint occaecat cupidatat non proident, sunt in culpa qui officia deserunt mollit anim id est laborum.\n",
            "\n"
          ]
        }
      ],
      "source": [
        "import os\n",
        "os.chdir('./text') # 1段下の text に行く\n",
        "with open('../sample.txt', 'r', encoding='utf-8') as f:\n",
        "    print(f.read())\n",
        "os.chdir('..') # 元のディレクトリに戻る"
      ]
    },
    {
      "cell_type": "markdown",
      "metadata": {
        "id": "08v-Ym1Ml-Hi"
      },
      "source": [
        "## 木構造\n",
        "\n",
        "ディレクトリの階層構造は、木を逆さにしたような形になっています。\n",
        "このことから、**木構造**もしくは単に**木**（tree）と呼ばれます。\n",
        "\n",
        "木構造の観点で、最上位の階層は**根**（root）と呼ばれ、末端は**葉**（leaf）と呼ばれます。\n",
        "木構造を成す要素（ここではファイルやディレクトリ）は，一般に**ノード**（node）と呼ばれます。\n",
        "\n",
        "階層構造における包含関係は、木構造では親子関係と呼ばれます。\n",
        "たとえば、教材のディレクトリ階層においては、ディレクトリ `IPP_textbook` の中に、ディレクトリ `1` とファイル `LICENSE` が含まれています。\n",
        "木構造の観点で、`IPP_textbook` は `1` と `LICENSE` の**親**（parent）と呼ばれ、逆に `1` と `LICENSE` は `IPP_textbook` の**子**（child）と呼ばれます。\n",
        "また、`1` と `LICENSE` のような共通の親を持つノード集合は、**兄弟**（sibling）と呼ばれます。\n",
        "親子関係の推移閉包として、**祖先**（ancestor）や**子孫**（descendant）も定義されます。"
      ]
    },
    {
      "cell_type": "markdown",
      "metadata": {
        "id": "ZfxIohknl-Hi"
      },
      "source": [
        "## データ表現としての木構造\n",
        "\n",
        "OSのディレクトリ構造に限らず、木構造はデータ表現として広く用いられます。\n",
        "Pythonにおいても、入れ子のデータ構造は、木構造と見做せます。\n",
        "\n",
        "たとえば、教材のディレクトリ構造を、辞書の入れ子で表現すると、次のようになります．\n",
        "\n",
        "```python\n",
        "IPP_textbook = {\n",
        "  '1': {'1-0.ipynb': Data('1-0.ipynb'),\n",
        "        ...,\n",
        "        'colaboratory.png', Data('colaboratory.png')},\n",
        "  '2': {'2-1.ipynb': Data('2-1.ipynb'),\n",
        "        '2-1.ipynb': Data('2-2.ipynb'),\n",
        "        '2-3.ipynb': Data('2-3.ipynb')},\n",
        "  ...\n",
        "  '5': {'5-1.ipynb': Data('5-1.ipynb'),\n",
        "        '5-1.ipynb': Data('5-2.ipynb'),\n",
        "        '5-3.ipynb': Data('5-3.ipynb'),\n",
        "        'factorial.py', Data('factorial.py'),\n",
        "        'fig': {'py_conv_1.png': Data('py_conv_1.png'),\n",
        "                'py_conv_2.png': Data('py_conv_2.png'),\n",
        "                'py_open_1.png': Data('py_open_1.png'),\n",
        "                'py_open_2.png': Data('py_open_2.png')}\n",
        "       },\n",
        "   ...\n",
        "}\n",
        "```\n",
        "\n",
        "ここで `Data(...)` は、`...` のファイルデータを意味しています。\n",
        "\n",
        "このデータ表現では、パス `IPP_textbook/2/2-2.ipynb` へのアクセスが、`IPP_textbook['2']['2-2.ipynb']` と表現されます。\n",
        "\n",
        "データを階層的に管理する際は、データ全体を木構造として捉えて表現することを考えましょう。"
      ]
    },
    {
      "cell_type": "code",
      "execution_count": null,
      "metadata": {
        "id": "xO94oIl4l-Hi"
      },
      "outputs": [],
      "source": []
    }
  ],
  "metadata": {
    "kernelspec": {
      "display_name": "Python 3",
      "language": "python",
      "name": "python3"
    },
    "language_info": {
      "name": "python"
    },
    "colab": {
      "provenance": []
    }
  },
  "nbformat": 4,
  "nbformat_minor": 0
}