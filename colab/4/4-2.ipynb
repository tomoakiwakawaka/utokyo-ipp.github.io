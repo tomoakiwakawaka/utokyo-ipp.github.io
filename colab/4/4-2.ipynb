{
  "cells": [
    {
      "cell_type": "code",
      "execution_count": 1,
      "metadata": {
        "colab": {
          "base_uri": "https://localhost:8080/"
        },
        "id": "uTt7rJRYc2Oy",
        "outputId": "da232a69-21d9-42ce-be3f-160f6e9b1c04"
      },
      "outputs": [
        {
          "output_type": "stream",
          "name": "stdout",
          "text": [
            "--2025-08-22 06:25:23--  https://raw.githubusercontent.com/utokyo-ipp/utokyo-ipp.github.io/master/colab/4/utf-8.txt\n",
            "Resolving raw.githubusercontent.com (raw.githubusercontent.com)... 185.199.110.133, 185.199.108.133, 185.199.111.133, ...\n",
            "Connecting to raw.githubusercontent.com (raw.githubusercontent.com)|185.199.110.133|:443... connected.\n",
            "HTTP request sent, awaiting response... 200 OK\n",
            "Length: 15 [text/plain]\n",
            "Saving to: ‘./utf-8.txt’\n",
            "\n",
            "\rutf-8.txt             0%[                    ]       0  --.-KB/s               \rutf-8.txt           100%[===================>]      15  --.-KB/s    in 0s      \n",
            "\n",
            "2025-08-22 06:25:23 (728 KB/s) - ‘./utf-8.txt’ saved [15/15]\n",
            "\n",
            "--2025-08-22 06:25:23--  https://raw.githubusercontent.com/utokyo-ipp/utokyo-ipp.github.io/master/colab/4/shift_jis.txt\n",
            "Resolving raw.githubusercontent.com (raw.githubusercontent.com)... 185.199.108.133, 185.199.109.133, 185.199.110.133, ...\n",
            "Connecting to raw.githubusercontent.com (raw.githubusercontent.com)|185.199.108.133|:443... connected.\n",
            "HTTP request sent, awaiting response... 200 OK\n",
            "Length: 10 [application/octet-stream]\n",
            "Saving to: ‘./shift_jis.txt’\n",
            "\n",
            "shift_jis.txt       100%[===================>]      10  --.-KB/s    in 0s      \n",
            "\n",
            "2025-08-22 06:25:23 (504 KB/s) - ‘./shift_jis.txt’ saved [10/10]\n",
            "\n",
            "--2025-08-22 06:25:23--  https://raw.githubusercontent.com/utokyo-ipp/utokyo-ipp.github.io/master/colab/4/test.txt\n",
            "Resolving raw.githubusercontent.com (raw.githubusercontent.com)... 185.199.110.133, 185.199.109.133, 185.199.111.133, ...\n",
            "Connecting to raw.githubusercontent.com (raw.githubusercontent.com)|185.199.110.133|:443... connected.\n",
            "HTTP request sent, awaiting response... 200 OK\n",
            "Length: 446 [text/plain]\n",
            "Saving to: ‘./test.txt’\n",
            "\n",
            "test.txt            100%[===================>]     446  --.-KB/s    in 0s      \n",
            "\n",
            "2025-08-22 06:25:23 (23.1 MB/s) - ‘./test.txt’ saved [446/446]\n",
            "\n",
            "--2025-08-22 06:25:23--  https://raw.githubusercontent.com/utokyo-ipp/utokyo-ipp.github.io/master/colab/4/sample.txt\n",
            "Resolving raw.githubusercontent.com (raw.githubusercontent.com)... 185.199.108.133, 185.199.109.133, 185.199.110.133, ...\n",
            "Connecting to raw.githubusercontent.com (raw.githubusercontent.com)|185.199.108.133|:443... connected.\n",
            "HTTP request sent, awaiting response... 200 OK\n",
            "Length: 446 [text/plain]\n",
            "Saving to: ‘./sample.txt’\n",
            "\n",
            "sample.txt          100%[===================>]     446  --.-KB/s    in 0s      \n",
            "\n",
            "2025-08-22 06:25:24 (9.58 MB/s) - ‘./sample.txt’ saved [446/446]\n",
            "\n",
            "--2025-08-22 06:25:24--  https://raw.githubusercontent.com/utokyo-ipp/utokyo-ipp.github.io/master/colab/4/text/novel.txt\n",
            "Resolving raw.githubusercontent.com (raw.githubusercontent.com)... 185.199.111.133, 185.199.110.133, 185.199.108.133, ...\n",
            "Connecting to raw.githubusercontent.com (raw.githubusercontent.com)|185.199.111.133|:443... connected.\n",
            "HTTP request sent, awaiting response... 200 OK\n",
            "Length: 696 [text/plain]\n",
            "Saving to: ‘text/novel.txt’\n",
            "\n",
            "novel.txt           100%[===================>]     696  --.-KB/s    in 0s      \n",
            "\n",
            "2025-08-22 06:25:24 (20.9 MB/s) - ‘text/novel.txt’ saved [696/696]\n",
            "\n"
          ]
        }
      ],
      "source": [
        "##================================================\n",
        "## このセルを最初に実行せよ---Run this cell first.\n",
        "##================================================\n",
        "!wget -P . https://raw.githubusercontent.com/utokyo-ipp/utokyo-ipp.github.io/master/colab/4/utf-8.txt\n",
        "!wget -P . https://raw.githubusercontent.com/utokyo-ipp/utokyo-ipp.github.io/master/colab/4/shift_jis.txt\n",
        "!wget -P . https://raw.githubusercontent.com/utokyo-ipp/utokyo-ipp.github.io/master/colab/4/test.txt\n",
        "!wget -P . https://raw.githubusercontent.com/utokyo-ipp/utokyo-ipp.github.io/master/colab/4/sample.txt\n",
        "!wget -P text https://raw.githubusercontent.com/utokyo-ipp/utokyo-ipp.github.io/master/colab/4/text/novel.txt"
      ]
    },
    {
      "cell_type": "markdown",
      "metadata": {
        "id": "HRTxEBDvc2O1"
      },
      "source": [
        "# 4-2. イテラブルとイテレータ\n",
        "\n",
        "イテラブルとイテレータについて説明します。\n",
        "\n",
        "参考\n",
        "\n",
        "- https://docs.python.org/ja/3/tutorial/classes.html#iterators\n",
        "- https://docs.python.org/ja/3/glossary.html#term-iterable\n",
        "- https://docs.python.org/ja/3/library/stdtypes.html#typeiter"
      ]
    },
    {
      "cell_type": "markdown",
      "metadata": {
        "id": "vJ7UDYb8c2O3"
      },
      "source": [
        "## for文による繰り返しとファイルオブジェクト\n",
        "\n",
        "ファイルオブジェクトは、for文の `in` の後に指定することができます。\n",
        "このとき、ファイルから各行の文字列（改行文字を含む）を順次取り出します。"
      ]
    },
    {
      "cell_type": "code",
      "execution_count": 4,
      "metadata": {
        "colab": {
          "base_uri": "https://localhost:8080/"
        },
        "id": "P1I-F_VDc2O3",
        "outputId": "3a2a196e-ecee-4447-c18f-ceff36c2787e"
      },
      "outputs": [
        {
          "output_type": "execute_result",
          "data": {
            "text/plain": [
              "['Lorem ipsum dolor sit amet, consectetur adipiscing elit, sed do eiusmod tempor incididunt ut labore et dolore magna aliqua. Ut enim ad minim veniam, quis nostrud exercitation ullamco laboris nisi ut aliquip ex ea commodo consequat.\\n',\n",
              " 'Duis aute irure dolor in reprehenderit in voluptate velit esse cillum dolore eu fugiat nulla pariatur.\\n',\n",
              " 'Excepteur sint occaecat cupidatat non proident, sunt in culpa qui officia deserunt mollit anim id est laborum.\\n']"
            ]
          },
          "metadata": {},
          "execution_count": 4
        }
      ],
      "source": [
        "lines = []\n",
        "with open('sample.txt', 'r') as f:\n",
        "    for line in f:\n",
        "        lines.append(line)\n",
        "lines"
      ]
    },
    {
      "cell_type": "markdown",
      "metadata": {
        "id": "U9WrMtVvc2O3"
      },
      "source": [
        "for文による行の取り出しは、`readline` メソッドと同様に、ファイルオブジェクトを消費します。\n",
        "\n",
        "ファイルオブジェクト `f` をfor文で処理をすると、`f` が終端に到達するまで繰り返されます。\n",
        "したがって、再度 `f` をfor文に与えても何も実行されません。"
      ]
    },
    {
      "cell_type": "code",
      "execution_count": 7,
      "metadata": {
        "colab": {
          "base_uri": "https://localhost:8080/"
        },
        "id": "uvAnQqq6c2O4",
        "outputId": "f5a9bc1a-40e3-414c-f09f-0bae56e41373"
      },
      "outputs": [
        {
          "output_type": "stream",
          "name": "stdout",
          "text": [
            "---- 最初 ----\n",
            "Lorem ipsum dolor sit amet, consectetur adipiscing elit, sed do eiusmod tempor incididunt ut labore et dolore magna aliqua. Ut enim ad minim veniam, quis nostrud exercitation ullamco laboris nisi ut aliquip ex ea commodo consequat.\n",
            "\n",
            "Duis aute irure dolor in reprehenderit in voluptate velit esse cillum dolore eu fugiat nulla pariatur.\n",
            "\n",
            "Excepteur sint occaecat cupidatat non proident, sunt in culpa qui officia deserunt mollit anim id est laborum.\n",
            "\n",
            "---- もう一度 ----\n"
          ]
        }
      ],
      "source": [
        "with open('sample.txt', 'r') as f:\n",
        "    print('---- 最初 ----')\n",
        "    for line in f:\n",
        "        print(line)\n",
        "    print('---- もう一度 ----')\n",
        "# with open('sample.txt', 'r') as f:\n",
        "    for line in f:\n",
        "        print(line)"
      ]
    },
    {
      "cell_type": "markdown",
      "metadata": {
        "id": "NRr5vNdNc2O4"
      },
      "source": [
        "ファイルをfor文によって二度読みたい場合は、\n",
        "もう一度ファイルをオープンして、ファイルのオブジェクトを新たに生成してください。"
      ]
    },
    {
      "cell_type": "markdown",
      "metadata": {
        "id": "z5IdogPoc2O4"
      },
      "source": [
        "### 練習\n",
        "文字列 `name` をファイル名とするファイルの最後の行を文字列として返す関数 `last_line(name)` を、\n",
        "ファイルオブジェクトに対するfor文を用いて定義してください。"
      ]
    },
    {
      "cell_type": "code",
      "execution_count": 14,
      "metadata": {
        "id": "tR_NMJB3c2O5"
      },
      "outputs": [],
      "source": [
        "def last_line(name):\n",
        "    last = ''\n",
        "    for line in open(name, 'r', encoding='utf-8'):\n",
        "        last = line\n",
        "    return last"
      ]
    },
    {
      "cell_type": "markdown",
      "metadata": {
        "id": "2Hz4reRRc2O5"
      },
      "source": [
        "定義ができたら、次のセルを実行して、エラーがでないことを確認してください。"
      ]
    },
    {
      "cell_type": "code",
      "execution_count": 15,
      "metadata": {
        "tags": [
          "raises-exception"
        ],
        "id": "B1Hdt-pvc2O5"
      },
      "outputs": [],
      "source": [
        "assert last_line('sample.txt') == 'Excepteur sint occaecat cupidatat non proident, sunt in culpa qui officia deserunt mollit anim id est laborum.\\n'"
      ]
    },
    {
      "cell_type": "markdown",
      "metadata": {
        "id": "NlYIekivc2O5"
      },
      "source": [
        "## for文とイテラブルとイテレータ\n",
        "\n",
        "さて、[3-2](../3/3-2.ipynb)でも示したように、for文は、ファイルオブジェクトを含む様々なオブジェクトに対して繰り返す処理を記述できます\n",
        "（[1-3](../1/1-3.ipynb)で説明があったように、Pythonにおける値はオブジェクトと総称されます。）\n",
        "\n",
        "for文によって繰り返すことができるオブジェクトのことを総称して、**イテラブル** (iterable) と呼びます。\n",
        "\n",
        "for文が、様々なデータ型をイテラブルとして統一的に扱えるのは、繰り返して取り出す操作を表現する**イテレータ** (iterator) を経由するからです。\n",
        "\n",
        "iterateは繰り返すという意味なので、itaratorは繰り返すもの（反復子とも呼ばれる）、iterableは繰り返すことができるもの、という意味です。"
      ]
    },
    {
      "cell_type": "markdown",
      "metadata": {
        "id": "thukujMcc2O5"
      },
      "source": [
        "## `iter`\n",
        "\n",
        "組み込み関数 **`iter`** は、イテラブルからイテレータを作ります。たとえば、"
      ]
    },
    {
      "cell_type": "code",
      "execution_count": 16,
      "metadata": {
        "id": "255I5GjHc2O5"
      },
      "outputs": [],
      "source": [
        "it = iter([0,1,2])"
      ]
    },
    {
      "cell_type": "markdown",
      "metadata": {
        "id": "VwOEi8sAc2O6"
      },
      "source": [
        "この `it` は、`0` `1` `2` を順に取り出すイテレータです。\n",
        "\n",
        "このとき、`iter` に渡されるオブジェクトの種類に応じて、適切なイテレータが構成されます。\n",
        "この仕組みによって、様々なデータ型を統一的に扱えるわけです。"
      ]
    },
    {
      "cell_type": "markdown",
      "metadata": {
        "id": "7vlG7tTbc2O6"
      },
      "source": [
        "## `next`\n",
        "\n",
        "さて、`iter` が返したイテレータは、どのように使うのでしょうか。\n",
        "\n",
        "組み込み関数 **`next`** は、イテレータに対して繰り返しを1回分先に進める操作を与えます。具体例を見ましょう。"
      ]
    },
    {
      "cell_type": "code",
      "execution_count": 17,
      "metadata": {
        "colab": {
          "base_uri": "https://localhost:8080/"
        },
        "id": "zealvcLtc2O6",
        "outputId": "f4470f89-9008-4750-aa57-f0acfc7b7909"
      },
      "outputs": [
        {
          "output_type": "execute_result",
          "data": {
            "text/plain": [
              "0"
            ]
          },
          "metadata": {},
          "execution_count": 17
        }
      ],
      "source": [
        "it = iter([0,1,2])\n",
        "next(it)"
      ]
    },
    {
      "cell_type": "code",
      "execution_count": 18,
      "metadata": {
        "colab": {
          "base_uri": "https://localhost:8080/"
        },
        "id": "Uv17NGpPc2O6",
        "outputId": "120170d0-2b8a-47f9-96c1-ae0c3300348c"
      },
      "outputs": [
        {
          "output_type": "execute_result",
          "data": {
            "text/plain": [
              "1"
            ]
          },
          "metadata": {},
          "execution_count": 18
        }
      ],
      "source": [
        "next(it)"
      ]
    },
    {
      "cell_type": "code",
      "execution_count": 19,
      "metadata": {
        "colab": {
          "base_uri": "https://localhost:8080/"
        },
        "id": "ZWrWwdlic2O6",
        "outputId": "7345450d-e33e-4a15-c5e6-f45fd1b731c0"
      },
      "outputs": [
        {
          "output_type": "execute_result",
          "data": {
            "text/plain": [
              "2"
            ]
          },
          "metadata": {},
          "execution_count": 19
        }
      ],
      "source": [
        "next(it)"
      ]
    },
    {
      "cell_type": "markdown",
      "metadata": {
        "id": "GvSTET_Zc2O6"
      },
      "source": [
        "`next(it)` を呼び出す毎に、`it` から順に要素が取り出されています。\n",
        "\n",
        "与えられたイテレータが繰り返しの終端に到達していたときには、`StopIteration` という例外（処理を緊急停止させる割り込み）が発生します。"
      ]
    },
    {
      "cell_type": "code",
      "execution_count": 20,
      "metadata": {
        "colab": {
          "base_uri": "https://localhost:8080/",
          "height": 149
        },
        "id": "9qRwVe71c2O6",
        "outputId": "fd445d33-bba1-4879-ac01-68df79e9d62a"
      },
      "outputs": [
        {
          "output_type": "error",
          "ename": "StopIteration",
          "evalue": "",
          "traceback": [
            "\u001b[0;31m---------------------------------------------------------------------------\u001b[0m",
            "\u001b[0;31mStopIteration\u001b[0m                             Traceback (most recent call last)",
            "\u001b[0;32m/tmp/ipython-input-600241529.py\u001b[0m in \u001b[0;36m<cell line: 0>\u001b[0;34m()\u001b[0m\n\u001b[0;32m----> 1\u001b[0;31m \u001b[0mnext\u001b[0m\u001b[0;34m(\u001b[0m\u001b[0mit\u001b[0m\u001b[0;34m)\u001b[0m\u001b[0;34m\u001b[0m\u001b[0;34m\u001b[0m\u001b[0m\n\u001b[0m",
            "\u001b[0;31mStopIteration\u001b[0m: "
          ]
        }
      ],
      "source": [
        "next(it)"
      ]
    },
    {
      "cell_type": "markdown",
      "metadata": {
        "id": "kSsLmSTPc2O6"
      },
      "source": [
        "## for文の仕組み\n",
        "\n",
        "for文は、実は `iter` `next` `StopIteration` を使ったwhile文の形で表現できます。具体的には、"
      ]
    },
    {
      "cell_type": "code",
      "execution_count": 21,
      "metadata": {
        "colab": {
          "base_uri": "https://localhost:8080/"
        },
        "id": "nnNxWM46c2O6",
        "outputId": "f2a34265-66b1-4ad8-8af2-5b21e8b736fb"
      },
      "outputs": [
        {
          "output_type": "stream",
          "name": "stdout",
          "text": [
            "0\n",
            "1\n",
            "2\n"
          ]
        }
      ],
      "source": [
        "for x in [0,1,2]:\n",
        "    print(x)"
      ]
    },
    {
      "cell_type": "markdown",
      "metadata": {
        "id": "hlZIFzu0c2O6"
      },
      "source": [
        "このfor文は、次のwhile文と等価です。"
      ]
    },
    {
      "cell_type": "code",
      "execution_count": 23,
      "metadata": {
        "tags": [],
        "colab": {
          "base_uri": "https://localhost:8080/"
        },
        "id": "woa2x0Wcc2O6",
        "outputId": "6e5f0d64-2519-49d8-8a2e-460eff6abb2b"
      },
      "outputs": [
        {
          "output_type": "stream",
          "name": "stdout",
          "text": [
            "0\n",
            "1\n",
            "2\n"
          ]
        }
      ],
      "source": [
        "try:\n",
        "    it = iter([0,1,2])\n",
        "    while True:\n",
        "        x = next(it)\n",
        "        print(x)\n",
        "except StopIteration:\n",
        "    pass"
      ]
    },
    {
      "cell_type": "markdown",
      "metadata": {
        "id": "NF7h-jBtc2O7"
      },
      "source": [
        "このtry-except文は、発生した例外を捉えて、適切に処理するための構文です。\n",
        "ここでは、発生した `StopIteration` を捉えて、何もせずに（`pass`）次に処理を進めるという意味になります。\n",
        "結果として、コードセルの実行が成功裡に完了しています。\n",
        "（例外とtry-except文の詳細は、[公式チュートリアル](https://docs.python.org/ja/3/tutorial/errors.html)を参照してください。）\n",
        "\n"
      ]
    },
    {
      "cell_type": "markdown",
      "metadata": {
        "tags": [],
        "id": "18NxqkFDc2O7"
      },
      "source": [
        "## イテレータは特殊なイテラブル\n",
        "\n",
        "イテレータ自身も実はイテラブルです。したがって、イテレータをfor文で繰り返すことができます。"
      ]
    },
    {
      "cell_type": "code",
      "execution_count": 24,
      "metadata": {
        "colab": {
          "base_uri": "https://localhost:8080/"
        },
        "id": "u-mEE2TZc2O7",
        "outputId": "4cab589f-fd7b-4a14-cfa6-2cd855f400a6"
      },
      "outputs": [
        {
          "output_type": "stream",
          "name": "stdout",
          "text": [
            "0\n",
            "1\n",
            "2\n"
          ]
        }
      ],
      "source": [
        "it = iter([0,1,2])\n",
        "for x in it:\n",
        "    print(x)"
      ]
    },
    {
      "cell_type": "markdown",
      "metadata": {
        "id": "-FvsqQ_ec2O7"
      },
      "source": [
        "しかし、単なるイテラブルではありません。1つのfor文で使い切りのイテラブルです。"
      ]
    },
    {
      "cell_type": "code",
      "execution_count": 25,
      "metadata": {
        "id": "IYVvNvdzc2O7"
      },
      "outputs": [],
      "source": [
        "for x in it:\n",
        "    print('これは実行されない')"
      ]
    },
    {
      "cell_type": "markdown",
      "metadata": {
        "id": "cdnwmzvoc2O7"
      },
      "source": [
        "これは、イテレータ `it` に対して `iter` を適用した時に、`it` 自体が返されるという仕組みによって実現されています。"
      ]
    },
    {
      "cell_type": "code",
      "execution_count": 26,
      "metadata": {
        "colab": {
          "base_uri": "https://localhost:8080/"
        },
        "id": "yUtZuDo_c2O7",
        "outputId": "e8788a1e-7c3e-49b4-cf03-db8e597b0486"
      },
      "outputs": [
        {
          "output_type": "execute_result",
          "data": {
            "text/plain": [
              "True"
            ]
          },
          "metadata": {},
          "execution_count": 26
        }
      ],
      "source": [
        "it = iter([0,1,2])\n",
        "it is iter(it)"
      ]
    },
    {
      "cell_type": "markdown",
      "metadata": {
        "id": "8F5wXaoMc2O7"
      },
      "source": [
        "この **`is`** は、[2-2](../2/2-2.ipynb)に説明がありますが、その両辺が同一オブジェクトかどうかを調べる演算子です。\n",
        "\n",
        "最初のfor文の繰り返しによって終端に到達したイテレータ `it` は、その後の `next(it)` において `StopIteration` を発生させ続けます。\n",
        "したがって、後続するfor文では、繰り返し処理に入ることなく即座に終了するわけです。\n",
        "上に示したwhile文の形で考えると、わかりやすいでしょう。"
      ]
    },
    {
      "cell_type": "markdown",
      "metadata": {
        "id": "-dTExs8zc2O7"
      },
      "source": [
        "### 練習\n",
        "\n",
        "リストをもらって、そのイテレータを作り、最初の要素だけ取り出した後、\n",
        "そのイテレータを返す関数 `but_first(ls)` を定義してください。"
      ]
    },
    {
      "cell_type": "code",
      "execution_count": 31,
      "metadata": {
        "id": "_UqNcYvSc2O7"
      },
      "outputs": [],
      "source": [
        "def but_first(ls):\n",
        "    return next(iter(ls))\n",
        ""
      ]
    },
    {
      "cell_type": "markdown",
      "metadata": {
        "id": "m-Rh7yfqc2O7"
      },
      "source": [
        "定義ができたら、次のセルを実行して、エラーがでないことを確認してください。"
      ]
    },
    {
      "cell_type": "code",
      "execution_count": 32,
      "metadata": {
        "tags": [
          "raises-exception"
        ],
        "id": "4i07hgOSc2O7"
      },
      "outputs": [],
      "source": [
        "it = but_first([0,2,4,6,8])\n",
        "assert type(it) == type(iter([])) # type(it) では it は消費されない\n",
        "assert list(it) == [2,4,6,8]"
      ]
    },
    {
      "cell_type": "markdown",
      "metadata": {
        "id": "IB_9QZYec2O7"
      },
      "source": [
        "## ファイルオブジェクトはイテレータ\n",
        "\n",
        "ファイルオブジェクトは `readline` メソッドによって、一行ずつ消費しながら、行の文字列を取り出せます。\n",
        "そして、for文で末尾まで繰り返すと、for文で繰り返すことはもうできません。\n",
        "\n",
        "ここまで読んだ方は既に気付いているでしょうが、ファイルオブジェクトはイテレータです。\n",
        "\n"
      ]
    },
    {
      "cell_type": "code",
      "execution_count": 33,
      "metadata": {
        "id": "-lMNNZYPc2O7"
      },
      "outputs": [],
      "source": [
        "f = open('sample.txt', 'r')"
      ]
    },
    {
      "cell_type": "code",
      "execution_count": 34,
      "metadata": {
        "colab": {
          "base_uri": "https://localhost:8080/",
          "height": 54
        },
        "id": "NS0XEGhtc2PG",
        "outputId": "5625a6f1-39ea-4c3d-d24f-48e31033a6ca"
      },
      "outputs": [
        {
          "output_type": "execute_result",
          "data": {
            "text/plain": [
              "'Lorem ipsum dolor sit amet, consectetur adipiscing elit, sed do eiusmod tempor incididunt ut labore et dolore magna aliqua. Ut enim ad minim veniam, quis nostrud exercitation ullamco laboris nisi ut aliquip ex ea commodo consequat.\\n'"
            ],
            "application/vnd.google.colaboratory.intrinsic+json": {
              "type": "string"
            }
          },
          "metadata": {},
          "execution_count": 34
        }
      ],
      "source": [
        "next(f)"
      ]
    },
    {
      "cell_type": "code",
      "execution_count": 35,
      "metadata": {
        "colab": {
          "base_uri": "https://localhost:8080/",
          "height": 36
        },
        "id": "yZa4KUSxc2PG",
        "outputId": "9eb171e8-c8bb-46d0-91eb-dae1f06dcd08"
      },
      "outputs": [
        {
          "output_type": "execute_result",
          "data": {
            "text/plain": [
              "'Duis aute irure dolor in reprehenderit in voluptate velit esse cillum dolore eu fugiat nulla pariatur.\\n'"
            ],
            "application/vnd.google.colaboratory.intrinsic+json": {
              "type": "string"
            }
          },
          "metadata": {},
          "execution_count": 35
        }
      ],
      "source": [
        "next(f)"
      ]
    },
    {
      "cell_type": "code",
      "execution_count": 36,
      "metadata": {
        "colab": {
          "base_uri": "https://localhost:8080/",
          "height": 36
        },
        "id": "Y8viw02Mc2PG",
        "outputId": "e217b08d-7c21-4134-a480-fcadfd5071ce"
      },
      "outputs": [
        {
          "output_type": "execute_result",
          "data": {
            "text/plain": [
              "'Excepteur sint occaecat cupidatat non proident, sunt in culpa qui officia deserunt mollit anim id est laborum.\\n'"
            ],
            "application/vnd.google.colaboratory.intrinsic+json": {
              "type": "string"
            }
          },
          "metadata": {},
          "execution_count": 36
        }
      ],
      "source": [
        "next(f)"
      ]
    },
    {
      "cell_type": "code",
      "execution_count": 37,
      "metadata": {
        "tags": [
          "raises-exception"
        ],
        "colab": {
          "base_uri": "https://localhost:8080/",
          "height": 149
        },
        "id": "ytEJnjE2c2PG",
        "outputId": "a6ec5199-0445-4137-901b-a4f1e6e6f938"
      },
      "outputs": [
        {
          "output_type": "error",
          "ename": "StopIteration",
          "evalue": "",
          "traceback": [
            "\u001b[0;31m---------------------------------------------------------------------------\u001b[0m",
            "\u001b[0;31mStopIteration\u001b[0m                             Traceback (most recent call last)",
            "\u001b[0;32m/tmp/ipython-input-4256387510.py\u001b[0m in \u001b[0;36m<cell line: 0>\u001b[0;34m()\u001b[0m\n\u001b[0;32m----> 1\u001b[0;31m \u001b[0mnext\u001b[0m\u001b[0;34m(\u001b[0m\u001b[0mf\u001b[0m\u001b[0;34m)\u001b[0m\u001b[0;34m\u001b[0m\u001b[0;34m\u001b[0m\u001b[0m\n\u001b[0m",
            "\u001b[0;31mStopIteration\u001b[0m: "
          ]
        }
      ],
      "source": [
        "next(f)"
      ]
    },
    {
      "cell_type": "markdown",
      "metadata": {
        "id": "qAby_Rezc2PH"
      },
      "source": [
        "ファイルオブジェクト `f` に対する `f.readline()` と `next(f)` の振舞いは、`f` が終端に到達していないときは同一です。\n",
        "`f` が終端にあるときは、`f.readline()` は `''` を返しますが、`next(f)` は `StopIteration` を発生させます。"
      ]
    },
    {
      "cell_type": "code",
      "execution_count": 38,
      "metadata": {
        "id": "0sFaDLTbc2PH"
      },
      "outputs": [],
      "source": [
        "f.close()"
      ]
    },
    {
      "cell_type": "markdown",
      "metadata": {
        "id": "_dxrhmP9c2PJ"
      },
      "source": [
        "## イテラブルはイテレータではない\n",
        "\n",
        "イテラブルは一般に、イテレータではありません。\n",
        "具体的には、リスト・タプル・文字列・辞書はイテラブルですが、イテレータではありません。\n",
        "[3-2](../3/3-2.ipynb)で紹介した `range` 関数の返す range オブジェクトも、イテラブルですがイテレータではありません。\n",
        "\n",
        "したがって、`next` が適用可能ではなく、`iter` の適用によって毎回別のイテレータが返されます。\n",
        "つまり、これまで見てきたように、複数のfor文で何度も繰り返す処理が実行できます。"
      ]
    },
    {
      "cell_type": "code",
      "execution_count": 39,
      "metadata": {
        "tags": [],
        "colab": {
          "base_uri": "https://localhost:8080/"
        },
        "id": "0cqgc7UOc2PJ",
        "outputId": "6119f2d1-afb5-44d6-ca50-e2686e493d33"
      },
      "outputs": [
        {
          "output_type": "stream",
          "name": "stdout",
          "text": [
            "1\n",
            "2\n",
            "3\n",
            "1\n",
            "2\n",
            "3\n"
          ]
        }
      ],
      "source": [
        "xs = [1,2,3]\n",
        "for x in xs:\n",
        "    print(x)\n",
        "for x in xs:\n",
        "    print(x)"
      ]
    },
    {
      "cell_type": "code",
      "execution_count": 40,
      "metadata": {
        "colab": {
          "base_uri": "https://localhost:8080/"
        },
        "id": "6S9Cu-DUc2PJ",
        "outputId": "82f042de-008f-424d-a0f5-8f54d9ea32b3"
      },
      "outputs": [
        {
          "output_type": "stream",
          "name": "stdout",
          "text": [
            "0\n",
            "1\n",
            "2\n",
            "0\n",
            "1\n",
            "2\n"
          ]
        }
      ],
      "source": [
        "r = range(3)\n",
        "for x in r:\n",
        "    print(x)\n",
        "for x in r:\n",
        "    print(x)"
      ]
    },
    {
      "cell_type": "markdown",
      "metadata": {
        "id": "_76nOyvOc2PJ"
      },
      "source": [
        "## イテレータを返す `enumerate`\n",
        "\n",
        "[3-2](../3/3-2.ipynb)で紹介した組み込み関数の **`enumerate`** は、イテレータを返します。"
      ]
    },
    {
      "cell_type": "code",
      "execution_count": 41,
      "metadata": {
        "id": "mkVoHBS9c2PJ"
      },
      "outputs": [],
      "source": [
        "it = enumerate([10,20,30])"
      ]
    },
    {
      "cell_type": "code",
      "execution_count": 42,
      "metadata": {
        "colab": {
          "base_uri": "https://localhost:8080/"
        },
        "id": "NRFl6yJ3c2PJ",
        "outputId": "fdc5f648-6b24-41e5-c1d9-cef227179594"
      },
      "outputs": [
        {
          "output_type": "execute_result",
          "data": {
            "text/plain": [
              "(0, 10)"
            ]
          },
          "metadata": {},
          "execution_count": 42
        }
      ],
      "source": [
        "next(it)"
      ]
    },
    {
      "cell_type": "code",
      "execution_count": 43,
      "metadata": {
        "colab": {
          "base_uri": "https://localhost:8080/"
        },
        "id": "Mkmvrq-jc2PK",
        "outputId": "42837ba3-db09-46ac-f8a3-46f274764af4"
      },
      "outputs": [
        {
          "output_type": "stream",
          "name": "stdout",
          "text": [
            "(1, 20)\n",
            "(2, 30)\n"
          ]
        }
      ],
      "source": [
        "for x in it:\n",
        "    print(x)"
      ]
    },
    {
      "cell_type": "code",
      "execution_count": 44,
      "metadata": {
        "colab": {
          "base_uri": "https://localhost:8080/"
        },
        "id": "hmcMvrSMc2PK",
        "outputId": "c81d87af-cf79-401d-8865-d03aea6188f2"
      },
      "outputs": [
        {
          "output_type": "stream",
          "name": "stdout",
          "text": [
            "0 番目の文字 = A\n",
            "1 番目の文字 = C\n",
            "2 番目の文字 = D\n",
            "3 番目の文字 = B\n"
          ]
        }
      ],
      "source": [
        "for i, c in enumerate('ACDB'):\n",
        "    print(i, '番目の文字 =', c)"
      ]
    },
    {
      "cell_type": "markdown",
      "metadata": {
        "id": "p9ScdY1ic2PK"
      },
      "source": [
        "一方、`enumerate` はイテラブルを引数として受け取ります。上の例で、リストも文字列もイテラブルです。\n",
        "\n",
        "イテレータもイテラブルなので、`enumerate` の引数になり得ます。\n",
        "したがって、ファイルオブジェクトも、次のように `enumerate` に与えることができます。"
      ]
    },
    {
      "cell_type": "code",
      "execution_count": 45,
      "metadata": {
        "colab": {
          "base_uri": "https://localhost:8080/"
        },
        "id": "9Sn8958dc2PK",
        "outputId": "7679d893-fde4-4f88-8142-1660a868421a"
      },
      "outputs": [
        {
          "output_type": "stream",
          "name": "stdout",
          "text": [
            "0 行目:\n",
            "Lorem ipsum dolor sit amet, consectetur adipiscing elit, sed do eiusmod tempor incididunt ut labore et dolore magna aliqua. Ut enim ad minim veniam, quis nostrud exercitation ullamco laboris nisi ut aliquip ex ea commodo consequat.\n",
            "\n",
            "1 行目:\n",
            "Duis aute irure dolor in reprehenderit in voluptate velit esse cillum dolore eu fugiat nulla pariatur.\n",
            "\n",
            "2 行目:\n",
            "Excepteur sint occaecat cupidatat non proident, sunt in culpa qui officia deserunt mollit anim id est laborum.\n",
            "\n"
          ]
        }
      ],
      "source": [
        "with open('sample.txt', 'r') as f:\n",
        "    for i, s in enumerate(f):\n",
        "        print(i, '行目:')\n",
        "        print(s)"
      ]
    },
    {
      "cell_type": "markdown",
      "metadata": {
        "id": "xa_2WwE0c2PK"
      },
      "source": [
        "変数 `i` は `0` から順に増えていきます。変数 `s` には各行の文字列が代入されます。\n",
        "`i` は `0` から始まりますが、各行の行番号と考えられます。"
      ]
    },
    {
      "cell_type": "markdown",
      "metadata": {
        "id": "MTQu5Romc2PK"
      },
      "source": [
        "## ▲イテラブルとイテレータの定義\n",
        "\n",
        "イテラブルとイテレータの形式的な定義をまとめます。\n",
        "\n",
        "* イテラブル：\n",
        "  - `iter` を適用可能。 **`__iter__`** メソッドを持つ。\n",
        "* イテレータ：\n",
        "  - `next` を適用可能。 **`__next__`** メソッドを持つ。\n",
        "  - `iter` を適用したとき、引数のオブジェクトをそのまま返す。\n",
        "\n",
        "`iter(x)` は `x.__iter__()` と等価なので、`iter` を適用可能であることと、`__iter__` メソッドを持つことは同義です。\n",
        "同様に、`next(x)` は `x.__next__()` と等価なので、 `next` を適用可能であることと、`__next__` メソッドを持つことは同義です。\n",
        "\n",
        "`__iter__` メソッドと `__next__` メソッドについては、[6-3](../6/6-3.ipynb)で改めて説明します。"
      ]
    },
    {
      "cell_type": "markdown",
      "metadata": {
        "id": "JXD-Ln7Oc2PK"
      },
      "source": [
        "## 練習の解答"
      ]
    },
    {
      "cell_type": "code",
      "execution_count": null,
      "metadata": {
        "id": "Ieq4yzXxc2PK"
      },
      "outputs": [],
      "source": [
        "def last_line(name):\n",
        "    with open(name, 'r', encoding='utf-8') as f:\n",
        "        for line in f:\n",
        "            pass\n",
        "    return line"
      ]
    },
    {
      "cell_type": "code",
      "execution_count": null,
      "metadata": {
        "id": "18njWpyac2PK"
      },
      "outputs": [],
      "source": [
        "def last_line(name):\n",
        "    f = open(name, 'r', encoding='utf-8')\n",
        "    for line in f:\n",
        "        pass\n",
        "    f.close()\n",
        "    return line"
      ]
    },
    {
      "cell_type": "code",
      "execution_count": null,
      "metadata": {
        "id": "KSHJ3c4qc2PK"
      },
      "outputs": [],
      "source": [
        "def but_first(ls):\n",
        "    it = iter(ls)\n",
        "    next(it)\n",
        "    return it"
      ]
    },
    {
      "cell_type": "code",
      "execution_count": null,
      "metadata": {
        "id": "CKwkiN5rc2PK"
      },
      "outputs": [],
      "source": []
    }
  ],
  "metadata": {
    "kernelspec": {
      "display_name": "Python 3",
      "language": "python",
      "name": "python3"
    },
    "language_info": {
      "name": "python"
    },
    "colab": {
      "provenance": []
    }
  },
  "nbformat": 4,
  "nbformat_minor": 0
}