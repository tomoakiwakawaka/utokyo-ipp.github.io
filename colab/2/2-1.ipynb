{
  "cells": [
    {
      "cell_type": "markdown",
      "metadata": {
        "id": "c3EiQonVEDdh"
      },
      "source": [
        "# 2-1. 文字列 (string)\n",
        "\n",
        "文書処理などに必要な文字列について説明します。\n",
        "\n",
        "参考\n",
        "\n",
        "- https://docs.python.org/ja/3/tutorial/introduction.html#strings\n",
        "\n",
        "Pythonが扱うデータには様々な種類がありますが、**文字列**はいくつかの文字の並びから構成されるデータです。\n",
        "Pythonは標準で多言語に対応しており、\n",
        "英語アルファベットだけではなく日本語をはじめとする多くの言語を取り扱えます。\n",
        "\n",
        "文字列は、文字の並びをシングルクォート `'...'`、もしくはダブルクォート `\"...\"` で囲んで記述します。\n",
        "\n",
        "以下の例では文字列をそれぞれ、変数 `word1`, `word2` に代入しています。"
      ]
    },
    {
      "cell_type": "code",
      "execution_count": 1,
      "metadata": {
        "id": "unhLRb6QEDdk",
        "outputId": "9157cbb9-eb2a-4d8f-97ff-b2c746d34991",
        "colab": {
          "base_uri": "https://localhost:8080/",
          "height": 37
        }
      },
      "outputs": [
        {
          "output_type": "execute_result",
          "data": {
            "text/plain": [
              "'hello'"
            ],
            "application/vnd.google.colaboratory.intrinsic+json": {
              "type": "string"
            }
          },
          "metadata": {},
          "execution_count": 1
        }
      ],
      "source": [
        "word1 = 'hello'\n",
        "word1"
      ]
    },
    {
      "cell_type": "code",
      "execution_count": 2,
      "metadata": {
        "id": "SLCI1bO6EDdl",
        "outputId": "e97645b1-6a8b-4c3c-91e2-ea44f69d917d",
        "colab": {
          "base_uri": "https://localhost:8080/",
          "height": 37
        }
      },
      "outputs": [
        {
          "output_type": "execute_result",
          "data": {
            "text/plain": [
              "'Hello'"
            ],
            "application/vnd.google.colaboratory.intrinsic+json": {
              "type": "string"
            }
          },
          "metadata": {},
          "execution_count": 2
        }
      ],
      "source": [
        "word2 = 'Hello'\n",
        "word2"
      ]
    },
    {
      "cell_type": "markdown",
      "metadata": {
        "id": "MwjX9l4TEDdm"
      },
      "source": [
        "上の変数の値が確かに文字列であることは、組み込み関数 **`type`** によって確認できます。\n",
        "`type` は、任意のデータを引数として、そのデータの種類を返します。\n",
        "データの種類は、**データ型**もしくは**型**と呼ばれます。"
      ]
    },
    {
      "cell_type": "code",
      "execution_count": 3,
      "metadata": {
        "id": "aHv2Hl6IEDdm",
        "outputId": "deafeb4a-4acb-4896-cfde-20ae79356369",
        "colab": {
          "base_uri": "https://localhost:8080/"
        }
      },
      "outputs": [
        {
          "output_type": "execute_result",
          "data": {
            "text/plain": [
              "str"
            ]
          },
          "metadata": {},
          "execution_count": 3
        }
      ],
      "source": [
        "type(word1)"
      ]
    },
    {
      "cell_type": "markdown",
      "metadata": {
        "id": "jFx7CUH4EDdn"
      },
      "source": [
        "**`str`** は文字列のデータ型を意味します。"
      ]
    },
    {
      "cell_type": "code",
      "execution_count": 4,
      "metadata": {
        "id": "YqdD_9tbEDdn",
        "outputId": "e1c06adc-cac9-486b-cf35-be8cf5aa31b9",
        "colab": {
          "base_uri": "https://localhost:8080/"
        }
      },
      "outputs": [
        {
          "output_type": "execute_result",
          "data": {
            "text/plain": [
              "str"
            ]
          },
          "metadata": {},
          "execution_count": 4
        }
      ],
      "source": [
        "type(word2)"
      ]
    },
    {
      "cell_type": "markdown",
      "metadata": {
        "id": "SOqY9x0iEDdn"
      },
      "source": [
        "`str` は組み込み関数としても用いられます。\n",
        "組み込み関数 **`str`** を使えば、任意のデータを文字列に変換できます。\n",
        "一般に、データ型は、そのデータ型への変換を行う関数として用いられることが多いです。\n",
        "\n",
        "1-1で学んだ数値を文字列に変換したい場合、次のように行います。"
      ]
    },
    {
      "cell_type": "code",
      "execution_count": 5,
      "metadata": {
        "id": "v41qW3mfEDdo",
        "outputId": "1289a01b-a6d4-4dea-99b5-1544118f21fd",
        "colab": {
          "base_uri": "https://localhost:8080/",
          "height": 37
        }
      },
      "outputs": [
        {
          "output_type": "execute_result",
          "data": {
            "text/plain": [
              "'123'"
            ],
            "application/vnd.google.colaboratory.intrinsic+json": {
              "type": "string"
            }
          },
          "metadata": {},
          "execution_count": 5
        }
      ],
      "source": [
        "word3 = str(123)\n",
        "word3"
      ]
    },
    {
      "cell_type": "markdown",
      "metadata": {
        "id": "Oq4bTLk0EDdo"
      },
      "source": [
        "逆に、`'123'` という文字列を整数に変換するには、1-1で述べた **`int`** という関数を用いることができます。\n",
        "（実は `int` は整数の型でもあります。）"
      ]
    },
    {
      "cell_type": "code",
      "execution_count": 6,
      "metadata": {
        "id": "9q5k7MGXEDdo",
        "outputId": "4445c8b3-5663-4a77-8da9-c5e659d864cf",
        "colab": {
          "base_uri": "https://localhost:8080/"
        }
      },
      "outputs": [
        {
          "output_type": "execute_result",
          "data": {
            "text/plain": [
              "123"
            ]
          },
          "metadata": {},
          "execution_count": 6
        }
      ],
      "source": [
        "i = int('123')\n",
        "i"
      ]
    },
    {
      "cell_type": "markdown",
      "metadata": {
        "id": "BNL7i4NGEDdo"
      },
      "source": [
        "関数 **`float`** を用いれば文字列を実数に変換できます。"
      ]
    },
    {
      "cell_type": "code",
      "execution_count": 7,
      "metadata": {
        "id": "M_IsdabTEDdp",
        "outputId": "d6d31fe3-3e52-4ed2-8a2d-39ebdbbe22d4",
        "colab": {
          "base_uri": "https://localhost:8080/"
        }
      },
      "outputs": [
        {
          "output_type": "execute_result",
          "data": {
            "text/plain": [
              "123.4"
            ]
          },
          "metadata": {},
          "execution_count": 7
        }
      ],
      "source": [
        "f = float('123.4')\n",
        "f"
      ]
    },
    {
      "cell_type": "markdown",
      "metadata": {
        "id": "FazE2vHLEDdp"
      },
      "source": [
        "文字列の長さは、組み込み関数 **`len`** を用いて次のようにして求めます。"
      ]
    },
    {
      "cell_type": "code",
      "execution_count": 8,
      "metadata": {
        "id": "JZzGA9vbEDdp",
        "outputId": "52b8371b-dce8-4d03-d9d0-b50d04889c1e",
        "colab": {
          "base_uri": "https://localhost:8080/"
        }
      },
      "outputs": [
        {
          "output_type": "execute_result",
          "data": {
            "text/plain": [
              "5"
            ]
          },
          "metadata": {},
          "execution_count": 8
        }
      ],
      "source": [
        "len(word1)"
      ]
    },
    {
      "cell_type": "markdown",
      "metadata": {
        "id": "et0yIgfQEDdp"
      },
      "source": [
        "複数行にわたる文字列を記述するには、トリプルクォート（`'''...'''` もしくは `\"\"\"...\"\"\"`）を用いることができます。\n",
        "上記の参考URLを参照してください。\n",
        "トリプルクォートはコメントとしても用いられます。\n",
        "なお、1-4 のコーディングスタイルのところで紹介したスタイルガイドのPEP8では、\n",
        "トリプルクォートには `\"\"\"...\"\"\"` を使うのが適切と定められています。"
      ]
    },
    {
      "cell_type": "markdown",
      "metadata": {
        "id": "DwLG2scqEDdp"
      },
      "source": [
        "## 文字列とインデックス\n",
        "\n",
        "文字列はいくつかの文字によって構成されています。\n",
        "\n",
        "文字列 `'hello'` の3番目の文字を得たい場合は、以下のような記法を用います。"
      ]
    },
    {
      "cell_type": "code",
      "execution_count": 9,
      "metadata": {
        "id": "k3oAevSIEDdp",
        "outputId": "1aa45fb9-48bb-4b13-d1d4-45847d12ffe6",
        "colab": {
          "base_uri": "https://localhost:8080/",
          "height": 37
        }
      },
      "outputs": [
        {
          "output_type": "execute_result",
          "data": {
            "text/plain": [
              "'l'"
            ],
            "application/vnd.google.colaboratory.intrinsic+json": {
              "type": "string"
            }
          },
          "metadata": {},
          "execution_count": 9
        }
      ],
      "source": [
        "'hello'[2]"
      ]
    },
    {
      "cell_type": "markdown",
      "metadata": {
        "id": "7Du_qP38EDdp"
      },
      "source": [
        "文字列を値とする変数に対しても同様の記法を用います。多くの場合は変数に対してこの記法を用います。"
      ]
    },
    {
      "cell_type": "code",
      "execution_count": 10,
      "metadata": {
        "id": "7Dr5zE-7EDdq",
        "outputId": "12b1b19d-fca6-4864-a35a-e834b5c0c211",
        "colab": {
          "base_uri": "https://localhost:8080/",
          "height": 37
        }
      },
      "outputs": [
        {
          "output_type": "execute_result",
          "data": {
            "text/plain": [
              "'l'"
            ],
            "application/vnd.google.colaboratory.intrinsic+json": {
              "type": "string"
            }
          },
          "metadata": {},
          "execution_count": 10
        }
      ],
      "source": [
        "word1 = 'hello'\n",
        "word1[2]"
      ]
    },
    {
      "cell_type": "markdown",
      "metadata": {
        "id": "yzU6HmYVEDdq"
      },
      "source": [
        "この括弧内の数値のことを**インデックス**と呼びます。インデックスは `0` から始まるので、\n",
        "ある文字列の `x` 番目の要素を得るには、インデックスとして `x-1` を指定する必要があります。\n",
        "\n",
        "こうして取得した文字は、Pythonでは長さが 1 の文字列として扱われます。\n",
        "（プログラミング言語によっては、文字列ではなく別の型のデータとして扱われるものもありますので注意してください。）"
      ]
    },
    {
      "cell_type": "markdown",
      "metadata": {
        "id": "zmJH2T9iEDdq"
      },
      "source": [
        "文字列に対して、インデックスを指定してその要素を変更することはできません。（次のセルはエラーとなります）\n",
        "Pythonのデータは、大きく、変更可能なものと変更不可能なものに分類できますが、\n",
        "文字列は変更不可能なデータです。\n",
        "したがって、文字列を加工する場合は、新たに別の文字列を作成します。"
      ]
    },
    {
      "cell_type": "code",
      "execution_count": 12,
      "metadata": {
        "tags": [
          "raises-exception"
        ],
        "id": "DXmtf4NHEDdq",
        "outputId": "bb56b3fd-9e9a-4319-904b-37db93b3a67d",
        "colab": {
          "base_uri": "https://localhost:8080/",
          "height": 163
        }
      },
      "outputs": [
        {
          "output_type": "error",
          "ename": "TypeError",
          "evalue": "'str' object does not support item assignment",
          "traceback": [
            "\u001b[0;31m---------------------------------------------------------------------------\u001b[0m",
            "\u001b[0;31mTypeError\u001b[0m                                 Traceback (most recent call last)",
            "\u001b[0;32m<ipython-input-12-e17d071bd021>\u001b[0m in \u001b[0;36m<cell line: 0>\u001b[0;34m()\u001b[0m\n\u001b[1;32m      1\u001b[0m \u001b[0mword1\u001b[0m \u001b[0;34m=\u001b[0m \u001b[0;34m'hello'\u001b[0m\u001b[0;34m\u001b[0m\u001b[0;34m\u001b[0m\u001b[0m\n\u001b[0;32m----> 2\u001b[0;31m \u001b[0mword1\u001b[0m\u001b[0;34m[\u001b[0m\u001b[0;36m0\u001b[0m\u001b[0;34m]\u001b[0m \u001b[0;34m=\u001b[0m \u001b[0;34m'H'\u001b[0m\u001b[0;34m\u001b[0m\u001b[0;34m\u001b[0m\u001b[0m\n\u001b[0m",
            "\u001b[0;31mTypeError\u001b[0m: 'str' object does not support item assignment"
          ]
        }
      ],
      "source": [
        "word1 = 'hello'\n",
        "word1[0] = 'H'"
      ]
    },
    {
      "cell_type": "markdown",
      "metadata": {
        "id": "xzKa5hnsEDdq"
      },
      "source": [
        "また、文字列の長さ以上のインデックスを指定することはできません。（次はエラーとなります）"
      ]
    },
    {
      "cell_type": "code",
      "execution_count": 11,
      "metadata": {
        "tags": [
          "raises-exception"
        ],
        "id": "x9Ct07JoEDdq",
        "outputId": "3eede668-baf8-4cae-dec8-1b461b7765b8",
        "colab": {
          "base_uri": "https://localhost:8080/",
          "height": 145
        }
      },
      "outputs": [
        {
          "output_type": "error",
          "ename": "IndexError",
          "evalue": "string index out of range",
          "traceback": [
            "\u001b[0;31m---------------------------------------------------------------------------\u001b[0m",
            "\u001b[0;31mIndexError\u001b[0m                                Traceback (most recent call last)",
            "\u001b[0;32m<ipython-input-11-bd01561922a5>\u001b[0m in \u001b[0;36m<cell line: 0>\u001b[0;34m()\u001b[0m\n\u001b[0;32m----> 1\u001b[0;31m \u001b[0mword1\u001b[0m\u001b[0;34m[\u001b[0m\u001b[0;36m100\u001b[0m\u001b[0;34m]\u001b[0m\u001b[0;34m\u001b[0m\u001b[0;34m\u001b[0m\u001b[0m\n\u001b[0m",
            "\u001b[0;31mIndexError\u001b[0m: string index out of range"
          ]
        }
      ],
      "source": [
        "word1[100]"
      ]
    },
    {
      "cell_type": "markdown",
      "metadata": {
        "id": "AtCD4j-VEDdq"
      },
      "source": [
        "インデックスに負数を指定すると、\n",
        "文字列を後ろから数えた順序に従って文字列を構成する文字を得ます。\n",
        "たとえば、文字列の最後の文字を取得するには、`-1` を指定します。"
      ]
    },
    {
      "cell_type": "code",
      "execution_count": 13,
      "metadata": {
        "id": "dJkG6sPMEDdq",
        "outputId": "e07512f9-7f0f-4e5e-cc3d-b9f26748306e",
        "colab": {
          "base_uri": "https://localhost:8080/",
          "height": 37
        }
      },
      "outputs": [
        {
          "output_type": "execute_result",
          "data": {
            "text/plain": [
              "'o'"
            ],
            "application/vnd.google.colaboratory.intrinsic+json": {
              "type": "string"
            }
          },
          "metadata": {},
          "execution_count": 13
        }
      ],
      "source": [
        "word1[-1]"
      ]
    },
    {
      "cell_type": "markdown",
      "metadata": {
        "id": "rynUgt38EDdq"
      },
      "source": [
        "まとめると文字列 `hello` の正負のインデックスは以下の表の関係になります。  \n",
        "\n",
        "|インデックス|h|e|l|l|o|\n",
        "|-|--|--|--|--|--|\n",
        "|0か正|0|1|2|3|4|\n",
        "|負|-5|-4|-3|-2|-1|"
      ]
    },
    {
      "cell_type": "markdown",
      "metadata": {
        "id": "WsUc8jwlEDdq"
      },
      "source": [
        "## 文字列とスライス\n",
        "**スライス**と呼ばれる機能を利用して、文字列の一部（部分文字列）を取得できます。\n",
        "\n",
        "具体的には、取得したい部分文字列の先頭の文字のインデックスと最後の文字のインデックスに\n",
        "`1` を加えた値を指定します。\n",
        "たとえば、ある文字列の2番目の文字から4番目までの文字の部分文字列を得るには次のようにします。"
      ]
    },
    {
      "cell_type": "code",
      "execution_count": 14,
      "metadata": {
        "id": "uxIVq-7fEDdq",
        "outputId": "d1dc59fc-9758-42d6-c148-3d39802ba474",
        "colab": {
          "base_uri": "https://localhost:8080/",
          "height": 37
        }
      },
      "outputs": [
        {
          "output_type": "execute_result",
          "data": {
            "text/plain": [
              "'123'"
            ],
            "application/vnd.google.colaboratory.intrinsic+json": {
              "type": "string"
            }
          },
          "metadata": {},
          "execution_count": 14
        }
      ],
      "source": [
        "digits1='0123456789'\n",
        "digits1[1:4]"
      ]
    },
    {
      "cell_type": "markdown",
      "metadata": {
        "id": "hDalTkJyEDdq"
      },
      "source": [
        "文字列の先頭（すなわち、インデックスが `0` の文字）を指定する場合、次のように行えます。"
      ]
    },
    {
      "cell_type": "code",
      "execution_count": 15,
      "metadata": {
        "id": "q5-9th9lEDdq",
        "outputId": "d4bdbfaf-93c2-445a-e814-28cd0b8632a3",
        "colab": {
          "base_uri": "https://localhost:8080/",
          "height": 37
        }
      },
      "outputs": [
        {
          "output_type": "execute_result",
          "data": {
            "text/plain": [
              "'012'"
            ],
            "application/vnd.google.colaboratory.intrinsic+json": {
              "type": "string"
            }
          },
          "metadata": {},
          "execution_count": 15
        }
      ],
      "source": [
        "digits1[0:3]"
      ]
    },
    {
      "cell_type": "markdown",
      "metadata": {
        "id": "FRPfmc-KEDdr"
      },
      "source": [
        "しかし、最初の `0` は省略しても同じ結果となります。"
      ]
    },
    {
      "cell_type": "code",
      "execution_count": 16,
      "metadata": {
        "id": "b-wD6xIIEDdr",
        "outputId": "19704ea3-b49e-4c5d-88c1-9342f8461fd5",
        "colab": {
          "base_uri": "https://localhost:8080/",
          "height": 37
        }
      },
      "outputs": [
        {
          "output_type": "execute_result",
          "data": {
            "text/plain": [
              "'012'"
            ],
            "application/vnd.google.colaboratory.intrinsic+json": {
              "type": "string"
            }
          },
          "metadata": {},
          "execution_count": 16
        }
      ],
      "source": [
        "digits1[:3]"
      ]
    },
    {
      "cell_type": "markdown",
      "metadata": {
        "id": "4z-QyhfmEDdr"
      },
      "source": [
        "同様に、最後尾の文字のインデックスも、値を省略することもできます。"
      ]
    },
    {
      "cell_type": "code",
      "execution_count": 17,
      "metadata": {
        "id": "IgA28b6UEDdr",
        "outputId": "cf38f2a5-40f3-449d-a2f1-cb0f337eae42",
        "colab": {
          "base_uri": "https://localhost:8080/",
          "height": 37
        }
      },
      "outputs": [
        {
          "output_type": "execute_result",
          "data": {
            "text/plain": [
              "'3456789'"
            ],
            "application/vnd.google.colaboratory.intrinsic+json": {
              "type": "string"
            }
          },
          "metadata": {},
          "execution_count": 17
        }
      ],
      "source": [
        "digits1[3:]"
      ]
    },
    {
      "cell_type": "code",
      "execution_count": 18,
      "metadata": {
        "id": "cbI4dhQXEDdr",
        "outputId": "d5198f3c-68a5-4d2b-dd2b-02c7e524ed9f",
        "colab": {
          "base_uri": "https://localhost:8080/",
          "height": 37
        }
      },
      "outputs": [
        {
          "output_type": "execute_result",
          "data": {
            "text/plain": [
              "'34'"
            ],
            "application/vnd.google.colaboratory.intrinsic+json": {
              "type": "string"
            }
          },
          "metadata": {},
          "execution_count": 18
        }
      ],
      "source": [
        "digits1[3:5]"
      ]
    },
    {
      "cell_type": "markdown",
      "metadata": {
        "id": "qNer7t8YEDdr"
      },
      "source": [
        "スライスにおいても負数を指定して、\n",
        "文字列の最後の方から部分文字列を取得できます。"
      ]
    },
    {
      "cell_type": "code",
      "execution_count": 21,
      "metadata": {
        "id": "KOkrXTkEEDdr",
        "outputId": "6ce9ee39-4755-4484-9d7d-55859e5a446f",
        "colab": {
          "base_uri": "https://localhost:8080/",
          "height": 37
        }
      },
      "outputs": [
        {
          "output_type": "execute_result",
          "data": {
            "text/plain": [
              "'678'"
            ],
            "application/vnd.google.colaboratory.intrinsic+json": {
              "type": "string"
            }
          },
          "metadata": {},
          "execution_count": 21
        }
      ],
      "source": [
        "digits1[-4:-1]"
      ]
    },
    {
      "cell_type": "markdown",
      "metadata": {
        "id": "dwfpM_AUEDdw"
      },
      "source": [
        "スライスでは3番目の値を指定することで、とびとびの文字を指定できます。次のように `digits1[3:9:2]` と指定すると、インデックス `3` から2文字おきにインデックス `9` より小さい文字を並べた部分文字列を得ます。"
      ]
    },
    {
      "cell_type": "code",
      "execution_count": 27,
      "metadata": {
        "id": "saxR2N9tEDdx",
        "outputId": "0f533c60-2179-4a19-dea3-c5ddced574a3",
        "colab": {
          "base_uri": "https://localhost:8080/",
          "height": 37
        }
      },
      "outputs": [
        {
          "output_type": "execute_result",
          "data": {
            "text/plain": [
              "'357'"
            ],
            "application/vnd.google.colaboratory.intrinsic+json": {
              "type": "string"
            }
          },
          "metadata": {},
          "execution_count": 27
        }
      ],
      "source": [
        "digits1[3:9:2]"
      ]
    },
    {
      "cell_type": "markdown",
      "metadata": {
        "id": "UHhUWWWVEDdx"
      },
      "source": [
        "3番目の値に `-1` を指定することもできます。これを使えば元の文字列の逆向きの文字列を得ることができます。"
      ]
    },
    {
      "cell_type": "code",
      "execution_count": 29,
      "metadata": {
        "id": "a4cIYa2WEDdx",
        "outputId": "86f583c9-d31b-4c0b-b0b1-fb00a642284c",
        "colab": {
          "base_uri": "https://localhost:8080/",
          "height": 37
        }
      },
      "outputs": [
        {
          "output_type": "execute_result",
          "data": {
            "text/plain": [
              "''"
            ],
            "application/vnd.google.colaboratory.intrinsic+json": {
              "type": "string"
            }
          },
          "metadata": {},
          "execution_count": 29
        }
      ],
      "source": [
        "digits1[8:4:-1]"
      ]
    },
    {
      "cell_type": "markdown",
      "metadata": {
        "id": "RukCDZAhEDdx"
      },
      "source": [
        "## 空文字列\n",
        "シングルクォート（もしくはダブルクォート）で、何も囲まない場合、長さ 0 の文字列（**空文字列**（くうもじれつ）もしくは、**空列**（くうれつ））となります。\n",
        "具体的には、下記のように使用します。\n",
        "\n",
        "---\n",
        "```Python\n",
        "blank = ''\n",
        "```\n",
        "---\n",
        "\n",
        "空文字列は、次のように、たとえば文字列中からある部分文字列を取り除くのに使用します。\n",
        "（`replace` は後で説明します。）"
      ]
    },
    {
      "cell_type": "code",
      "execution_count": 30,
      "metadata": {
        "id": "33RbAy0_EDdx",
        "outputId": "23cdc560-31ef-4551-9583-91c68ecae030",
        "colab": {
          "base_uri": "https://localhost:8080/",
          "height": 37
        }
      },
      "outputs": [
        {
          "output_type": "execute_result",
          "data": {
            "text/plain": [
              "'2980円'"
            ],
            "application/vnd.google.colaboratory.intrinsic+json": {
              "type": "string"
            }
          },
          "metadata": {},
          "execution_count": 30
        }
      ],
      "source": [
        "price = '2,980円'\n",
        "price.replace(',', '')"
      ]
    },
    {
      "cell_type": "markdown",
      "metadata": {
        "id": "ceu6zJBwEDdx"
      },
      "source": [
        "文字列のスライスにおいて、指定したインデックスの範囲に文字列が存在しない場合、\n",
        "たとえば、最初に指定したインデックス `x` に対して、\n",
        "2番目のインデックスの値に `x` 以下のインデックスの値を指定するとどうなるでしょうか？\n",
        "（ただし、2つのインデックスは同じ符号を持つとし、スライスの3番目の値は用いないとします。）\n",
        "このような場合、結果は次のように空文字列となります（エラーが出たり、結果が `None` にはならないことに注意してください）。"
      ]
    },
    {
      "cell_type": "code",
      "execution_count": 33,
      "metadata": {
        "id": "v6fqExuAEDdx",
        "outputId": "aef325a0-4161-4503-ba64-195d51fe3e16",
        "colab": {
          "base_uri": "https://localhost:8080/"
        }
      },
      "outputs": [
        {
          "output_type": "stream",
          "name": "stdout",
          "text": [
            "空文字列1 =  \n",
            "空文字列2 =  \n",
            "空文字列3 =  \n",
            "空文字列ではない =  345678\n"
          ]
        }
      ],
      "source": [
        "digits1='0123456789'\n",
        "print('空文字列1 = ', digits1[4:1])\n",
        "print('空文字列2 = ', digits1[-1:-4])\n",
        "print('空文字列3 = ', digits1[3:3])\n",
        "print('空文字列ではない = ', digits1[3:-1])"
      ]
    },
    {
      "cell_type": "markdown",
      "metadata": {
        "id": "uAjaox4GEDdx"
      },
      "source": [
        "## 文字列の検索\n",
        "\n",
        "`文字列A` が `文字列B` を含むかどうかを調べるには、**`in`** 演算子を使います。\n",
        "具体的には、次のように使用します。\n",
        "\n",
        "---\n",
        "```Python\n",
        "文字列B in 文字列A\n",
        "```\n",
        "---\n",
        "\n",
        "調べたい `文字列B` が含まれていれば `True` が、そうでなければ `False` が返ります。"
      ]
    },
    {
      "cell_type": "code",
      "execution_count": 34,
      "metadata": {
        "id": "MNJPiReiEDdx",
        "outputId": "441a7c03-8dd2-4c10-bed8-ffcdc5243f6a",
        "colab": {
          "base_uri": "https://localhost:8080/"
        }
      },
      "outputs": [
        {
          "output_type": "execute_result",
          "data": {
            "text/plain": [
              "True"
            ]
          },
          "metadata": {},
          "execution_count": 34
        }
      ],
      "source": [
        "'lo' in 'hello'"
      ]
    },
    {
      "cell_type": "code",
      "execution_count": 35,
      "metadata": {
        "id": "8Iu0c8wtEDdx",
        "outputId": "8da396c0-ffd3-4982-d4ef-6eecfdb0ce43",
        "colab": {
          "base_uri": "https://localhost:8080/"
        }
      },
      "outputs": [
        {
          "output_type": "execute_result",
          "data": {
            "text/plain": [
              "False"
            ]
          },
          "metadata": {},
          "execution_count": 35
        }
      ],
      "source": [
        "'z' in 'hello'"
      ]
    },
    {
      "cell_type": "markdown",
      "metadata": {
        "id": "AqQWJsGUEDdx"
      },
      "source": [
        "実際のプログラムでは文字列を値とする変数を用いることが多いでしょう。"
      ]
    },
    {
      "cell_type": "code",
      "execution_count": 36,
      "metadata": {
        "id": "9-D5lxhuEDdx",
        "outputId": "cdc795cd-edae-4583-efa4-3dd0224f1975",
        "colab": {
          "base_uri": "https://localhost:8080/"
        }
      },
      "outputs": [
        {
          "output_type": "execute_result",
          "data": {
            "text/plain": [
              "True"
            ]
          },
          "metadata": {},
          "execution_count": 36
        }
      ],
      "source": [
        "word1 =  'hello'\n",
        "substr1 = 'lo'\n",
        "substr1 in word1"
      ]
    },
    {
      "cell_type": "code",
      "execution_count": 37,
      "metadata": {
        "id": "4u5kiAfREDdy",
        "outputId": "d58d77ea-2dea-4150-e161-bc23979f87d5",
        "colab": {
          "base_uri": "https://localhost:8080/"
        }
      },
      "outputs": [
        {
          "output_type": "execute_result",
          "data": {
            "text/plain": [
              "False"
            ]
          },
          "metadata": {},
          "execution_count": 37
        }
      ],
      "source": [
        "substr2 = 'z'\n",
        "substr2 in word1"
      ]
    },
    {
      "cell_type": "markdown",
      "metadata": {
        "id": "p1MtZj_wEDdy"
      },
      "source": [
        "**`not in`** 演算子は、`in` 演算子の逆を意味します。"
      ]
    },
    {
      "cell_type": "code",
      "execution_count": 38,
      "metadata": {
        "id": "h7dwE75UEDdy",
        "outputId": "d38739fe-6d6d-403b-f232-b71583f81599",
        "colab": {
          "base_uri": "https://localhost:8080/"
        }
      },
      "outputs": [
        {
          "output_type": "execute_result",
          "data": {
            "text/plain": [
              "True"
            ]
          },
          "metadata": {},
          "execution_count": 38
        }
      ],
      "source": [
        "word1 =  'hello'\n",
        "substr2 = 'z'\n",
        "substr2 not in word1"
      ]
    },
    {
      "cell_type": "markdown",
      "metadata": {
        "id": "baNIoT-5EDdy"
      },
      "source": [
        "## ▲エスケープシーケンス\n",
        "文字列を作成するにはシングル `'` あるいはダブルクォート `\"` で囲むと説明しました。\n",
        "これらの文字を含む文字列を作成するには、**エスケープシーケンス**と呼ばれる特殊な文字列を使う必要があります。\n",
        "\n",
        "たとえば、下のように文字列に `'` を含む文字列を `'` で囲むと文字列の範囲がずれてエラーとなります。"
      ]
    },
    {
      "cell_type": "code",
      "execution_count": 39,
      "metadata": {
        "tags": [
          "raises-exception"
        ],
        "id": "6iY3lTmLEDdy",
        "outputId": "f79761e6-d9ed-4dae-f99c-570f502b7d49",
        "colab": {
          "base_uri": "https://localhost:8080/",
          "height": 109
        }
      },
      "outputs": [
        {
          "output_type": "error",
          "ename": "SyntaxError",
          "evalue": "invalid syntax (<ipython-input-39-1ce57246475b>, line 1)",
          "traceback": [
            "\u001b[0;36m  File \u001b[0;32m\"<ipython-input-39-1ce57246475b>\"\u001b[0;36m, line \u001b[0;32m1\u001b[0m\n\u001b[0;31m    non_escaped = 'This is 'MINE''\u001b[0m\n\u001b[0m                            ^\u001b[0m\n\u001b[0;31mSyntaxError\u001b[0m\u001b[0;31m:\u001b[0m invalid syntax\n"
          ]
        }
      ],
      "source": [
        "non_escaped = 'This is 'MINE''\n",
        "non_escaped"
      ]
    },
    {
      "cell_type": "markdown",
      "metadata": {
        "id": "DCSfj8RoEDdy"
      },
      "source": [
        "エラーを避けるには、エスケープシーケンスで `'` を記述します、具体的には `'` の前に `\\` と記述すると、`'` を含む文字列を作成できます。"
      ]
    },
    {
      "cell_type": "code",
      "execution_count": 40,
      "metadata": {
        "id": "ANaTD_b3EDdy",
        "outputId": "658f5007-a7cd-407f-8c97-7e8127ada452",
        "colab": {
          "base_uri": "https://localhost:8080/",
          "height": 37
        }
      },
      "outputs": [
        {
          "output_type": "execute_result",
          "data": {
            "text/plain": [
              "\"This is 'MINE'\""
            ],
            "application/vnd.google.colaboratory.intrinsic+json": {
              "type": "string"
            }
          },
          "metadata": {},
          "execution_count": 40
        }
      ],
      "source": [
        "escaped1 = 'This is \\'MINE\\''\n",
        "escaped1"
      ]
    },
    {
      "cell_type": "markdown",
      "metadata": {
        "id": "jG5JJ6hqEDdy"
      },
      "source": [
        "実は、シングルクォートで囲む代わりにダブルクォートを使えばエスケープシーケンスを使わずに記述できます。"
      ]
    },
    {
      "cell_type": "code",
      "execution_count": 42,
      "metadata": {
        "id": "b7z1B6h4EDdy",
        "outputId": "935264ec-9a69-441a-ae63-afe321d0bb08",
        "colab": {
          "base_uri": "https://localhost:8080/",
          "height": 37
        }
      },
      "outputs": [
        {
          "output_type": "execute_result",
          "data": {
            "text/plain": [
              "\"This is 'MINE'\""
            ],
            "application/vnd.google.colaboratory.intrinsic+json": {
              "type": "string"
            }
          },
          "metadata": {},
          "execution_count": 42
        }
      ],
      "source": [
        "doublequated = \"This is 'MINE'\"\n",
        "doublequated"
      ]
    },
    {
      "cell_type": "markdown",
      "metadata": {
        "id": "cXV76wkFEDdy"
      },
      "source": [
        "他にも、ダブルクォートを表す `\\\"`、`\\` を表す `\\\\` 、改行を表す `\\n` など、様々なエスケープシーケンスがあります。"
      ]
    },
    {
      "cell_type": "code",
      "execution_count": 43,
      "metadata": {
        "id": "hOqBvzzBEDdy",
        "outputId": "6775dc82-f0c3-4c1c-e425-af68f3257577",
        "colab": {
          "base_uri": "https://localhost:8080/"
        }
      },
      "outputs": [
        {
          "output_type": "stream",
          "name": "stdout",
          "text": [
            "時は金なり\n",
            "\"Time is money\"\n",
            "Time is \\\n"
          ]
        }
      ],
      "source": [
        "escaped2 = \"時は金なり\\n\\\"Time is money\\\"\\nTime is \\\\\"\n",
        "print(escaped2)"
      ]
    },
    {
      "cell_type": "markdown",
      "metadata": {
        "id": "miumAEGdEDdz"
      },
      "source": [
        "3連のシングルクォート、もしくはダブルクォートを利用すれば、 `\\\"` や `\\n` を使わずに記述できます。"
      ]
    },
    {
      "cell_type": "code",
      "execution_count": 44,
      "metadata": {
        "id": "B7YqhAJrEDdz",
        "outputId": "18411d97-c239-4c1b-d198-563521ad194f",
        "colab": {
          "base_uri": "https://localhost:8080/"
        }
      },
      "outputs": [
        {
          "output_type": "stream",
          "name": "stdout",
          "text": [
            "時は金なり\n",
            "'Time is money'\n",
            "Time is \\\n"
          ]
        }
      ],
      "source": [
        "triple_single_quated = '''時は金なり\n",
        "'Time is money'\n",
        "Time is \\\\'''\n",
        "print(triple_single_quated)"
      ]
    },
    {
      "cell_type": "code",
      "execution_count": 45,
      "metadata": {
        "id": "fWoeHGQvEDdz",
        "outputId": "6c2f6add-1e00-412d-ea78-8fbc3679f35b",
        "colab": {
          "base_uri": "https://localhost:8080/"
        }
      },
      "outputs": [
        {
          "output_type": "stream",
          "name": "stdout",
          "text": [
            "時は金なり\n",
            "'Time is money'\n",
            "Time is \\\n"
          ]
        }
      ],
      "source": [
        "triple_double_quated = \"\"\"時は金なり\n",
        "'Time is money'\n",
        "Time is \\\\\"\"\"\n",
        "print(triple_single_quated)"
      ]
    },
    {
      "cell_type": "markdown",
      "metadata": {
        "id": "q7fQhb09EDdz"
      },
      "source": [
        "なお、プログラムの一部を無効に（コメントアウト）したいとき、\n",
        "3連のクォートで囲んで文字列にしてしまうことがあります。"
      ]
    },
    {
      "cell_type": "markdown",
      "metadata": {
        "id": "Ch3v6cKHEDdz"
      },
      "source": [
        "## バックスラッシュの表示と入力\n",
        "\n",
        "エスケープシーケンスの先頭にある文字は、バックスラッシュ `\\`（Unicode `U+005C`）です。\n",
        "これはPythonに限った話ではないですが、バックスラッシュは環境（正確にはフォント）によって見え方が異なります。\n",
        "Windows上のフォントでは、円記号 `¥` として見えることが多いです。\n",
        "macOS上のフォントでは、そのままバックスラッシュとして見えることが多いです。\n",
        "\n",
        "JIS配列キーボードでは、バックスラッシュキーがないことがあります。\n",
        "Windows上では、円記号 `¥` キーでバックスラッシュが入力できます。\n",
        "macOS上では、`Alt` + `¥` キーでバックスラッシュが入力できます。\n",
        "ただし、IME設定によっても入力方法は変わるので注意してください。"
      ]
    },
    {
      "cell_type": "code",
      "execution_count": 46,
      "metadata": {
        "id": "z8F-j10lEDdz",
        "outputId": "fbe2f750-0670-40fc-b98b-8fb324f793e7",
        "colab": {
          "base_uri": "https://localhost:8080/"
        }
      },
      "outputs": [
        {
          "output_type": "stream",
          "name": "stdout",
          "text": [
            "\n",
            "\n",
            "¥n\n",
            "⧵n\n"
          ]
        }
      ],
      "source": [
        "print('\\n') # 改行文字（バックスラッシュ + n）\n",
        "print('¥n') # 改行文字でない（円記号 + n）\n",
        "print('⧵n') # 改行文字でない（Unicode U+29F5 のバックスラッシュ演算子 + n）"
      ]
    },
    {
      "cell_type": "markdown",
      "metadata": {
        "id": "-WMn2qicEDdz"
      },
      "source": [
        "## 文字列の連結\n",
        "**`+`** 演算子を用いれば文字列同士を**連結**できます。\n",
        "この演算では新しい文字列が作られ、元の文字列は変化しません。"
      ]
    },
    {
      "cell_type": "code",
      "execution_count": 47,
      "metadata": {
        "id": "S-Z1cewHEDdz",
        "outputId": "f27b263c-9709-4942-8fa2-0022af508c38",
        "colab": {
          "base_uri": "https://localhost:8080/",
          "height": 37
        }
      },
      "outputs": [
        {
          "output_type": "execute_result",
          "data": {
            "text/plain": [
              "'hello world'"
            ],
            "application/vnd.google.colaboratory.intrinsic+json": {
              "type": "string"
            }
          },
          "metadata": {},
          "execution_count": 47
        }
      ],
      "source": [
        "word1 = 'hello'\n",
        "word2 = ' world'\n",
        "text1 = word1 + word2\n",
        "text1"
      ]
    },
    {
      "cell_type": "markdown",
      "metadata": {
        "id": "chRk8PQrEDdz"
      },
      "source": [
        "**`*`** 演算子で文字列の繰り返し回数を指定できます。"
      ]
    },
    {
      "cell_type": "code",
      "execution_count": 48,
      "metadata": {
        "id": "Wbd3OH3FEDdz",
        "outputId": "d3081f22-0a8e-49f8-973c-bb051b88dc35",
        "colab": {
          "base_uri": "https://localhost:8080/",
          "height": 37
        }
      },
      "outputs": [
        {
          "output_type": "execute_result",
          "data": {
            "text/plain": [
              "'hellohellohello'"
            ],
            "application/vnd.google.colaboratory.intrinsic+json": {
              "type": "string"
            }
          },
          "metadata": {},
          "execution_count": 48
        }
      ],
      "source": [
        "word1 = 'hello'\n",
        "word1 * 3"
      ]
    },
    {
      "cell_type": "markdown",
      "metadata": {
        "id": "ALuxsdm1EDdz"
      },
      "source": [
        "## 文字列とメソッド\n",
        "文字列に対する操作を行うため、様々な**メソッド**（関数のようなもの）が用意されています。\n",
        "\n",
        "メソッドは必要に応じて `(...)` 内に引数を与え、以下のように使用します。\n",
        "\n",
        "---\n",
        "```Python\n",
        "文字列.メソッド名(式, ...)\n",
        "# あるいは\n",
        "文字列変数.メソッド名(式, ...)\n",
        "```\n",
        "---\n",
        "\n",
        "文字列には以下のようなメソッドが用意されています。"
      ]
    },
    {
      "cell_type": "markdown",
      "metadata": {
        "id": "OWmzzigYEDdz"
      },
      "source": [
        "### **置換**\n",
        "\n",
        "**`replace`** メソッドは、指定した `部分文字列A` を、別に指定した `文字列B` で置き換えた文字列を作成します。\n",
        "この操作では、元の文字列は変化しません。具体的には、次のように使用します。\n",
        "\n",
        "---\n",
        "```Python\n",
        "文字列.replace(部分文字列A, 文字列B)\n",
        "```\n",
        "---"
      ]
    },
    {
      "cell_type": "code",
      "execution_count": 49,
      "metadata": {
        "id": "SxQOnXcCEDdz",
        "outputId": "6460e879-255f-4e86-8514-64455c5634a1",
        "colab": {
          "base_uri": "https://localhost:8080/",
          "height": 37
        }
      },
      "outputs": [
        {
          "output_type": "execute_result",
          "data": {
            "text/plain": [
              "'he123123o'"
            ],
            "application/vnd.google.colaboratory.intrinsic+json": {
              "type": "string"
            }
          },
          "metadata": {},
          "execution_count": 49
        }
      ],
      "source": [
        "word1 = 'hello'\n",
        "word1.replace('l', '123')"
      ]
    },
    {
      "cell_type": "code",
      "execution_count": 50,
      "metadata": {
        "id": "9GVwxkzhEDd0",
        "outputId": "37976f5c-0c9d-4f84-b9a1-d74c8cea4dd2",
        "colab": {
          "base_uri": "https://localhost:8080/",
          "height": 37
        }
      },
      "outputs": [
        {
          "output_type": "execute_result",
          "data": {
            "text/plain": [
              "'hello'"
            ],
            "application/vnd.google.colaboratory.intrinsic+json": {
              "type": "string"
            }
          },
          "metadata": {},
          "execution_count": 50
        }
      ],
      "source": [
        "word1"
      ]
    },
    {
      "cell_type": "markdown",
      "metadata": {
        "id": "ekB-CLI0EDd0"
      },
      "source": [
        "### 練習\n",
        "\n",
        "英語の文章からなる文字列 `str_engsentences` が引数として与えられたとき、`str_engsentences` 中に含まれる全ての句読点（`.`, `,`, `:`, `;`, `!`, `?`）を削除した文字列を返す関数 `remove_punctuations` を作成してください。\n",
        "（練習の解答はこのノートブックの一番最後にあります。）\n",
        "\n",
        "次のセルの `...` のところを書き換えて `remove_punctuations(str_engsentences)` を作成してください。"
      ]
    },
    {
      "cell_type": "code",
      "execution_count": 51,
      "metadata": {
        "id": "ckScaqoMEDd0"
      },
      "outputs": [],
      "source": [
        "def remove_punctuations(str_engsentences):\n",
        "    str_engsentences = str_engsentences.replace('.', '')\n",
        "    str_engsentences = str_engsentences.replace(',', '')\n",
        "    str_engsentences = str_engsentences.replace(':', '')\n",
        "    str_engsentences = str_engsentences.replace(';', '')\n",
        "    str_engsentences = str_engsentences.replace('!', '')\n",
        "    str_engsentences = str_engsentences.replace('?', '')\n",
        "    return str_engsentences"
      ]
    },
    {
      "cell_type": "markdown",
      "metadata": {
        "id": "-9uYeOkpEDd0"
      },
      "source": [
        "上のセルで解答を作成した後、以下のセルを実行し、実行結果が `True` になることを確認してください。"
      ]
    },
    {
      "cell_type": "code",
      "execution_count": 52,
      "metadata": {
        "tags": [
          "raises-exception"
        ],
        "id": "zD-nkjlOEDd0",
        "outputId": "22a8e07f-9f13-4101-e767-afb64e0370aa",
        "colab": {
          "base_uri": "https://localhost:8080/"
        }
      },
      "outputs": [
        {
          "output_type": "stream",
          "name": "stdout",
          "text": [
            "True\n"
          ]
        }
      ],
      "source": [
        "print(remove_punctuations('Quiet, uh, donations, you want me to make a donation to the coast guard youth auxiliary?') == 'Quiet uh donations you want me to make a donation to the coast guard youth auxiliary')"
      ]
    },
    {
      "cell_type": "markdown",
      "metadata": {
        "id": "tO96usa1EDd0"
      },
      "source": [
        "### 練習\n",
        "\n",
        "ATGCの4種類の文字から成る文字列 `str_atgc` が引数として与えられたとき、文字列 `str_pair` を返す関数 `atgc_bppair` を作成してください。ただし、`str_pair` は、`str_atgc` 中の各文字列に対して、\n",
        "`A` を `T` に、`T` を `A` に、`G` を `C` に、`C` を `G` に置き換えたものです。\n",
        "\n",
        "次のセルの `...` のところを書き換えて `atgc_bppair(str_atgc)` を作成してください。"
      ]
    },
    {
      "cell_type": "code",
      "execution_count": 67,
      "metadata": {
        "id": "lhWG7ZKNEDd0"
      },
      "outputs": [],
      "source": [
        "def atgc_bppair(str_atgc):\n",
        "    str_pair = str_atgc.replace('A', 't')\n",
        "    str_pair = str_pair.replace('T', 'a')\n",
        "    str_pair = str_pair.replace('G', 'c')\n",
        "    str_pair = str_pair.replace('C', 'g')\n",
        "    str_pair = str_pair.upper()\n",
        "    return str_pair"
      ]
    },
    {
      "cell_type": "markdown",
      "metadata": {
        "id": "f5KsQSIwEDd1"
      },
      "source": [
        "\n",
        "\n",
        "上のセルで解答を作成した後、以下のセルを実行し、実行結果が `True` になることを確認してください。"
      ]
    },
    {
      "cell_type": "code",
      "execution_count": 66,
      "metadata": {
        "tags": [
          "raises-exception"
        ],
        "id": "gW7kBPQ_EDd1",
        "outputId": "bf1d04cc-702a-46b6-bdc1-227e363d7327",
        "colab": {
          "base_uri": "https://localhost:8080/"
        }
      },
      "outputs": [
        {
          "output_type": "stream",
          "name": "stdout",
          "text": [
            "True\n"
          ]
        }
      ],
      "source": [
        "print(atgc_bppair('AAGCCCCATGGTAA') == 'TTCGGGGTACCATT')"
      ]
    },
    {
      "cell_type": "markdown",
      "metadata": {
        "id": "uTVGKWHlEDd1"
      },
      "source": [
        "### **検索**\n",
        "\n",
        "**`index`** メソッドにより、指定した `部分文字列B` が `文字列A` のどこに存在するか調べることができます。具体的には、次のように使用します。\n",
        "\n",
        "---\n",
        "```Python\n",
        "文字列A.index(部分文字列B)\n",
        "```\n",
        "---\n",
        "\n",
        "ただし、指定した部分文字列が文字列に複数回含まれる場合、最初のインデックスが返されます。また、指定した部分文字列が文字列に含まれない場合は、エラーとなります。"
      ]
    },
    {
      "cell_type": "code",
      "execution_count": 68,
      "metadata": {
        "id": "9pDeRnP4EDd1",
        "outputId": "772f57b5-84dd-4fd5-9256-48ae23a6968c",
        "colab": {
          "base_uri": "https://localhost:8080/"
        }
      },
      "outputs": [
        {
          "output_type": "execute_result",
          "data": {
            "text/plain": [
              "3"
            ]
          },
          "metadata": {},
          "execution_count": 68
        }
      ],
      "source": [
        "word1 = 'hello'\n",
        "word1.index('lo')"
      ]
    },
    {
      "cell_type": "code",
      "execution_count": 69,
      "metadata": {
        "id": "sbLUi68lEDd1",
        "outputId": "ced16e04-6b91-4fc1-8b57-14e035487d06",
        "colab": {
          "base_uri": "https://localhost:8080/"
        }
      },
      "outputs": [
        {
          "output_type": "execute_result",
          "data": {
            "text/plain": [
              "2"
            ]
          },
          "metadata": {},
          "execution_count": 69
        }
      ],
      "source": [
        "word1.index('l')"
      ]
    },
    {
      "cell_type": "markdown",
      "metadata": {
        "id": "Gci5Fo__EDd1"
      },
      "source": [
        "以下はエラーとなります。"
      ]
    },
    {
      "cell_type": "code",
      "execution_count": 74,
      "metadata": {
        "tags": [
          "raises-exception"
        ],
        "id": "06HCnAU5EDd1",
        "outputId": "81ebd3b8-d1be-4f17-bce5-b42a9b54df56",
        "colab": {
          "base_uri": "https://localhost:8080/",
          "height": 145
        }
      },
      "outputs": [
        {
          "output_type": "error",
          "ename": "ValueError",
          "evalue": "substring not found",
          "traceback": [
            "\u001b[0;31m---------------------------------------------------------------------------\u001b[0m",
            "\u001b[0;31mValueError\u001b[0m                                Traceback (most recent call last)",
            "\u001b[0;32m<ipython-input-74-f7e472192833>\u001b[0m in \u001b[0;36m<cell line: 0>\u001b[0;34m()\u001b[0m\n\u001b[0;32m----> 1\u001b[0;31m \u001b[0mword1\u001b[0m\u001b[0;34m.\u001b[0m\u001b[0mindex\u001b[0m\u001b[0;34m(\u001b[0m\u001b[0;34m'a'\u001b[0m\u001b[0;34m)\u001b[0m\u001b[0;34m\u001b[0m\u001b[0;34m\u001b[0m\u001b[0m\n\u001b[0m",
            "\u001b[0;31mValueError\u001b[0m: substring not found"
          ]
        }
      ],
      "source": [
        "word1.index('a')"
      ]
    },
    {
      "cell_type": "markdown",
      "metadata": {
        "id": "DV6FZ17HEDd1"
      },
      "source": [
        "**`find`** メソッドも `index` と同様に部分文字列を検索し、最初に出現するインデックスを返します。\n",
        "\n",
        "`index` との違いは、部分文字列が含まれない場合エラーとはならず `-1` が返されることです。"
      ]
    },
    {
      "cell_type": "code",
      "execution_count": 75,
      "metadata": {
        "id": "q7JP1bXCEDd1",
        "outputId": "f2f2fdb6-68df-42a2-df52-847199972c60",
        "colab": {
          "base_uri": "https://localhost:8080/"
        }
      },
      "outputs": [
        {
          "output_type": "execute_result",
          "data": {
            "text/plain": [
              "-1"
            ]
          },
          "metadata": {},
          "execution_count": 75
        }
      ],
      "source": [
        "word1 = 'hello'\n",
        "word1.find('a')"
      ]
    },
    {
      "cell_type": "markdown",
      "metadata": {
        "id": "V-5hSZo_EDd1"
      },
      "source": [
        "### 練習\n",
        "\n",
        "コロン (`:`) を1つだけ含む文字列 `str1` を引数として与えると、コロンの左右に存在する文字列を入れ替えた文字列を返す関数 `swap_colon(str1)` を作成してください。\n",
        "\n",
        "次のセルの `...` のところを書き換えて `swap_colon(str1)` を作成してください。"
      ]
    },
    {
      "cell_type": "code",
      "execution_count": 76,
      "metadata": {
        "id": "7AJYWqZuEDd1"
      },
      "outputs": [],
      "source": [
        "def swap_colon(str1):\n",
        "    col_index = str1.index(':')\n",
        "    str2, str3 = str1[:col_index], str1[col_index+1:]\n",
        "    str4 = str3 + ':' + str2\n",
        "    return str4"
      ]
    },
    {
      "cell_type": "markdown",
      "metadata": {
        "id": "UsyvlWuQEDd2"
      },
      "source": [
        "上のセルで解答を作成した後、以下のセルを実行し、実行結果が `True` になることを確認してください。"
      ]
    },
    {
      "cell_type": "code",
      "execution_count": 73,
      "metadata": {
        "tags": [
          "raises-exception"
        ],
        "id": "EcHs6akfEDd2",
        "outputId": "d515fd0d-bb64-4196-83e2-c25395628320",
        "colab": {
          "base_uri": "https://localhost:8080/"
        }
      },
      "outputs": [
        {
          "output_type": "stream",
          "name": "stdout",
          "text": [
            "True\n"
          ]
        }
      ],
      "source": [
        "print(swap_colon('hello:world') == 'world:hello')"
      ]
    },
    {
      "cell_type": "markdown",
      "metadata": {
        "id": "hhMKNOMiEDd2"
      },
      "source": [
        "### **数え上げ**\n",
        "\n",
        "**`count`** メソッドにより、指定した `部分文字列B` が `文字列A` にいくつ存在するか調べることができます。\n",
        "\n",
        "---\n",
        "```Python\n",
        "文字列A.count(部分文字列B)\n",
        "```\n",
        "---"
      ]
    },
    {
      "cell_type": "code",
      "execution_count": 77,
      "metadata": {
        "id": "4s8VvaIaEDd2",
        "outputId": "9ff2205d-c089-47d9-b8ae-eec4dcc5a41e",
        "colab": {
          "base_uri": "https://localhost:8080/"
        }
      },
      "outputs": [
        {
          "output_type": "execute_result",
          "data": {
            "text/plain": [
              "2"
            ]
          },
          "metadata": {},
          "execution_count": 77
        }
      ],
      "source": [
        "word1 = 'hello'\n",
        "word1.count('l')"
      ]
    },
    {
      "cell_type": "code",
      "execution_count": 78,
      "metadata": {
        "id": "91yImMDvEDd2",
        "outputId": "567b142e-3b42-45e8-c2ad-35d40ea8965f",
        "colab": {
          "base_uri": "https://localhost:8080/"
        }
      },
      "outputs": [
        {
          "output_type": "execute_result",
          "data": {
            "text/plain": [
              "3"
            ]
          },
          "metadata": {},
          "execution_count": 78
        }
      ],
      "source": [
        "'aaaaaaa'.count('aa')"
      ]
    },
    {
      "cell_type": "markdown",
      "metadata": {
        "id": "T_ZN5Ok5EDd2"
      },
      "source": [
        "### 練習\n",
        "\n",
        "ATGCの4種類の文字から成る文字列 `str_atgc` と塩基名（`A`, `T`, `G`, `C` のいずれか）を指定する文字列 `str_bpname` が引数として与えられたとき、`str_atgc` 中に含まれる塩基 `str_bpname` の数を返す関数 `atgc_count` を作成してください。\n",
        "\n",
        "次のセルの `...` のところを書き換えて `atgc_count(str_atgc, str_bpname)` を作成してください。"
      ]
    },
    {
      "cell_type": "code",
      "execution_count": null,
      "metadata": {
        "id": "zqEoNq6LEDd2"
      },
      "outputs": [],
      "source": [
        "def atgc_count(str_atgc, str_bpname):\n",
        "    ..."
      ]
    },
    {
      "cell_type": "markdown",
      "metadata": {
        "id": "B82TSmVUEDd2"
      },
      "source": [
        "上のセルで解答を作成した後、以下のセルを実行し、実行結果が `True` になることを確認してください。"
      ]
    },
    {
      "cell_type": "code",
      "execution_count": null,
      "metadata": {
        "tags": [
          "raises-exception"
        ],
        "id": "4-FLUlNuEDd2"
      },
      "outputs": [],
      "source": [
        "print(atgc_count('AAGCCCCATGGTAA', 'A') == 5)"
      ]
    },
    {
      "cell_type": "markdown",
      "metadata": {
        "id": "D8g3NqzUEDd2"
      },
      "source": [
        "### **大文字**・**小文字**\n",
        "**`lower`**, **`capitalize`**, **`upper`** メソッドを用いると、文字列の中の英文字を小文字に変換したり、大文字に変換したりすることができます。\n",
        "\n",
        "これらの操作では、元の文字列は変化しません。"
      ]
    },
    {
      "cell_type": "code",
      "execution_count": null,
      "metadata": {
        "id": "URkyfLRKEDd2"
      },
      "outputs": [],
      "source": [
        "upper_dna = 'DNA'\n",
        "upper_dna.lower() # 全ての文字を小文字にする"
      ]
    },
    {
      "cell_type": "code",
      "execution_count": null,
      "metadata": {
        "id": "DnlyFy_hEDd2"
      },
      "outputs": [],
      "source": [
        "upper_dna"
      ]
    },
    {
      "cell_type": "code",
      "execution_count": null,
      "metadata": {
        "id": "VI7yufPMEDd2"
      },
      "outputs": [],
      "source": [
        "lower_text = 'hello world!'\n",
        "lower_text.capitalize() # 先頭文字を大文字にする"
      ]
    },
    {
      "cell_type": "code",
      "execution_count": null,
      "metadata": {
        "id": "Gdiu34AfEDd2"
      },
      "outputs": [],
      "source": [
        "lower_text"
      ]
    },
    {
      "cell_type": "code",
      "execution_count": null,
      "metadata": {
        "id": "73KeGE_AEDd2"
      },
      "outputs": [],
      "source": [
        "lower_text.upper() #全ての文字を大文字にする"
      ]
    },
    {
      "cell_type": "code",
      "execution_count": null,
      "metadata": {
        "id": "sVi4DOOxEDd3"
      },
      "outputs": [],
      "source": [
        "lower_text"
      ]
    },
    {
      "cell_type": "markdown",
      "metadata": {
        "id": "b7ICOUN-EDd3"
      },
      "source": [
        "### ▲空白文字の削除\n",
        "\n",
        "半角スペース `' '`・改行文字 `'\\n'`・タブ文字 `'\\t'`・全角スペース `'　'` などを総称して**空白文字**と呼びます。\n",
        "\n",
        "`strip` メソッドを用いると、文字列の前後にある連続した空白文字を削除した文字列を取得できます。"
      ]
    },
    {
      "cell_type": "code",
      "execution_count": null,
      "metadata": {
        "id": "AnzLCYaOEDd3"
      },
      "outputs": [],
      "source": [
        "'  abc\\n'.strip()"
      ]
    },
    {
      "cell_type": "code",
      "execution_count": null,
      "metadata": {
        "id": "7aO444ocEDd3"
      },
      "outputs": [],
      "source": [
        "'　a b c　\\n'.strip()"
      ]
    },
    {
      "cell_type": "markdown",
      "metadata": {
        "id": "90ZDAMdhEDd3"
      },
      "source": [
        "左側の空白だけ削除する `lstrip` と右側の空白だけ削除する `rstrip` もあります。"
      ]
    },
    {
      "cell_type": "code",
      "execution_count": null,
      "metadata": {
        "id": "i9ZAyK2MEDd3"
      },
      "outputs": [],
      "source": [
        "'  abc\\n'.lstrip()"
      ]
    },
    {
      "cell_type": "code",
      "execution_count": null,
      "metadata": {
        "id": "YoAGraGWEDd3"
      },
      "outputs": [],
      "source": [
        "'  abc\\n'.rstrip()"
      ]
    },
    {
      "cell_type": "markdown",
      "metadata": {
        "id": "ujaj9Gx_EDd3"
      },
      "source": [
        "## **文字列の比較演算**\n",
        "\n",
        "比較演算子、`==`, `<`, `>` などを用いて、2つの文字列を比較することもできます。"
      ]
    },
    {
      "cell_type": "code",
      "execution_count": null,
      "metadata": {
        "id": "YOXec9AmEDd4"
      },
      "outputs": [],
      "source": [
        "print('abc' == 'abc')\n",
        "print('ab' == 'abc')"
      ]
    },
    {
      "cell_type": "code",
      "execution_count": null,
      "metadata": {
        "id": "wNIoDJEsEDd4"
      },
      "outputs": [],
      "source": [
        "print('abc' != 'abc')\n",
        "print('ab' != 'abc')"
      ]
    },
    {
      "cell_type": "markdown",
      "metadata": {
        "id": "DszOH03rEDd4"
      },
      "source": [
        "文字列の大小の比較は、いわゆる辞書式による比較で、文字列の最初の文字から順に比較して大小を決めます。\n",
        "片方がもう片方を拡張したものであれば、拡張した方を大きいとします。"
      ]
    },
    {
      "cell_type": "code",
      "execution_count": null,
      "metadata": {
        "id": "rUseUh9REDd4"
      },
      "outputs": [],
      "source": [
        "print('abc' <= 'abc')\n",
        "print('abc' < 'abc')\n",
        "print('abc' < 'abd')\n",
        "print('ab' < 'abc')"
      ]
    },
    {
      "cell_type": "markdown",
      "metadata": {
        "id": "vTDMOu6qEDd4"
      },
      "source": [
        "## 練習\n",
        "\n",
        "英語の文字列 `str_engsentences` が引数として与えられたとき、それが全て小文字である場合、`True` を返し、そうでない場合、 `False` を返す関数 `check_lower` を作成してください。\n",
        "\n",
        "次のセルの `...` のところを書き換えて `check_lower(str_engsentences)` を作成してください。"
      ]
    },
    {
      "cell_type": "code",
      "execution_count": null,
      "metadata": {
        "id": "WlY1yPnQEDd4"
      },
      "outputs": [],
      "source": [
        "def check_lower(str_engsentences):\n",
        "    ..."
      ]
    },
    {
      "cell_type": "markdown",
      "metadata": {
        "id": "v0JZJcP1EDd4"
      },
      "source": [
        "上のセルで解答を作成した後、以下のセルを実行し、実行結果が全て `True` になることを確認してください。"
      ]
    },
    {
      "cell_type": "code",
      "execution_count": null,
      "metadata": {
        "tags": [
          "raises-exception"
        ],
        "id": "PmRjKJnbEDd4"
      },
      "outputs": [],
      "source": [
        "print(check_lower('down down down') == True)\n",
        "print(check_lower('There were doors all round the hall, but they were all locked') == False)"
      ]
    },
    {
      "cell_type": "markdown",
      "metadata": {
        "id": "dAktRtszEDd4"
      },
      "source": [
        "## 初心者によくある誤解 --- **変数**と**文字列**の混乱\n",
        "\n",
        "初心者によくある誤解として、変数と文字列を混乱する例が見られます。たとえば、文字列を引数に取る次のような関数 `func` を考えます（ `func` は引数として与えられた文字列を大文字にして返す関数です）。"
      ]
    },
    {
      "cell_type": "code",
      "execution_count": null,
      "metadata": {
        "id": "VwsgmupOEDd4"
      },
      "outputs": [],
      "source": [
        "def func(str1):\n",
        "    return str1.upper()"
      ]
    },
    {
      "cell_type": "markdown",
      "metadata": {
        "id": "h73Ch9BMEDd4"
      },
      "source": [
        "ここで変数 `str2` を引数として `func` を呼ぶと、`str2` に格納されている文字列が大文字になって返ってきます。"
      ]
    },
    {
      "cell_type": "code",
      "execution_count": null,
      "metadata": {
        "id": "s-s6URnOEDd5"
      },
      "outputs": [],
      "source": [
        "str2 = 'abc'\n",
        "func(str2)"
      ]
    },
    {
      "cell_type": "markdown",
      "metadata": {
        "id": "uYeEw6zDEDd5"
      },
      "source": [
        "次のように `func` を呼ぶと上とは結果が異なります。次の例では変数 `str2` （に格納されている文字列 `abc`）ではなく、文字列 `'str2'` を引数として `func` を呼び出しています。"
      ]
    },
    {
      "cell_type": "code",
      "execution_count": null,
      "metadata": {
        "id": "6RG7qRgyEDd5"
      },
      "outputs": [],
      "source": [
        "str2 = 'abc'\n",
        "func('str2')"
      ]
    },
    {
      "cell_type": "markdown",
      "metadata": {
        "id": "HvTaC1G-EDd5"
      },
      "source": [
        "## 練習\n",
        "\n",
        "コンマ (`,`) を含む英語の文章からなる文字列 `str_engsentences` が引数として与えられたとき、`str_engsentences` 中の一番最初のコンマより後の文章のみかならなる文字列 `str_res` を返す関数 `remove_clause` を作成してください。ただし、 `str_res` の先頭は大文字のアルファベットとしてください。\n",
        "\n",
        "次のセルの `...` のところを書き換えて `remove_clause(str_engsentences)` を作成してください。"
      ]
    },
    {
      "cell_type": "code",
      "execution_count": null,
      "metadata": {
        "id": "Eqj8u-eTEDd5"
      },
      "outputs": [],
      "source": [
        "def remove_clause(str_engsentences):\n",
        "    ..."
      ]
    },
    {
      "cell_type": "markdown",
      "metadata": {
        "id": "bnDeVnC5EDd5"
      },
      "source": [
        "上のセルで解答を作成した後、以下のセルを実行し、実行結果が `True` になることを確認してください。"
      ]
    },
    {
      "cell_type": "code",
      "execution_count": null,
      "metadata": {
        "tags": [
          "raises-exception"
        ],
        "id": "AmD_I04wEDd5"
      },
      "outputs": [],
      "source": [
        "print(remove_clause(\"It's being seen, but you aren't observing.\") == \"But you aren't observing.\")"
      ]
    },
    {
      "cell_type": "markdown",
      "metadata": {
        "id": "4-lwoph9EDd5"
      },
      "source": [
        "## 練習の解答"
      ]
    },
    {
      "cell_type": "code",
      "execution_count": null,
      "metadata": {
        "id": "lFX5ykbOEDd5"
      },
      "outputs": [],
      "source": [
        "def remove_punctuations(str_engsentences):\n",
        "    str1 = str_engsentences.replace('.', '') # 指定の文字を空文字に置換\n",
        "    str1 = str1.replace(',', '')\n",
        "    str1 = str1.replace(':', '')\n",
        "    str1 = str1.replace(';', '')\n",
        "    str1 = str1.replace('!', '')\n",
        "    str1 = str1.replace('?', '')\n",
        "    return str1\n",
        "#remove_punctuations('Quiet, uh, donations, you want me to make a donation to the coast guard youth auxiliary?')"
      ]
    },
    {
      "cell_type": "code",
      "execution_count": null,
      "metadata": {
        "id": "yWMmZd_wEDd5"
      },
      "outputs": [],
      "source": [
        "def atgc_bppair(str_atgc):\n",
        "    str_pair = str_atgc.replace('A', 't')# 指定の文字に置換。ただし全て小文字\n",
        "    str_pair = str_pair.replace('T', 'a')\n",
        "    str_pair = str_pair.replace('G', 'c')\n",
        "    str_pair = str_pair.replace('C', 'g')\n",
        "    str_pair = str_pair.upper() # 置換済みの小文字の列を大文字に変換\n",
        "    return str_pair\n",
        "#atgc_bppair('AAGCCCCATGGTAA')"
      ]
    },
    {
      "cell_type": "code",
      "execution_count": null,
      "metadata": {
        "id": "nlvf_0RDEDd5"
      },
      "outputs": [],
      "source": [
        "def swap_colon(str1):\n",
        "    #コロンの位置を取得する # findでもOK\n",
        "    col_index = str1.index(':')\n",
        "    #コロンの位置を基準に前半と後半の部分文字列を取得する\n",
        "    str2, str3 = str1[:col_index], str1[col_index+1:]\n",
        "    #部分文字列の順序を入れ替えて結合する\n",
        "    str4 = str3 + ':' + str2\n",
        "    return str4\n",
        "#swap_colon('hello:world')"
      ]
    },
    {
      "cell_type": "code",
      "execution_count": null,
      "metadata": {
        "id": "QvX4wKvBEDd5"
      },
      "outputs": [],
      "source": [
        "def atgc_count(str_atgc, str_bpname):\n",
        "    return str_atgc.count(str_bpname)\n",
        "#atgc_count('AAGCCCCATGGTAA', 'A')"
      ]
    },
    {
      "cell_type": "code",
      "execution_count": null,
      "metadata": {
        "id": "n-XwpSM9EDd5"
      },
      "outputs": [],
      "source": [
        "def check_lower(str_engsentences):\n",
        "    if str_engsentences == str_engsentences.lower():#元の文字列と小文字に変換した文字列を比較する\n",
        "        return True\n",
        "    return False\n",
        "#check_lower('down down down')\n",
        "#check_lower('There were doors all round the hall, but they were all locked')"
      ]
    },
    {
      "cell_type": "code",
      "execution_count": null,
      "metadata": {
        "id": "kQ53VrapEDd6"
      },
      "outputs": [],
      "source": [
        "def remove_clause(str_engsentences):\n",
        "    int_index = str_engsentences.find(',')\n",
        "    str1 = str_engsentences[int_index+2:]\n",
        "    return str1.capitalize()\n",
        "#remove_clause(\"It's being seen, but you aren't observing.\")"
      ]
    },
    {
      "cell_type": "code",
      "execution_count": null,
      "metadata": {
        "id": "R8BRRmfqEDd6"
      },
      "outputs": [],
      "source": []
    }
  ],
  "metadata": {
    "kernelspec": {
      "display_name": "Python 3",
      "language": "python",
      "name": "python3"
    },
    "language_info": {
      "name": "python"
    },
    "colab": {
      "provenance": []
    }
  },
  "nbformat": 4,
  "nbformat_minor": 0
}