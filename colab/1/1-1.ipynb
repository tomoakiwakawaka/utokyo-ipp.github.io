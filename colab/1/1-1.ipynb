{
  "cells": [
    {
      "cell_type": "markdown",
      "metadata": {
        "id": "2C6oNLodqwxE"
      },
      "source": [
        "# 1-1. 数値演算\n",
        "数値演算について説明します。\n",
        "\n",
        "参考\n",
        "\n",
        "- https://docs.python.org/ja/3/tutorial/introduction.html#using-python-as-a-calculator\n",
        "- https://docs.python.org/ja/3/tutorial/modules.html\n",
        "- https://docs.python.org/ja/3/library/numeric.html\n",
        "- https://docs.python.org/ja/3/library/math.html"
      ]
    },
    {
      "cell_type": "markdown",
      "metadata": {
        "id": "ftGcoxJuqwxJ"
      },
      "source": [
        "## 簡単な算術計算\n",
        "\n",
        "CodeセルにPythonの式を入力して、プレイボタンを押すか、\n",
        "Shiftを押しながらEnterを押すと、式が評価され、その結果の値がセルの下に挿入されます。\n",
        "\n",
        "1+1 の計算をしてみましょう。次のセルに `1+1` と入力して、\n",
        "Shiftを押しながらEnterを押してください。"
      ]
    },
    {
      "cell_type": "code",
      "execution_count": null,
      "metadata": {
        "id": "up7yXAAhqwxK"
      },
      "outputs": [],
      "source": []
    },
    {
      "cell_type": "markdown",
      "metadata": {
        "id": "y3zNl-4VqwxL"
      },
      "source": [
        "このようにして、電卓の代わりにPythonを使うことができます。**`+`** は言うまでもなく**足し算**を表しています。"
      ]
    },
    {
      "cell_type": "code",
      "execution_count": null,
      "metadata": {
        "id": "mmZDPHaIqwxL"
      },
      "outputs": [],
      "source": [
        "7-2"
      ]
    },
    {
      "cell_type": "code",
      "execution_count": null,
      "metadata": {
        "id": "1ViFhEKiqwxM"
      },
      "outputs": [],
      "source": [
        "7*2"
      ]
    },
    {
      "cell_type": "code",
      "execution_count": null,
      "metadata": {
        "id": "yHi9eQpVqwxN"
      },
      "outputs": [],
      "source": [
        "7**2"
      ]
    },
    {
      "cell_type": "markdown",
      "metadata": {
        "id": "NAGHCAKCqwxN"
      },
      "source": [
        "**`-`** は**引き算**、**`*`** は**掛け算**、**`**`** は**べき乗**を表しています。\n",
        "\n",
        "式を適当に書き換えてから、Shiftを押しながらEnterを押すと、\n",
        "書き換えた後の式が評価されて、セルの下の値はその結果で置き換わります。\n",
        "たとえば、上の `2` を `100` に書き換えて、7の100乗を求めてみてください。"
      ]
    },
    {
      "cell_type": "markdown",
      "metadata": {
        "id": "FQA2MBQ5qwxO"
      },
      "source": [
        "割り算はどうなるでしょうか。"
      ]
    },
    {
      "cell_type": "code",
      "execution_count": null,
      "metadata": {
        "id": "OeFg9om-qwxO"
      },
      "outputs": [],
      "source": [
        "7/2"
      ]
    },
    {
      "cell_type": "code",
      "execution_count": null,
      "metadata": {
        "id": "9YkHSpYKqwxO"
      },
      "outputs": [],
      "source": [
        "7//2"
      ]
    },
    {
      "cell_type": "markdown",
      "metadata": {
        "id": "YNXNvqjBqwxO"
      },
      "source": [
        "Pythonでは、**割り算**（**除算**）は **`/`** で表され、**整数除算**は **`//`** で表されます。\n",
        "`//` は小数部を切り捨てた整数値（**商**）を返します。\n",
        "\n",
        "整数同士の `//` の結果は整数になります。"
      ]
    },
    {
      "cell_type": "code",
      "execution_count": null,
      "metadata": {
        "id": "ACq5cWKvqwxP"
      },
      "outputs": [],
      "source": [
        "7/1"
      ]
    },
    {
      "cell_type": "code",
      "execution_count": null,
      "metadata": {
        "id": "46mYDGRsqwxP"
      },
      "outputs": [],
      "source": [
        "7//1"
      ]
    },
    {
      "cell_type": "markdown",
      "metadata": {
        "id": "AhSwXxQOqwxP"
      },
      "source": [
        "整数除算の**余り**（**剰余**）を求めたいときは、別の演算子 **`%`** を用います。\n",
        "\n",
        "整数同士の `%` の結果は整数になります。"
      ]
    },
    {
      "cell_type": "code",
      "execution_count": null,
      "metadata": {
        "id": "LMBm6IGDqwxP"
      },
      "outputs": [],
      "source": [
        "7%2"
      ]
    },
    {
      "cell_type": "markdown",
      "metadata": {
        "id": "PL7QFB-DqwxQ"
      },
      "source": [
        "## コメント\n",
        "Pythonでは一般に、コードの中に **`#`** が出現すると、それ以降、その行の終わりまでが**コメント**になります。\n",
        "コメントは行頭からも、行の途中からでも始めることができます。\n",
        "\n",
        "プログラムの実行時には、コメントは無視されます。"
      ]
    },
    {
      "cell_type": "code",
      "execution_count": null,
      "metadata": {
        "id": "b411mLZDqwxQ"
      },
      "outputs": [],
      "source": [
        "# このように行頭に '#' をおけば、行全体をコメントとすることができます。\n",
        "\n",
        "# 次のようにコード行に続けて直前のコードについての説明をコメントとして書くこともできます。\n",
        "2**10  # 2の10乗を計算します"
      ]
    },
    {
      "cell_type": "code",
      "execution_count": null,
      "metadata": {
        "id": "k4OfpSmdqwxQ"
      },
      "outputs": [],
      "source": [
        "# 次のようにコード行自体をコメントとすることで、その行を無視させる（コメントアウトする）こともよく行われます。\n",
        "# 2**10  # 2の10乗を計算します この行が「コメントアウト」された\n",
        "2**12  # 実は計算したいのは2の12乗でした"
      ]
    },
    {
      "cell_type": "markdown",
      "metadata": {
        "id": "Kwi26RFXqwxQ"
      },
      "source": [
        "## 整数と実数\n",
        "Pythonでは、**整数**と小数点のある数（**実数**）は、数学的に同じ数を表す場合でも、\n",
        "コンピュータの中で異なる形式で記憶されますので、表示は異なります。\n",
        "（実数は**浮動小数点数**ともいいます。）"
      ]
    },
    {
      "cell_type": "code",
      "execution_count": null,
      "metadata": {
        "id": "_dk5NDAEqwxQ"
      },
      "outputs": [],
      "source": [
        "7/1"
      ]
    },
    {
      "cell_type": "code",
      "execution_count": null,
      "metadata": {
        "id": "BBVHv-YfqwxQ"
      },
      "outputs": [],
      "source": [
        "7//1"
      ]
    },
    {
      "cell_type": "markdown",
      "metadata": {
        "id": "4LXrUEQQqwxR"
      },
      "source": [
        "しかし、以下のように、比較を行うと両者は等しいものとして扱われます。\n",
        "値同士が等しいかどうかを調べる `==` という演算子については、後で紹介します。"
      ]
    },
    {
      "cell_type": "code",
      "execution_count": null,
      "metadata": {
        "id": "SSQ6CHbpqwxR"
      },
      "outputs": [],
      "source": [
        "7/1 == 7//1"
      ]
    },
    {
      "cell_type": "markdown",
      "metadata": {
        "id": "X4nSplL9qwxR"
      },
      "source": [
        "`+` と `-` と `*` と `//` と `%` と `**` では、2つの数が整数ならば結果も整数になります。\n",
        "2つの数が実数であったり、整数と実数が混ざっていたら、結果は実数になります。"
      ]
    },
    {
      "cell_type": "code",
      "execution_count": null,
      "metadata": {
        "id": "hTyKi9sDqwxR"
      },
      "outputs": [],
      "source": [
        "2+5"
      ]
    },
    {
      "cell_type": "code",
      "execution_count": null,
      "metadata": {
        "id": "ASdNUqo8qwxR"
      },
      "outputs": [],
      "source": [
        "2+5.0"
      ]
    },
    {
      "cell_type": "markdown",
      "metadata": {
        "id": "-5i9vRe-qwxR"
      },
      "source": [
        "`/` の結果は必ず実数となります。"
      ]
    },
    {
      "cell_type": "code",
      "execution_count": null,
      "metadata": {
        "id": "VQU9QOqQqwxR"
      },
      "outputs": [],
      "source": [
        "7/1"
      ]
    },
    {
      "cell_type": "markdown",
      "metadata": {
        "id": "GCKNxef3qwxR"
      },
      "source": [
        "ここで、自分で色々と式を入力してみてください。\n",
        "以下に、いくつかセルを用意しておきます。\n",
        "足りなければ、Insertメニューを使ってセルを追加することができます。"
      ]
    },
    {
      "cell_type": "code",
      "execution_count": 1,
      "metadata": {
        "colab": {
          "base_uri": "https://localhost:8080/"
        },
        "id": "VTQ5FmzjqwxR",
        "outputId": "bb690eab-7483-4df0-f319-e447c8c60bf0"
      },
      "outputs": [
        {
          "output_type": "execute_result",
          "data": {
            "text/plain": [
              "8"
            ]
          },
          "metadata": {},
          "execution_count": 1
        }
      ],
      "source": [
        "2**3"
      ]
    },
    {
      "cell_type": "code",
      "execution_count": 2,
      "metadata": {
        "colab": {
          "base_uri": "https://localhost:8080/"
        },
        "id": "l5fSfJKLqwxR",
        "outputId": "347883b5-6cf3-4e35-a5ae-331fac17a54d"
      },
      "outputs": [
        {
          "output_type": "execute_result",
          "data": {
            "text/plain": [
              "6"
            ]
          },
          "metadata": {},
          "execution_count": 2
        }
      ],
      "source": [
        "2+4"
      ]
    },
    {
      "cell_type": "code",
      "execution_count": 3,
      "metadata": {
        "colab": {
          "base_uri": "https://localhost:8080/"
        },
        "id": "nnZweTk7qwxS",
        "outputId": "d74e5f2c-f076-47ed-e253-ac188ef396e9"
      },
      "outputs": [
        {
          "output_type": "execute_result",
          "data": {
            "text/plain": [
              "-2.7"
            ]
          },
          "metadata": {},
          "execution_count": 3
        }
      ],
      "source": [
        "3-5.7"
      ]
    },
    {
      "cell_type": "markdown",
      "metadata": {
        "id": "6S3PGnYqqwxS"
      },
      "source": [
        "### 実数のべき表示"
      ]
    },
    {
      "cell_type": "code",
      "execution_count": null,
      "metadata": {
        "id": "V2uoxuhLqwxS"
      },
      "outputs": [],
      "source": [
        "2.0**1000"
      ]
    },
    {
      "cell_type": "markdown",
      "metadata": {
        "id": "RtBIs-7QqwxS"
      },
      "source": [
        "非常に大きな実数は、10のべきとともに表示（**べき表示**）されます。\n",
        "`e+301` は10の301乗を意味します。"
      ]
    },
    {
      "cell_type": "code",
      "execution_count": null,
      "metadata": {
        "id": "_1F-Yn5mqwxS"
      },
      "outputs": [],
      "source": [
        "2.0**-1000"
      ]
    },
    {
      "cell_type": "markdown",
      "metadata": {
        "id": "qxJlc7VsqwxS"
      },
      "source": [
        "非常に小さな実数も、10のべきとともに表示されます。\n",
        "`e-302` は10の-302乗を意味します。"
      ]
    },
    {
      "cell_type": "markdown",
      "metadata": {
        "id": "2uFgjAidqwxS"
      },
      "source": [
        "### いくらでも大きくなる整数"
      ]
    },
    {
      "cell_type": "code",
      "execution_count": null,
      "metadata": {
        "id": "POrIP3qSqwxZ"
      },
      "outputs": [],
      "source": [
        "2**1000"
      ]
    },
    {
      "cell_type": "markdown",
      "metadata": {
        "id": "4vOWjAfoqwxa"
      },
      "source": [
        "このように、Pythonでは整数はいくらでも大きくなります。\n",
        "もちろん、コンピュータのメモリに納まる限りにおいてですが。"
      ]
    },
    {
      "cell_type": "code",
      "execution_count": null,
      "metadata": {
        "id": "bbV2oGztqwxa"
      },
      "outputs": [],
      "source": [
        "2**2**2**2**2"
      ]
    },
    {
      "cell_type": "markdown",
      "metadata": {
        "id": "6wc-Nl-Fqwxa"
      },
      "source": [
        "### 整数と実数の間の変換\n",
        "\n",
        "実数を整数に変換するには、**`int`** という関数を用います。\n",
        "（関数に関する一般的な説明は1-2を参照してください。）\n",
        "`int(x)` は、実数 `x` を（`0` の方向に）切り下げた結果を返します。"
      ]
    },
    {
      "cell_type": "code",
      "execution_count": null,
      "metadata": {
        "id": "QEFJvtMDqwxa"
      },
      "outputs": [],
      "source": [
        "int(2.9)"
      ]
    },
    {
      "cell_type": "code",
      "execution_count": null,
      "metadata": {
        "id": "G6HDJfR_qwxa"
      },
      "outputs": [],
      "source": [
        "int(-2.9)"
      ]
    },
    {
      "cell_type": "markdown",
      "metadata": {
        "id": "RFXjr48Hqwxa"
      },
      "source": [
        "逆に、整数を実数に変換するには、**`float`** という関数を用います。\n",
        "`float(i)` は、整数 `i` を実数に変換した結果を返します。\n",
        "たとえば `i+0.0` としても、`i` を実数に変換できます。"
      ]
    },
    {
      "cell_type": "code",
      "execution_count": null,
      "metadata": {
        "id": "QYn0p7TUqwxa"
      },
      "outputs": [],
      "source": [
        "float(2)"
      ]
    },
    {
      "cell_type": "code",
      "execution_count": null,
      "metadata": {
        "id": "DnBdzHhWqwxb"
      },
      "outputs": [],
      "source": [
        "2+0.0"
      ]
    },
    {
      "cell_type": "markdown",
      "metadata": {
        "id": "KkswHGfUqwxb"
      },
      "source": [
        "### 数値誤差\n",
        "\n",
        "浮動小数点数には、**数値誤差**が不可避です。\n",
        "これは、有限のビット数で、無限に小さくなり得る小数刻みを表現しようとするためです。\n",
        "（参照：[Wikipedia - 浮動小数点数](https://ja.wikipedia.org/wiki/%E6%B5%AE%E5%8B%95%E5%B0%8F%E6%95%B0%E7%82%B9%E6%95%B0#%E3%82%A8%E3%83%A9%E3%83%BC%EF%BC%88%E8%AA%A4%E5%B7%AE%EF%BC%89)）\n",
        "\n",
        "Pythonでは、整数は無限桁で表現されるため、整数演算には誤差が生じません。\n",
        "しかし、整数を実数に変換したときには、一般に誤差が生じます。"
      ]
    },
    {
      "cell_type": "code",
      "execution_count": null,
      "metadata": {
        "id": "Nkrz6Osgqwxb"
      },
      "outputs": [],
      "source": [
        "10**60"
      ]
    },
    {
      "cell_type": "code",
      "execution_count": null,
      "metadata": {
        "id": "vhirvR2lqwxb"
      },
      "outputs": [],
      "source": [
        "float(10**60)"
      ]
    },
    {
      "cell_type": "code",
      "execution_count": null,
      "metadata": {
        "id": "rY-d1tkdqwxb"
      },
      "outputs": [],
      "source": [
        "int(float(10**60))"
      ]
    },
    {
      "cell_type": "markdown",
      "metadata": {
        "id": "MH9io0tHqwxb"
      },
      "source": [
        "数え上げのような離散的な値を扱う時には、実数を経由せずに、整数のみで演算するようにしましょう。"
      ]
    },
    {
      "cell_type": "markdown",
      "metadata": {
        "id": "s7caIKdLqwxb"
      },
      "source": [
        "## 演算子の優先順位と括弧\n",
        "掛け算や割り算は足し算や引き算よりも先に評価されます。\n",
        "すなわち、掛け算や割り算の方が足し算や引き算よりも**優先順位**が高いと定義されています。\n",
        "\n",
        "**括弧**を使って式の評価順序を指定することができます。\n",
        "\n",
        "なお、数式 $a(b-c)$、$(a-b)(c-d)$ は、それぞれ $a$ と $b-c$、$a-b$ と $c-d$ の積を意味しますが、\n",
        "コードでは、`a*(b-c)` や `(a-b)*(c-d)` のように積の演算子である `*` を明記する必要があることに注意してください。\n",
        "\n",
        "また、数や演算子の間には、自由に空白を入れることができます。（後でもう一度説明します。）"
      ]
    },
    {
      "cell_type": "code",
      "execution_count": null,
      "metadata": {
        "id": "CLg75K09qwxb"
      },
      "outputs": [],
      "source": [
        "7 - 2 * 3"
      ]
    },
    {
      "cell_type": "code",
      "execution_count": null,
      "metadata": {
        "id": "bWtbsAveqwxb"
      },
      "outputs": [],
      "source": [
        "(7 - 2) * 3"
      ]
    },
    {
      "cell_type": "code",
      "execution_count": null,
      "metadata": {
        "id": "e_5az9_pqwxc"
      },
      "outputs": [],
      "source": [
        "17 - 17//3*3"
      ]
    },
    {
      "cell_type": "code",
      "execution_count": null,
      "metadata": {
        "id": "RsH37Ncyqwxc"
      },
      "outputs": [],
      "source": [
        "56 ** 4 ** 2"
      ]
    },
    {
      "cell_type": "code",
      "execution_count": null,
      "metadata": {
        "id": "rJ17fVT6qwxc"
      },
      "outputs": [],
      "source": [
        "56 ** 16"
      ]
    },
    {
      "cell_type": "markdown",
      "metadata": {
        "id": "opMLmHAjqwxc"
      },
      "source": [
        "上の例では、`4**2` が先に評価されて、`56**16` が計算されます。\n",
        "つまり、`x**y**z` = `x**(y**z)` が成り立ちます。\n",
        "このことをもって、`**` は右に結合するといいます。"
      ]
    },
    {
      "cell_type": "code",
      "execution_count": null,
      "metadata": {
        "id": "GMrsvfLRqwxc"
      },
      "outputs": [],
      "source": [
        "16/8/2"
      ]
    },
    {
      "cell_type": "code",
      "execution_count": null,
      "metadata": {
        "id": "nanC2qacqwxc"
      },
      "outputs": [],
      "source": [
        "(16/8)/2"
      ]
    },
    {
      "cell_type": "markdown",
      "metadata": {
        "id": "F5fsRhRBqwxc"
      },
      "source": [
        "上の例では、`16/8` が先に評価されて、`2/2` が計算されます。\n",
        "つまり、`x/y/z` = `(x/y)/z` が成り立ちます。\n",
        "このことをもって、`/` は左に結合するといいます。"
      ]
    },
    {
      "cell_type": "markdown",
      "metadata": {
        "id": "KaTsk8CCqwxc"
      },
      "source": [
        "`*` と `/` をまぜても左に結合します。"
      ]
    },
    {
      "cell_type": "code",
      "execution_count": null,
      "metadata": {
        "id": "vkP3_G7dqwxd"
      },
      "outputs": [],
      "source": [
        "10/2*3"
      ]
    },
    {
      "cell_type": "markdown",
      "metadata": {
        "id": "7G1qF5Tqqwxd"
      },
      "source": [
        "以上のように、演算子によって式の評価の順番がかわりますので注意してください。\n",
        "\n",
        "ではまた、自分で色々と式を入力してみてください。\n",
        "以下に、いくつかセルを用意しておきます。"
      ]
    },
    {
      "cell_type": "code",
      "execution_count": 4,
      "metadata": {
        "colab": {
          "base_uri": "https://localhost:8080/"
        },
        "id": "7KsWuwY-qwxd",
        "outputId": "529ab17d-5058-405c-96ca-98f42255c420"
      },
      "outputs": [
        {
          "output_type": "execute_result",
          "data": {
            "text/plain": [
              "22.0"
            ]
          },
          "metadata": {},
          "execution_count": 4
        }
      ],
      "source": [
        "1+2+3.0+4**2"
      ]
    },
    {
      "cell_type": "code",
      "execution_count": null,
      "metadata": {
        "id": "ThAYOgF6qwxd"
      },
      "outputs": [],
      "source": []
    },
    {
      "cell_type": "code",
      "execution_count": null,
      "metadata": {
        "id": "HFHNHlvsqwxd"
      },
      "outputs": [],
      "source": []
    },
    {
      "cell_type": "markdown",
      "metadata": {
        "id": "JEYMYzWOqwxd"
      },
      "source": [
        "### 単項の `+` と `-`"
      ]
    },
    {
      "cell_type": "markdown",
      "metadata": {
        "id": "KIQJoRBDqwxd"
      },
      "source": [
        "**`+`** と **`-`** は、単項の演算子（**単項演算子**）としても使えます。\n",
        "（これらの演算子の後に1つだけ数が書かれます。\n",
        "前と後の両方に数が書かれる演算子は**2項演算子**と言います。）"
      ]
    },
    {
      "cell_type": "code",
      "execution_count": null,
      "metadata": {
        "id": "o3zjFHKfqwxd"
      },
      "outputs": [],
      "source": [
        "-3"
      ]
    },
    {
      "cell_type": "code",
      "execution_count": null,
      "metadata": {
        "id": "5k4ZLt4Wqwxd"
      },
      "outputs": [],
      "source": [
        "+3"
      ]
    },
    {
      "cell_type": "markdown",
      "metadata": {
        "id": "ln2zBfDpqwxe"
      },
      "source": [
        "## 算術演算子のまとめ\n",
        "\n",
        "算術演算子を、評価の優先順位にしたがって、すなわち結合力の強い順にまとめておきましょう。\n",
        "\n",
        "まず、2項のべき演算子 `**` が最も強く結合します。\n",
        "`**` は右の方から計算され、このことを「右に結合する」と表します。\n",
        "\n",
        "次に、単項の `+` と `-` が強く結合します。\n",
        "なお、 `**` の右側に単項の `+` や `-` がある場合は、`+` と `-` がより強く結合します。\n",
        "例えば、 `-10 ** 2` では `**` がより強く結合し `-100` となり、 `10 ** -2` では `-` がより強く結合し `0.01` となります。\n",
        "\n",
        "その次に、2項の `*` と `/` と `//` と `%` が強く結合します。これらは左に結合します。\n",
        "\n",
        "最後に、2項の `+` と `-` は最も弱く結合します。これらも左に結合します。"
      ]
    },
    {
      "cell_type": "markdown",
      "metadata": {
        "id": "sLzvwrGHqwxe"
      },
      "source": [
        "## 空白\n",
        "既に `7 - 2 * 3` のような例が出てきましたが、\n",
        "演算子と数の間や、演算子と変数（後述）の間には、空白を入れることができます。\n",
        "ここで**空白**とは、**半角の空白**のことで、英数字と同様に1バイトの文字コードに含まれているものです。\n",
        "\n",
        "複数の文字から成る演算子、たとえば `**` や `//` の間に空白を入れることはできません。\n",
        "エラーになることでしょう。"
      ]
    },
    {
      "cell_type": "code",
      "execution_count": null,
      "metadata": {
        "id": "8EynL_wVqwxe"
      },
      "outputs": [],
      "source": [
        "7 **2"
      ]
    },
    {
      "cell_type": "code",
      "execution_count": null,
      "metadata": {
        "tags": [
          "raises-exception"
        ],
        "id": "UrK5hm52qwxe"
      },
      "outputs": [],
      "source": [
        "7* *2"
      ]
    },
    {
      "cell_type": "markdown",
      "metadata": {
        "id": "THHtbYAJqwxe"
      },
      "source": [
        "### 全角の空白\n",
        "日本語文字コードである***全角の空白***は、空白とはみなされませんので注意してください。"
      ]
    },
    {
      "cell_type": "code",
      "execution_count": null,
      "metadata": {
        "tags": [
          "raises-exception"
        ],
        "id": "NRWCRplSqwxe"
      },
      "outputs": [],
      "source": [
        "7　**2"
      ]
    },
    {
      "cell_type": "markdown",
      "metadata": {
        "id": "cCHMFHVPqwxe"
      },
      "source": [
        "## エラー\n",
        "色々と試していると、**エラー**が起こることもあったでしょう。\n",
        "以下は典型的なエラーです。"
      ]
    },
    {
      "cell_type": "code",
      "execution_count": null,
      "metadata": {
        "tags": [
          "raises-exception"
        ],
        "id": "lyLjo55_qwxe"
      },
      "outputs": [],
      "source": [
        "10/0"
      ]
    },
    {
      "cell_type": "markdown",
      "metadata": {
        "id": "YEJ7hhqXqwxe"
      },
      "source": [
        "このエラーは、ゼロによる割り算を行ったためです。\n",
        "**実行時エラー**の典型的なものです。\n",
        "\n",
        "エラーが起こった場合は、修正して評価し直すことができます。\n",
        "上の例で、0 をたとえば 3 に書き換えて評価し直してみてください。"
      ]
    },
    {
      "cell_type": "code",
      "execution_count": null,
      "metadata": {
        "tags": [
          "raises-exception"
        ],
        "id": "tD_rifZ5qwxe"
      },
      "outputs": [],
      "source": [
        "10/"
      ]
    },
    {
      "cell_type": "markdown",
      "metadata": {
        "id": "JDWwQ93Hqwxe"
      },
      "source": [
        "こちらのエラーは**構文エラー**です。\n",
        "つまり、入力がPythonの構文に違反しているため実行できなかったのです。"
      ]
    },
    {
      "cell_type": "markdown",
      "metadata": {
        "id": "swSp05Kaqwxf"
      },
      "source": [
        "## 数学関数（モジュールのインポート）"
      ]
    },
    {
      "cell_type": "code",
      "execution_count": null,
      "metadata": {
        "id": "8lzanhtRqwxf"
      },
      "outputs": [],
      "source": [
        "import math"
      ]
    },
    {
      "cell_type": "code",
      "execution_count": null,
      "metadata": {
        "id": "vgcg-2Dcqwxf"
      },
      "outputs": [],
      "source": [
        "math.sqrt(2)"
      ]
    },
    {
      "cell_type": "markdown",
      "metadata": {
        "id": "CASoQ6Rgqwxf"
      },
      "source": [
        "数学関係の各種の関数は、**モジュール**（**ライブラリ**）として提供されています。\n",
        "これらの関数を使いたいときは、上のように、**`import`** で始まる\n",
        "`import math` というおまじないを一度唱えます。\n",
        "そうしますと、**`math`** というライブラリが読み込まれて（**インポート**されて）、\n",
        "`math.関数名` という形で関数を用いることができます。\n",
        "上の例では、平方根を計算する **`math.sqrt`** という関数が用いられています。"
      ]
    },
    {
      "cell_type": "markdown",
      "metadata": {
        "id": "jNWEwEaBqwxf"
      },
      "source": [
        "もう少し例をあげておきましょう。sinとcosは **`math.sin`** と **`math.cos`** で求まります。"
      ]
    },
    {
      "cell_type": "code",
      "execution_count": null,
      "metadata": {
        "id": "PK1ecCxQqwxf"
      },
      "outputs": [],
      "source": [
        "math.sin(0)"
      ]
    },
    {
      "cell_type": "code",
      "execution_count": null,
      "metadata": {
        "id": "MUnw8iMjqwxf"
      },
      "outputs": [],
      "source": [
        "math.pi"
      ]
    },
    {
      "cell_type": "markdown",
      "metadata": {
        "id": "EkvlHoiFqwxf"
      },
      "source": [
        "**`math.pi`** は、円周率を値とする変数です。\n",
        "\n",
        "変数については後に説明されます。"
      ]
    },
    {
      "cell_type": "code",
      "execution_count": null,
      "metadata": {
        "id": "Kzz7tygGqwxf"
      },
      "outputs": [],
      "source": [
        "math.sin(math.pi)"
      ]
    },
    {
      "cell_type": "markdown",
      "metadata": {
        "id": "SyGlqXFZqwxf"
      },
      "source": [
        "この結果は本当は 0 にならなければならないのですが、\n",
        "数値誤差のためにこのようになっています。"
      ]
    },
    {
      "cell_type": "code",
      "execution_count": null,
      "metadata": {
        "id": "jE0Dz_2Pqwxg"
      },
      "outputs": [],
      "source": [
        "math.sin(math.pi/2)"
      ]
    },
    {
      "cell_type": "code",
      "execution_count": null,
      "metadata": {
        "id": "WQRqcImEqwxg"
      },
      "outputs": [],
      "source": [
        "math.sin(math.pi/4) * 2"
      ]
    },
    {
      "cell_type": "markdown",
      "metadata": {
        "id": "-XlyDpqUqwxg"
      },
      "source": [
        "## 練習"
      ]
    },
    {
      "cell_type": "markdown",
      "metadata": {
        "id": "B9xI_D9Lqwxg"
      },
      "source": [
        "黄金比を求めてください。黄金比とは、5 の平方根に 1 を加えて 2 で割ったものです。約 1.618 になるはずです。"
      ]
    },
    {
      "cell_type": "code",
      "execution_count": 9,
      "metadata": {
        "colab": {
          "base_uri": "https://localhost:8080/"
        },
        "id": "X1f0d2MQqwxg",
        "outputId": "9bebd284-f1d6-479f-c2e7-e05917543f29"
      },
      "outputs": [
        {
          "output_type": "execute_result",
          "data": {
            "text/plain": [
              "1.618033988749895"
            ]
          },
          "metadata": {},
          "execution_count": 9
        }
      ],
      "source": [
        "import math\n",
        "(math.sqrt(5)+1)/2"
      ]
    },
    {
      "cell_type": "code",
      "source": [],
      "metadata": {
        "id": "1N6OjVbNrj-A"
      },
      "execution_count": 5,
      "outputs": []
    }
  ],
  "metadata": {
    "kernelspec": {
      "display_name": "Python 3 (ipykernel)",
      "language": "python",
      "name": "python3"
    },
    "language_info": {
      "codemirror_mode": {
        "name": "ipython",
        "version": 3
      },
      "file_extension": ".py",
      "mimetype": "text/x-python",
      "name": "python",
      "nbconvert_exporter": "python",
      "pygments_lexer": "ipython3",
      "version": "3.12.4"
    },
    "colab": {
      "provenance": []
    }
  },
  "nbformat": 4,
  "nbformat_minor": 0
}