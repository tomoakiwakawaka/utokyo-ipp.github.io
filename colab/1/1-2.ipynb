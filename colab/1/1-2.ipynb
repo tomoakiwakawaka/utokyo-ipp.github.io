{
  "cells": [
    {
      "cell_type": "markdown",
      "metadata": {
        "id": "qSPY55ONr4Em"
      },
      "source": [
        "# 1-2. 変数と関数の基礎\n",
        "変数と関数の基礎について説明します。\n",
        "\n",
        "参考\n",
        "\n",
        "- https://docs.python.org/ja/3/tutorial/introduction.html#first-steps-towards-programming\n",
        "- https://docs.python.org/ja/3/tutorial/controlflow.html#defining-functions\n",
        "- https://docs.python.org/ja/3/library/functions.html#print"
      ]
    },
    {
      "cell_type": "markdown",
      "metadata": {
        "id": "k0Si_DIhr4Et"
      },
      "source": [
        "## 変数\n",
        "プログラミング言語における**変数**とは、値に名前を付ける仕組みであり、名前はその値を指し示すことになります。"
      ]
    },
    {
      "cell_type": "code",
      "execution_count": 2,
      "metadata": {
        "id": "AzwaWd1Fr4Eu"
      },
      "outputs": [],
      "source": [
        "h = 188.0"
      ]
    },
    {
      "cell_type": "markdown",
      "metadata": {
        "id": "N5ZMxLsjr4Ew"
      },
      "source": [
        "以上のように **`=`** を用いる構文によって、`188.0` という値に `h` という名前が付きます。これを**変数定義**と呼びます。\n",
        "\n",
        "定義された変数は、式の中で使うことができます。`h` という変数自体も式なので、`h` という式を評価することができ、変数が指し示す値が返ります。"
      ]
    },
    {
      "cell_type": "code",
      "execution_count": 3,
      "metadata": {
        "id": "hFEbBR_Zr4Ex",
        "outputId": "06c5aa91-4f1c-4eee-8546-f58397f8943a",
        "colab": {
          "base_uri": "https://localhost:8080/"
        }
      },
      "outputs": [
        {
          "output_type": "execute_result",
          "data": {
            "text/plain": [
              "188.0"
            ]
          },
          "metadata": {},
          "execution_count": 3
        }
      ],
      "source": [
        "h"
      ]
    },
    {
      "cell_type": "markdown",
      "metadata": {
        "id": "u8zCOHm_r4Ex"
      },
      "source": [
        "異なる変数は、いくらでも導入できます。たとえば、以下では `w` を変数定義します。"
      ]
    },
    {
      "cell_type": "code",
      "execution_count": 6,
      "metadata": {
        "id": "9qpRgrtMr4Ey"
      },
      "outputs": [],
      "source": [
        "w = 104.0"
      ]
    },
    {
      "cell_type": "markdown",
      "metadata": {
        "id": "pdcGNyXpr4Ey"
      },
      "source": [
        "ここで、`h` を身長 (cm)、`w` を体重 (kg) の意味と考えると、次の式によってBMI（ボディマス指数）を計算できます。"
      ]
    },
    {
      "cell_type": "code",
      "execution_count": 7,
      "metadata": {
        "id": "dQKnOzNbr4Ey",
        "outputId": "8d31270f-fa53-498d-8ad7-e63c025b691c",
        "colab": {
          "base_uri": "https://localhost:8080/"
        }
      },
      "outputs": [
        {
          "output_type": "execute_result",
          "data": {
            "text/plain": [
              "29.425079221367138"
            ]
          },
          "metadata": {},
          "execution_count": 7
        }
      ],
      "source": [
        "w / (h/100.0) ** 2"
      ]
    },
    {
      "cell_type": "markdown",
      "metadata": {
        "id": "MPLHNiY6r4Ez"
      },
      "source": [
        "なお、演算子 `**` の方が `/` よりも先に評価されることに注意してください。"
      ]
    },
    {
      "cell_type": "markdown",
      "metadata": {
        "id": "1W9Gv1-mr4Ez"
      },
      "source": [
        "変数という名前の通り、変数が指し示す値を変えることもできます。"
      ]
    },
    {
      "cell_type": "code",
      "execution_count": 8,
      "metadata": {
        "id": "WeP1lM2cr4E0"
      },
      "outputs": [],
      "source": [
        "w = 104.0-10"
      ]
    },
    {
      "cell_type": "markdown",
      "metadata": {
        "id": "5ZZAQg2Xr4E0"
      },
      "source": [
        "このように変数を再定義すれば、元々 `w` が指し示していた値 `104.0` を忘れて、新たな値 `94.0` を指し示すようになります。\n",
        "この後で、前と同じBMIの式を評価してみると、`w` の値の変化に応じて、BMIの計算結果は変わります。"
      ]
    },
    {
      "cell_type": "code",
      "execution_count": 9,
      "metadata": {
        "id": "5BVb5FQEr4E0",
        "outputId": "0f71aaa4-b13a-46bf-81c5-fb76c598aa05",
        "colab": {
          "base_uri": "https://localhost:8080/"
        }
      },
      "outputs": [
        {
          "output_type": "execute_result",
          "data": {
            "text/plain": [
              "26.595744680851066"
            ]
          },
          "metadata": {},
          "execution_count": 9
        }
      ],
      "source": [
        "w / (h/100.0) ** 2"
      ]
    },
    {
      "cell_type": "markdown",
      "metadata": {
        "id": "tIFppknAr4E1"
      },
      "source": [
        "なお、未定義の変数（たとえば `BMI`）を式の中で用いると、次のようにエラーが生じます。\n",
        "\n",
        "```\n",
        "---------------------------------------------------------------------------\n",
        "NameError                                 Traceback (most recent call last)\n",
        "<ipython-input-1-b910749d4383> in <module>\n",
        "----> 1 BMI  # 未定義の変数\n",
        "\n",
        "NameError: name 'BMI' is not defined\n",
        "```\n",
        "\n",
        "次のセルの行頭にある `#` を削除して実行してみましょう。"
      ]
    },
    {
      "cell_type": "code",
      "execution_count": null,
      "metadata": {
        "id": "QGqIOxlVr4E1"
      },
      "outputs": [],
      "source": [
        "# BMI  # 未定義の変数"
      ]
    },
    {
      "cell_type": "markdown",
      "metadata": {
        "id": "sMHc3funr4E1"
      },
      "source": [
        "以降では、単純のため、変数が指し示す値を、変数の値として説明していきます。"
      ]
    },
    {
      "cell_type": "markdown",
      "metadata": {
        "id": "RUqEK31wr4E1"
      },
      "source": [
        "### 代入文\n",
        "変数定義に用いた **`=`** による構文を、Pythonでは**代入文** (**assignment statement**) と呼びます。\n",
        "そして、代入文を実行することを**代入** (**assignment**) と言います。\n",
        "代入文は、`=` の左辺に右辺の式の評価結果の値を割り当てる文です。\n",
        "上記の例のように、左辺が変数の場合には、代入文は変数定義と解釈されます。\n",
        "\n",
        "代入文は、右辺を評価した後に左辺に割り当てるという順番に従います。右辺に出現する変数が左辺に出て来てもかまいません。"
      ]
    },
    {
      "cell_type": "code",
      "execution_count": 11,
      "metadata": {
        "id": "A6SBbCkjr4E1"
      },
      "outputs": [],
      "source": [
        "w = w-10"
      ]
    },
    {
      "cell_type": "markdown",
      "metadata": {
        "id": "6sTmRfeqr4E2"
      },
      "source": [
        "上の代入文は、`w` の値を `10` 減らす操作となります。`=` は数学的な等号ではないことに注意してください。\n",
        "\n",
        "もう一度BMIを計算してみると、`w` の値が減ったことで、先と結果が変わります。"
      ]
    },
    {
      "cell_type": "code",
      "execution_count": 12,
      "metadata": {
        "id": "swbpIt61r4E2",
        "outputId": "a431e951-a7ed-46ee-adfb-aaafe8747c5c",
        "colab": {
          "base_uri": "https://localhost:8080/"
        }
      },
      "outputs": [
        {
          "output_type": "execute_result",
          "data": {
            "text/plain": [
              "20.937075599818925"
            ]
          },
          "metadata": {},
          "execution_count": 12
        }
      ],
      "source": [
        "w / (h/100.0) ** 2"
      ]
    },
    {
      "cell_type": "markdown",
      "metadata": {
        "id": "2yIv4nnpr4E2"
      },
      "source": [
        "***注意***： 数学における代入は、substitution（置換）であり、プログラミング言語における代入 (assignment) とは異なります。代入という単語よりも、assignment（割り当て）という単語で概念を覚えましょう。"
      ]
    },
    {
      "cell_type": "markdown",
      "metadata": {
        "id": "1j2fzxCgr4E2"
      },
      "source": [
        "### 累積代入文\n",
        "上の例のように変数の値を減らす操作は、次のような**累算代入文** (**augmented assignment statement**) を使って簡潔に記述することができます。"
      ]
    },
    {
      "cell_type": "code",
      "execution_count": 18,
      "metadata": {
        "id": "0YgDAKPSr4E2",
        "outputId": "d4a69bea-be2b-43ba-c069-39aaf72c21f0",
        "colab": {
          "base_uri": "https://localhost:8080/"
        }
      },
      "outputs": [
        {
          "output_type": "execute_result",
          "data": {
            "text/plain": [
              "54.0"
            ]
          },
          "metadata": {},
          "execution_count": 18
        }
      ],
      "source": [
        "w -= 10\n",
        "w"
      ]
    },
    {
      "cell_type": "markdown",
      "metadata": {
        "id": "jDNur21Sr4E2"
      },
      "source": [
        "ここで、**`-=`** という演算子は、`-` と `=` を結合させた演算子で、`w = w - 10` という代入文と同じ意味になります。\n",
        "これは代入文と2項演算が複合したものであり、`-` に限らず、他の2項演算についても同様に複合した累算代入文が利用できます。たとえば、変数の値を増やすには **`+=`** という演算子を用いることができます。"
      ]
    },
    {
      "cell_type": "code",
      "execution_count": 19,
      "metadata": {
        "id": "A6_X2ndtr4E2",
        "outputId": "7583d717-f305-4c6e-c97c-4bb0a2887c76",
        "colab": {
          "base_uri": "https://localhost:8080/"
        }
      },
      "outputs": [
        {
          "output_type": "execute_result",
          "data": {
            "text/plain": [
              "64.0"
            ]
          },
          "metadata": {},
          "execution_count": 19
        }
      ],
      "source": [
        "w += 10\n",
        "w"
      ]
    },
    {
      "cell_type": "markdown",
      "metadata": {
        "id": "pgDmSP4Sr4E2"
      },
      "source": [
        "`=` も含めて、これらの演算子は**代入演算子**と呼ばれています。代入演算子によって変数の値がどのように変わるか、確かめてください。"
      ]
    },
    {
      "cell_type": "code",
      "execution_count": 22,
      "metadata": {
        "id": "eMuhNvpGr4E3",
        "outputId": "ad3189b4-dbce-4783-ce4c-ede781548663",
        "colab": {
          "base_uri": "https://localhost:8080/"
        }
      },
      "outputs": [
        {
          "output_type": "execute_result",
          "data": {
            "text/plain": [
              "128.0"
            ]
          },
          "metadata": {},
          "execution_count": 22
        }
      ],
      "source": [
        "w*=2\n",
        "w"
      ]
    },
    {
      "cell_type": "markdown",
      "metadata": {
        "id": "zvBidlCpr4E3"
      },
      "source": [
        "## 関数の定義と返値\n",
        "前述のように、変数の値が変わるたびにBMIの式を入力するのは面倒です。以下では、身長 `height` と体重 `weight` をもらって、BMIを計算する**関数** `bmi` を定義してみましょう。関数を定義すると、BMIの式の再入力を省けて便利です。\n",
        "\n",
        "次のような形式で、**関数定義**を記述できます。\n",
        "\n",
        "関数定義など、複数行のコードセルには、**行番号**を振るのがよいかもしれません。行番号を振るかどうかは、コマンドモードでエルの文字（大文字でも小文字でもよいです）を入力することによって、スイッチできます。行番号があるかないかは、コードの実行には影響しません。"
      ]
    },
    {
      "cell_type": "code",
      "execution_count": 24,
      "metadata": {
        "id": "E8IkLQIbr4E3"
      },
      "outputs": [],
      "source": [
        "def bmi(height, weight):\n",
        "    return weight / (height/100.0) ** 2"
      ]
    },
    {
      "cell_type": "markdown",
      "metadata": {
        "id": "cjiIgvK1r4E3"
      },
      "source": [
        "Python では、**関数定義**は、上のような形をしています。\n",
        "最初の行は以下のように **`def`** で始まります。\n",
        "\n",
        "------\n",
        "```Python\n",
        "    def 関数名(引数, ...):\n",
        "```\n",
        "------\n",
        "**引数**（ひきすう）とは、関数が受け取る値を指し示す変数のことです。**仮引数**（かりひきすう）ともいいます。"
      ]
    },
    {
      "cell_type": "markdown",
      "metadata": {
        "id": "irRHnZefr4E3"
      },
      "source": [
        "`:` 以降は関数定義の本体であり、関数の処理を記述する部分として以下の構文が続きます。\n",
        "\n",
        "------\n",
        "```Python\n",
        "    return 式\n",
        "```\n",
        "------   \n",
        "\n",
        "この構文は **`return`** で始まり、**return文**と呼ばれます。return文は、`return` に続く式の評価結果を、関数の呼び出し元に返して（これを**返値**と言います）、関数を終了するという意味を持ちます。この関数を、入力となる引数とともに呼び出すと、`return` の後の式の評価結果を返値として返します。\n",
        "\n",
        "\n",
        "ここで、Pythonでは、\n",
        "`return` の前に空白が入ることに注意してください。\n",
        "このような行頭の空白を**インデント**と呼びます。\n",
        "Pythonでは、インデントの量によって、\n",
        "構文の**入れ子**を制御するようになっています。このことについては、\n",
        "より複雑な構文が出てきたときに説明しましょう。\n",
        "\n",
        "\n",
        "上記では、`def` の後に続く `bmi` が関数名です。それに続く括弧の中に書かれた `height` と `weight` は、**引数**です。また、`return` の後にBMIの計算式を記述しているので、関数の呼び出し元にはBMIの計算結果が返値として返ります。\n",
        "\n",
        "\n",
        "では、定義した関数 `bmi` を呼び出してみましょう。"
      ]
    },
    {
      "cell_type": "code",
      "execution_count": 25,
      "metadata": {
        "id": "qKR_6mZNr4E3",
        "outputId": "a0966000-eca1-42a1-c4e8-576544131566",
        "colab": {
          "base_uri": "https://localhost:8080/"
        }
      },
      "outputs": [
        {
          "output_type": "execute_result",
          "data": {
            "text/plain": [
              "29.425079221367138"
            ]
          },
          "metadata": {},
          "execution_count": 25
        }
      ],
      "source": [
        "bmi(188.0,104.0)"
      ]
    },
    {
      "cell_type": "markdown",
      "metadata": {
        "id": "rqw20ie3r4E4"
      },
      "source": [
        "第1引数を身長（cm）、第2引数を体重（kg）としたときのBMIが計算されていることがわかります。\n",
        "\n",
        "関数呼び出しは演算式の一種なので、引数の位置には任意の式を記述できますし、\n",
        "関数呼び出し自体も式の中に記述できます。"
      ]
    },
    {
      "cell_type": "code",
      "execution_count": 26,
      "metadata": {
        "id": "-EGMe3yir4E4",
        "outputId": "19ff61c4-012f-4e81-ec14-6555f7bae6f5",
        "colab": {
          "base_uri": "https://localhost:8080/"
        }
      },
      "outputs": [
        {
          "output_type": "execute_result",
          "data": {
            "text/plain": [
              "19.628947020742505"
            ]
          },
          "metadata": {},
          "execution_count": 26
        }
      ],
      "source": [
        "1.1*bmi(174.0, 119.0 * 0.454)"
      ]
    },
    {
      "cell_type": "markdown",
      "metadata": {
        "id": "xEAvUlBJr4E4"
      },
      "source": [
        "もう1つ関数を定義してみましょう。"
      ]
    },
    {
      "cell_type": "code",
      "execution_count": 27,
      "metadata": {
        "id": "KyK-gFFJr4E4"
      },
      "outputs": [],
      "source": [
        "def felt_air_temperature(temperature, humidity):\n",
        "    return temperature - 1 / 2.3 * (temperature - 10) * (0.8 - humidity / 100)"
      ]
    },
    {
      "cell_type": "markdown",
      "metadata": {
        "id": "9CBY4tGxr4E5"
      },
      "source": [
        "この関数は、温度と湿度を入力として、体感温度を返します。\n",
        "このように、関数名や変数名には `_` (アンダースコア）を含めることができます。\n",
        "アンダースコアで始めることもできます。\n",
        "\n",
        "数字も関数名や変数名に含めることができますが、\n",
        "名前の最初に来てはいけません。"
      ]
    },
    {
      "cell_type": "code",
      "execution_count": 28,
      "metadata": {
        "id": "1nQO-05ur4E5",
        "outputId": "4b1da77c-8e2d-4bee-ec01-567c5c413a79",
        "colab": {
          "base_uri": "https://localhost:8080/"
        }
      },
      "outputs": [
        {
          "output_type": "execute_result",
          "data": {
            "text/plain": [
              "25.652173913043477"
            ]
          },
          "metadata": {},
          "execution_count": 28
        }
      ],
      "source": [
        "felt_air_temperature(28, 50)"
      ]
    },
    {
      "cell_type": "markdown",
      "metadata": {
        "id": "hNAdy5-er4FA"
      },
      "source": [
        "なお、`return` の後に式を書かないと、何も返されなかったことを表現するために、「何もない」ことを表す **`None`** という特別な値が返ります。\n",
        "（`None` という値は色々なところで現れることでしょう。）\n",
        "\n",
        "return文に到達せずに関数定義本体の最後まで行ってしまったときも、`None` という値が返ります。"
      ]
    },
    {
      "cell_type": "markdown",
      "metadata": {
        "id": "UxKaZxlZr4FB"
      },
      "source": [
        "### 予約語\n",
        "Pythonでの `def` や `return` は、関数定義やreturn文の始まりを記述するための特別な記号であり、それ以外の用途に用いることができません。\n",
        "このように構文上で役割が予約されている語は、**予約語**と呼ばれます。\n",
        "Codeセルの構文ハイライトで（太字緑色などで）強調されるものが予約語だと覚えておけば大体問題ありません。"
      ]
    },
    {
      "cell_type": "markdown",
      "metadata": {
        "id": "Hz35jacSr4FB"
      },
      "source": [
        "### 練習 `ft_to_cm`\n",
        "\n",
        "`f` フィート `i` インチをセンチメートルに変換する関数 `ft_to_cm(f,i)` を定義してください。\n",
        "ただし、1 フィート = 12 インチ = 30.48 cm としてよい。"
      ]
    },
    {
      "cell_type": "code",
      "execution_count": 31,
      "metadata": {
        "id": "SImrcGs9r4FB"
      },
      "outputs": [],
      "source": [
        "def ft_to_cm(f, i):\n",
        "    return f*30.48+i*(30.48/12)"
      ]
    },
    {
      "cell_type": "markdown",
      "metadata": {
        "id": "lj1bpJ7Lr4FB"
      },
      "source": [
        "定義ができたら、次のセルを実行して、エラーがでないことを確認してください。"
      ]
    },
    {
      "cell_type": "code",
      "execution_count": 32,
      "metadata": {
        "tags": [
          "raises-exception"
        ],
        "id": "npD3YZCkr4FC"
      },
      "outputs": [],
      "source": [
        "assert round(ft_to_cm(5, 2) - 157.48, 6) == 0\n",
        "assert round(ft_to_cm(6, 5) - 195.58, 6) == 0"
      ]
    },
    {
      "cell_type": "markdown",
      "metadata": {
        "id": "6onIDwUrr4FC"
      },
      "source": [
        "### 練習 `quadratic`\n",
        "\n",
        "二次関数 $f(x) = ax^2+bx+c$ の値を求める `quadratic(a,b,c,x)` を定義してください。"
      ]
    },
    {
      "cell_type": "code",
      "execution_count": 41,
      "metadata": {
        "id": "o9FflMlSr4FC"
      },
      "outputs": [],
      "source": [
        "def quadratic(a, b, c, x):\n",
        "    return a*x**2+b*x+c"
      ]
    },
    {
      "cell_type": "markdown",
      "metadata": {
        "id": "EBWO_PYer4FC"
      },
      "source": [
        "定義ができたら、次のセルを実行して、エラーがでないことを確認してください。"
      ]
    },
    {
      "cell_type": "code",
      "execution_count": 43,
      "metadata": {
        "id": "BJ_LuXDnr4FC"
      },
      "outputs": [],
      "source": [
        "\n",
        "assert quadratic(1, 2, 1, 3) == 16\n",
        "assert quadratic(1, -5, -2, 7) == 12"
      ]
    },
    {
      "cell_type": "markdown",
      "metadata": {
        "id": "diLjTJYpr4FC"
      },
      "source": [
        "## ローカル変数\n",
        "次の関数は、ヘロンの公式によって、\n",
        "与えられた三辺の長さに対して三角形の面積を返すものです。"
      ]
    },
    {
      "cell_type": "code",
      "execution_count": 44,
      "metadata": {
        "id": "hf3zTL8yr4FC"
      },
      "outputs": [],
      "source": [
        "import math\n",
        "\n",
        "def heron(a,b,c):\n",
        "    s = 0.5*(a+b+c)\n",
        "    return math.sqrt(s * (s-a) * (s-b) * (s-c))"
      ]
    },
    {
      "cell_type": "markdown",
      "metadata": {
        "id": "QzGlDr-dr4FC"
      },
      "source": [
        "`math.sqrt` を使うために `import math` を行っています。"
      ]
    },
    {
      "cell_type": "markdown",
      "metadata": {
        "id": "kPFHL4Yqr4FC"
      },
      "source": [
        "次の式を評価してみましょう。"
      ]
    },
    {
      "cell_type": "code",
      "execution_count": 45,
      "metadata": {
        "id": "ZhJrFR5Or4FD",
        "outputId": "c8c9cb7e-44c2-4e9b-c247-bf6b92b52ca8",
        "colab": {
          "base_uri": "https://localhost:8080/"
        }
      },
      "outputs": [
        {
          "output_type": "execute_result",
          "data": {
            "text/plain": [
              "6.0"
            ]
          },
          "metadata": {},
          "execution_count": 45
        }
      ],
      "source": [
        "heron(3,4,5)"
      ]
    },
    {
      "cell_type": "markdown",
      "metadata": {
        "id": "40PO-fq9r4FD"
      },
      "source": [
        "この関数の中では、まず、3辺の長さを足して 2 で割った（0.5 を掛けた）値を求めています。\n",
        "そして、その値を `s` という変数に代入しています。\n",
        "この `s` という変数は、この関数の中で代入されているので、この関数の中だけで利用可能な変数となります。\n",
        "そのような変数を**ローカル変数**と呼びます。\n",
        "\n",
        "そして、`s` を使った式が計算されてreturn文で返されます。\n",
        "ここで、関数定義のひとまとまりの本体であることを表すために、`s` への代入文もreturn文も、同じ深さでインデントされていることに注意してください。"
      ]
    },
    {
      "cell_type": "markdown",
      "metadata": {
        "id": "AwQih7Szr4FD"
      },
      "source": [
        "Pythonでは、関数の中で定義された変数は、その関数のローカル変数となります。関数の引数もローカル変数です。関数の外で同じ名前の変数を使っても、それは関数のローカル変数とは「別もの」と考えられます。"
      ]
    },
    {
      "cell_type": "markdown",
      "metadata": {
        "id": "3z3ppjJdr4FD"
      },
      "source": [
        "`heron` を呼び出した後で、関数の外で `s` の値を参照しても、以下のように、`s` が未定義という扱いになります。"
      ]
    },
    {
      "cell_type": "code",
      "execution_count": 46,
      "metadata": {
        "tags": [
          "raises-exception"
        ],
        "id": "p4hIiDX0r4FD",
        "outputId": "e9a4717c-1f35-4298-cae1-2ebd5cf5bc68",
        "colab": {
          "base_uri": "https://localhost:8080/",
          "height": 145
        }
      },
      "outputs": [
        {
          "output_type": "error",
          "ename": "NameError",
          "evalue": "name 's' is not defined",
          "traceback": [
            "\u001b[0;31m---------------------------------------------------------------------------\u001b[0m",
            "\u001b[0;31mNameError\u001b[0m                                 Traceback (most recent call last)",
            "\u001b[0;32m<ipython-input-46-ded5ba42480f>\u001b[0m in \u001b[0;36m<cell line: 0>\u001b[0;34m()\u001b[0m\n\u001b[0;32m----> 1\u001b[0;31m \u001b[0ms\u001b[0m\u001b[0;34m\u001b[0m\u001b[0;34m\u001b[0m\u001b[0m\n\u001b[0m",
            "\u001b[0;31mNameError\u001b[0m: name 's' is not defined"
          ]
        }
      ],
      "source": [
        "s"
      ]
    },
    {
      "cell_type": "markdown",
      "metadata": {
        "id": "lNcs43v9r4FD"
      },
      "source": [
        "以下では、`heron` の中では、`s` というローカル変数の値は 3 になりますが、関数の外では、`s` という変数は別もので、その値はずっと `100` です。"
      ]
    },
    {
      "cell_type": "code",
      "execution_count": 47,
      "metadata": {
        "id": "nPmLkoDUr4FD",
        "outputId": "e952d9fc-e965-4824-fa08-f1cfa592dc3a",
        "colab": {
          "base_uri": "https://localhost:8080/"
        }
      },
      "outputs": [
        {
          "output_type": "execute_result",
          "data": {
            "text/plain": [
              "6.0"
            ]
          },
          "metadata": {},
          "execution_count": 47
        }
      ],
      "source": [
        "s = 100\n",
        "heron(3,4,5)"
      ]
    },
    {
      "cell_type": "code",
      "execution_count": 48,
      "metadata": {
        "id": "z32_9Da8r4FE",
        "outputId": "2fd8c3dd-d617-4b13-c509-1b7d349e6dde",
        "colab": {
          "base_uri": "https://localhost:8080/"
        }
      },
      "outputs": [
        {
          "output_type": "execute_result",
          "data": {
            "text/plain": [
              "100"
            ]
          },
          "metadata": {},
          "execution_count": 48
        }
      ],
      "source": [
        "s"
      ]
    },
    {
      "cell_type": "markdown",
      "metadata": {
        "id": "_EOIM783r4FE"
      },
      "source": [
        "## `print`\n",
        "上の例で、ローカル変数は関数の返値を計算するのに使われますが、それが定義されている関数の外からは参照することができません。\n",
        "\n",
        "ローカル変数の値など、関数の実行途中の状況を確認するには、 **`print`** というPythonが最初から用意してくれている関数（**組み込み関数**）を用いることができます。この `print` を関数内から呼び出すことでローカル変数の値を確認できます。\n",
        "\n",
        "`print` は任意個の引数を取ることができ、コンマ `,` の区切りには空白文字が出力されます。引数を与えずに呼び出した場合には、改行のみを出力します。"
      ]
    },
    {
      "cell_type": "code",
      "execution_count": null,
      "metadata": {
        "id": "D990GEq8r4FE"
      },
      "outputs": [],
      "source": [
        "def heron(a,b,c):\n",
        "    s = 0.5*(a+b+c)\n",
        "    print('The value of s is', s)\n",
        "    return math.sqrt(s * (s-a) * (s-b) * (s-c))"
      ]
    },
    {
      "cell_type": "code",
      "execution_count": 49,
      "metadata": {
        "id": "CXuojr8jr4FE",
        "outputId": "60921d12-9725-473c-9009-656520d83919",
        "colab": {
          "base_uri": "https://localhost:8080/"
        }
      },
      "outputs": [
        {
          "output_type": "execute_result",
          "data": {
            "text/plain": [
              "0.4330127018922193"
            ]
          },
          "metadata": {},
          "execution_count": 49
        }
      ],
      "source": [
        "heron(1,1,1)"
      ]
    },
    {
      "cell_type": "markdown",
      "metadata": {
        "id": "LRe8sV2Cr4FE"
      },
      "source": [
        "このように `print` 関数を用いて変数の値を観察することは、プログラムの誤り（**バグ**）を見つけ、修正（**デバッグ**）する最も基本的な方法です。これは1-4でも改めて説明します。\n",
        "\n",
        "なお、以降の説明では、 `print` 関数を呼び出して値を出力することを「**印字**する」と表現します。"
      ]
    },
    {
      "cell_type": "markdown",
      "metadata": {
        "id": "FxoU1clHr4FE"
      },
      "source": [
        "## `print` と `return`\n",
        "関数が値を返すことを期待されている場合は、必ず `return` を使ってください。\n",
        "\n",
        "関数内で値を印字しても、関数の返値として利用することはできません。\n",
        "\n",
        "たとえば `heron` を以下のように定義すると、`heron(1,1,1) * 2` のような計算ができなくなります。\n",
        "\n",
        "---\n",
        "```Python\n",
        "def heron(a,b,c):\n",
        "    s = 0.5*(a+b+c)\n",
        "    print('The value of s is', s)\n",
        "    print(math.sqrt(s * (s-a) * (s-b) * (s-c)))\n",
        "```\n",
        "---\n",
        "\n",
        "なお、\n",
        "\n",
        "```Python\n",
        "    return print(math.sqrt(s * (s-a) * (s-b) * (s-c)))\n",
        "```\n",
        "\n",
        "のように書いても駄目です。`print` 関数は `None` という値を返しますので、これでは関数は常に `None` という値を返してしまいます。"
      ]
    },
    {
      "cell_type": "markdown",
      "metadata": {
        "id": "AefZqsA3r4FE"
      },
      "source": [
        "## コメントと空行\n",
        "**コメント**については既に説明しましたが、\n",
        "関数定義にはコメントを付加して、後から読んでもわかるようにしましょう。\n",
        "\n",
        "コメントだけの行は**空行**（空白のみから成る行）と同じに扱われます。\n",
        "\n",
        "関数定義の中に空行を自由に入れることができますので、\n",
        "長い関数定義には、区切りとなるところに空行を入れるのがよいでしょう。"
      ]
    },
    {
      "cell_type": "code",
      "execution_count": 50,
      "metadata": {
        "id": "4fVjMH_or4FE"
      },
      "outputs": [],
      "source": [
        "# heronの公式により三角形の面積を返す\n",
        "def heron(a,b,c): # a,b,c は三辺の長さ\n",
        "\n",
        "    # 辺の合計の半分をsに置く\n",
        "    s = 0.5*(a+b+c)\n",
        "    print('The value of s is', s)\n",
        "\n",
        "    return math.sqrt(s * (s-a) * (s-b) * (s-c))"
      ]
    },
    {
      "cell_type": "markdown",
      "metadata": {
        "id": "cHPisVAmr4FF"
      },
      "source": [
        "## 関数の参照の書き方\n",
        "\n",
        "関数は、\n",
        "\n",
        "　　関数 `heron` は、三角形の三辺の長さをもらって三角形の面積を返します。\n",
        "    \n",
        "というように、名前だけで参照することもありますが、\n",
        "\n",
        "　　`heron(a,b,c)` は、三角形の三辺の長さ `a`, `b`, `c` をもらって三角形の面積を返します。\n",
        "\n",
        "というように、引数を明示して参照することもあります。\n",
        "\n",
        "ときには、\n",
        "\n",
        "　　`heron()` は三角形の面積を返します。\n",
        "    \n",
        "のように、関数名に `()` を付けて参照することがあります。\n",
        "この記法は、`heron` が関数であることを明示しています。\n",
        "\n",
        "関数には引数がゼロ個のものがあるのですが、`heron()` と参照するとき、\n",
        "`heron` は必ずしも引数の数がゼロ個ではないことに注意してください。\n",
        "\n",
        "後に学習するメソッドという関数の親戚に対しても同様の記法が用いられます。"
      ]
    },
    {
      "cell_type": "markdown",
      "metadata": {
        "id": "X8Dr-rKSr4FF"
      },
      "source": [
        "### 練習 `qe_disc` `qe_solution1` `qe_solution1`\n",
        "\n",
        "二次方程式 $ax^2 + bx + c = 0$ に関して以下のような関数を定義してください。\n",
        "\n",
        "1. 判別式 $b^2 - 4ac$ を求める `qe_disc(a,b,c)`\n",
        "2. 解のうち、大きくない方を求める `qe_solution1(a,b,c)`\n",
        "3. 解のうち、小さくない方を求める `qe_solution2(a,b,c)`\n",
        "\n",
        "ただし、`qe_solution1` と `qe_solution2` は `qe_disc` を使って定義してください。\n",
        "二次方程式が実数解を持つと仮定してよいです。"
      ]
    },
    {
      "cell_type": "code",
      "execution_count": 54,
      "metadata": {
        "id": "JxdgRS-jr4FF"
      },
      "outputs": [],
      "source": [
        "import math\n",
        "\n",
        "def qe_disc(a, b, c):\n",
        "    return b**2-4*a*c\n",
        "\n",
        "def qe_solution1(a, b, c):\n",
        "    return (-b - math.sqrt(qe_disc(a, b, c))) / (2*a)\n",
        "\n",
        "def qe_solution2(a, b, c):\n",
        "    return (-b + math.sqrt(qe_disc(a, b, c))) / (2*a)"
      ]
    },
    {
      "cell_type": "markdown",
      "metadata": {
        "id": "vGKoeNTgr4FF"
      },
      "source": [
        "定義ができたら、次のセルを実行して、エラーがでないことを確認してください。"
      ]
    },
    {
      "cell_type": "code",
      "execution_count": 55,
      "metadata": {
        "tags": [
          "raises-exception"
        ],
        "id": "Niu1zrGar4FF"
      },
      "outputs": [],
      "source": [
        "assert qe_disc(1, -2, 1) == 0\n",
        "assert qe_disc(1, -5, 6) == 1\n",
        "assert round(qe_solution1(1, -2, 1) - 1, 6) == 0\n",
        "assert round(qe_solution2(1, -2, 1) - 1, 6) == 0\n",
        "assert round(qe_solution1(1, -5, 6) - 2, 6) == 0\n",
        "assert round(qe_solution2(1, -5, 6) - 3, 6) == 0"
      ]
    },
    {
      "cell_type": "markdown",
      "metadata": {
        "id": "VdzzEFMxr4FF"
      },
      "source": [
        "## ▲グローバル変数\n",
        "\n",
        "Pythonでは、関数の中で代入が行われない変数は、グローバル変数とみなされます。\n",
        "\n",
        "**グローバル変数**とは、関数の外（**トップレベル**もしくは**モジュールレベル**と呼ばれます）で定義される変数のことです。\n",
        "\n",
        "グローバル変数は、関数の中から参照することができます。"
      ]
    },
    {
      "cell_type": "code",
      "execution_count": 56,
      "metadata": {
        "id": "GtENhXLzr4FF"
      },
      "outputs": [],
      "source": [
        "g = 9.8"
      ]
    },
    {
      "cell_type": "code",
      "execution_count": 57,
      "metadata": {
        "id": "j1FA8nKkr4FF"
      },
      "outputs": [],
      "source": [
        "def force(m):\n",
        "    return m*g"
      ]
    },
    {
      "cell_type": "markdown",
      "metadata": {
        "id": "A1BiIAjnr4FG"
      },
      "source": [
        "以上のように `force` を定義すると、\n",
        "`force` の中で `g` というグローバル変数を参照することができます。"
      ]
    },
    {
      "cell_type": "code",
      "execution_count": 58,
      "metadata": {
        "id": "n9sCL5Wlr4FG",
        "outputId": "37e84af3-5995-4946-bd9c-1ec36cf2ea6c",
        "colab": {
          "base_uri": "https://localhost:8080/"
        }
      },
      "outputs": [
        {
          "output_type": "execute_result",
          "data": {
            "text/plain": [
              "1019.2"
            ]
          },
          "metadata": {},
          "execution_count": 58
        }
      ],
      "source": [
        "force(104)"
      ]
    },
    {
      "cell_type": "code",
      "execution_count": 59,
      "metadata": {
        "id": "uoYQQGuyr4FG"
      },
      "outputs": [],
      "source": [
        "g = g/6"
      ]
    },
    {
      "cell_type": "markdown",
      "metadata": {
        "id": "BUcdR9rGr4FG"
      },
      "source": [
        "以上のように、`g` の値を変更してから `force` を実行すると、\n",
        "変更後の値が用いられます。"
      ]
    },
    {
      "cell_type": "code",
      "execution_count": 60,
      "metadata": {
        "id": "jgPYC4_8r4FG",
        "outputId": "d4ee48e0-e68d-4a43-ea06-3608fd4d68c0",
        "colab": {
          "base_uri": "https://localhost:8080/"
        }
      },
      "outputs": [
        {
          "output_type": "execute_result",
          "data": {
            "text/plain": [
              "169.86666666666667"
            ]
          },
          "metadata": {},
          "execution_count": 60
        }
      ],
      "source": [
        "force(104)"
      ]
    },
    {
      "cell_type": "markdown",
      "metadata": {
        "id": "f2jxOWJMr4FG"
      },
      "source": [
        "以下はより簡単な例です。"
      ]
    },
    {
      "cell_type": "code",
      "execution_count": 61,
      "metadata": {
        "id": "PZennhmMr4FG"
      },
      "outputs": [],
      "source": [
        "a = 10\n",
        "def foo():\n",
        "    return a\n",
        "def bar():\n",
        "    a = 3\n",
        "    return a"
      ]
    },
    {
      "cell_type": "code",
      "execution_count": 62,
      "metadata": {
        "id": "UEe_ghnTr4FG",
        "outputId": "3778f7ed-e7e6-47ee-acff-4e1cd456260e",
        "colab": {
          "base_uri": "https://localhost:8080/"
        }
      },
      "outputs": [
        {
          "output_type": "execute_result",
          "data": {
            "text/plain": [
              "10"
            ]
          },
          "metadata": {},
          "execution_count": 62
        }
      ],
      "source": [
        "foo()"
      ]
    },
    {
      "cell_type": "code",
      "execution_count": 63,
      "metadata": {
        "id": "eP7zC9DQr4FG",
        "outputId": "8ceef039-61f4-4582-c731-db79cdfd877f",
        "colab": {
          "base_uri": "https://localhost:8080/"
        }
      },
      "outputs": [
        {
          "output_type": "execute_result",
          "data": {
            "text/plain": [
              "3"
            ]
          },
          "metadata": {},
          "execution_count": 63
        }
      ],
      "source": [
        "bar()"
      ]
    },
    {
      "cell_type": "code",
      "execution_count": 64,
      "metadata": {
        "id": "TOCr3PKyr4FG",
        "outputId": "56c51950-4a84-499f-9590-e7ebd74b7798",
        "colab": {
          "base_uri": "https://localhost:8080/"
        }
      },
      "outputs": [
        {
          "output_type": "execute_result",
          "data": {
            "text/plain": [
              "10"
            ]
          },
          "metadata": {},
          "execution_count": 64
        }
      ],
      "source": [
        "a"
      ]
    },
    {
      "cell_type": "code",
      "execution_count": 65,
      "metadata": {
        "id": "RnVLae0-r4FH"
      },
      "outputs": [],
      "source": [
        "a = 20"
      ]
    },
    {
      "cell_type": "code",
      "execution_count": 66,
      "metadata": {
        "id": "PocMEvFZr4FH",
        "outputId": "16246fed-9686-4b6e-d1ba-279f28575836",
        "colab": {
          "base_uri": "https://localhost:8080/"
        }
      },
      "outputs": [
        {
          "output_type": "execute_result",
          "data": {
            "text/plain": [
              "20"
            ]
          },
          "metadata": {},
          "execution_count": 66
        }
      ],
      "source": [
        "foo()"
      ]
    },
    {
      "cell_type": "markdown",
      "metadata": {
        "id": "3BMob8Hqr4FH"
      },
      "source": [
        "`bar` の中では `a` への代入があるので、`a` はローカル変数になります。\n",
        "ローカル変数の `a` とグローバル変数の `a` は別ものと考えてください。\n",
        "ローカル変数 `a` への代入があっても、グローバル変数の `a` の値は変化しません。\n",
        "`foo` の中の `a` はグローバル変数です。"
      ]
    },
    {
      "cell_type": "code",
      "execution_count": 67,
      "metadata": {
        "id": "XLr74T2ir4FH"
      },
      "outputs": [],
      "source": [
        "def boo(a):\n",
        "    return a"
      ]
    },
    {
      "cell_type": "code",
      "execution_count": 68,
      "metadata": {
        "id": "IpWZOWDNr4FH",
        "outputId": "6d775d53-1fad-4d14-d18d-afd0c25a8a91",
        "colab": {
          "base_uri": "https://localhost:8080/"
        }
      },
      "outputs": [
        {
          "output_type": "execute_result",
          "data": {
            "text/plain": [
              "5"
            ]
          },
          "metadata": {},
          "execution_count": 68
        }
      ],
      "source": [
        "boo(5)"
      ]
    },
    {
      "cell_type": "code",
      "execution_count": 69,
      "metadata": {
        "id": "uMX4PIb_r4FH",
        "outputId": "c4baf275-1732-4040-e9f4-6996f54fc44f",
        "colab": {
          "base_uri": "https://localhost:8080/"
        }
      },
      "outputs": [
        {
          "output_type": "execute_result",
          "data": {
            "text/plain": [
              "20"
            ]
          },
          "metadata": {},
          "execution_count": 69
        }
      ],
      "source": [
        "a"
      ]
    },
    {
      "cell_type": "markdown",
      "metadata": {
        "id": "Vi3a9lQZr4FI"
      },
      "source": [
        "関数の引数もローカル変数の一種と考えられ、グローバル変数とは別ものです。"
      ]
    },
    {
      "cell_type": "markdown",
      "metadata": {
        "id": "opgaFBfRr4FI"
      },
      "source": [
        "## 練習の解答"
      ]
    },
    {
      "cell_type": "code",
      "execution_count": 70,
      "metadata": {
        "id": "khly4I2jr4FI"
      },
      "outputs": [],
      "source": [
        "def ft_to_cm(f, i):\n",
        "    return 30.48*f + (30.48/12)*i"
      ]
    },
    {
      "cell_type": "code",
      "execution_count": 71,
      "metadata": {
        "id": "hGi64nwZr4FI"
      },
      "outputs": [],
      "source": [
        "def quadratic(a, b, c, x):\n",
        "    return a*x*x + b*x + c"
      ]
    },
    {
      "cell_type": "code",
      "execution_count": 72,
      "metadata": {
        "id": "eD-01S_Er4FI"
      },
      "outputs": [],
      "source": [
        "import math\n",
        "\n",
        "def qe_disc(a, b, c):\n",
        "    return b*b - 4*a*c\n",
        "\n",
        "def qe_solution1(a, b, c):\n",
        "    return (-b - math.sqrt(qe_disc(a, b, c))) / (2*a)\n",
        "\n",
        "def qe_solution2(a, b, c):\n",
        "    return (-b + math.sqrt(qe_disc(a, b, c))) / (2*a)"
      ]
    },
    {
      "cell_type": "code",
      "source": [],
      "metadata": {
        "id": "A7Kg2eO-8z_M"
      },
      "execution_count": null,
      "outputs": []
    }
  ],
  "metadata": {
    "kernelspec": {
      "display_name": "Python 3",
      "language": "python",
      "name": "python3"
    },
    "language_info": {
      "name": "python"
    },
    "colab": {
      "provenance": []
    }
  },
  "nbformat": 4,
  "nbformat_minor": 0
}