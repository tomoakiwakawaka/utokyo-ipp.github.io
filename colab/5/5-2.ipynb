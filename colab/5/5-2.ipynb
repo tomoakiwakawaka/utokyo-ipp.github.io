{
  "cells": [
    {
      "cell_type": "code",
      "execution_count": 1,
      "metadata": {
        "id": "puPbO99EniZE",
        "outputId": "27a6ffaa-38f3-457d-a28f-269176d94b3f",
        "colab": {
          "base_uri": "https://localhost:8080/"
        }
      },
      "outputs": [
        {
          "output_type": "stream",
          "name": "stdout",
          "text": [
            "--2025-08-22 07:11:32--  https://raw.githubusercontent.com/utokyo-ipp/utokyo-ipp.github.io/master/colab/5/factorial.py\n",
            "Resolving raw.githubusercontent.com (raw.githubusercontent.com)... 185.199.108.133, 185.199.109.133, 185.199.110.133, ...\n",
            "Connecting to raw.githubusercontent.com (raw.githubusercontent.com)|185.199.108.133|:443... connected.\n",
            "HTTP request sent, awaiting response... 200 OK\n",
            "Length: 109 [text/plain]\n",
            "Saving to: ‘./factorial.py’\n",
            "\n",
            "factorial.py        100%[===================>]     109  --.-KB/s    in 0s      \n",
            "\n",
            "2025-08-22 07:11:32 (1.72 MB/s) - ‘./factorial.py’ saved [109/109]\n",
            "\n",
            "--2025-08-22 07:11:32--  https://raw.githubusercontent.com/utokyo-ipp/utokyo-ipp.github.io/master/colab/5/fig/py_open_2.png\n",
            "Resolving raw.githubusercontent.com (raw.githubusercontent.com)... 185.199.109.133, 185.199.111.133, 185.199.110.133, ...\n",
            "Connecting to raw.githubusercontent.com (raw.githubusercontent.com)|185.199.109.133|:443... connected.\n",
            "HTTP request sent, awaiting response... 200 OK\n",
            "Length: 22815 (22K) [image/png]\n",
            "Saving to: ‘fig/py_open_2.png’\n",
            "\n",
            "py_open_2.png       100%[===================>]  22.28K  --.-KB/s    in 0.001s  \n",
            "\n",
            "2025-08-22 07:11:32 (16.4 MB/s) - ‘fig/py_open_2.png’ saved [22815/22815]\n",
            "\n",
            "--2025-08-22 07:11:32--  https://raw.githubusercontent.com/utokyo-ipp/utokyo-ipp.github.io/master/colab/5/fig/py_open_1.png\n",
            "Resolving raw.githubusercontent.com (raw.githubusercontent.com)... 185.199.109.133, 185.199.111.133, 185.199.110.133, ...\n",
            "Connecting to raw.githubusercontent.com (raw.githubusercontent.com)|185.199.109.133|:443... connected.\n",
            "HTTP request sent, awaiting response... 200 OK\n",
            "Length: 36596 (36K) [image/png]\n",
            "Saving to: ‘fig/py_open_1.png’\n",
            "\n",
            "py_open_1.png       100%[===================>]  35.74K  --.-KB/s    in 0.007s  \n",
            "\n",
            "2025-08-22 07:11:32 (5.34 MB/s) - ‘fig/py_open_1.png’ saved [36596/36596]\n",
            "\n",
            "--2025-08-22 07:11:32--  https://raw.githubusercontent.com/utokyo-ipp/utokyo-ipp.github.io/master/colab/5/fig/py_conv_1.png\n",
            "Resolving raw.githubusercontent.com (raw.githubusercontent.com)... 185.199.109.133, 185.199.111.133, 185.199.110.133, ...\n",
            "Connecting to raw.githubusercontent.com (raw.githubusercontent.com)|185.199.109.133|:443... connected.\n",
            "HTTP request sent, awaiting response... 200 OK\n",
            "Length: 27636 (27K) [image/png]\n",
            "Saving to: ‘fig/py_conv_1.png’\n",
            "\n",
            "py_conv_1.png       100%[===================>]  26.99K  --.-KB/s    in 0.002s  \n",
            "\n",
            "2025-08-22 07:11:33 (11.6 MB/s) - ‘fig/py_conv_1.png’ saved [27636/27636]\n",
            "\n",
            "--2025-08-22 07:11:33--  https://raw.githubusercontent.com/utokyo-ipp/utokyo-ipp.github.io/master/colab/5/fig/py_conv_2.png\n",
            "Resolving raw.githubusercontent.com (raw.githubusercontent.com)... 185.199.109.133, 185.199.111.133, 185.199.110.133, ...\n",
            "Connecting to raw.githubusercontent.com (raw.githubusercontent.com)|185.199.109.133|:443... connected.\n",
            "HTTP request sent, awaiting response... 200 OK\n",
            "Length: 59488 (58K) [image/png]\n",
            "Saving to: ‘fig/py_conv_2.png’\n",
            "\n",
            "py_conv_2.png       100%[===================>]  58.09K  --.-KB/s    in 0.009s  \n",
            "\n",
            "2025-08-22 07:11:33 (6.23 MB/s) - ‘fig/py_conv_2.png’ saved [59488/59488]\n",
            "\n"
          ]
        }
      ],
      "source": [
        "##================================================\n",
        "## このセルを最初に実行せよ---Run this cell first.\n",
        "##================================================\n",
        "!wget -P . https://raw.githubusercontent.com/utokyo-ipp/utokyo-ipp.github.io/master/colab/5/factorial.py\n",
        "!wget -P fig https://raw.githubusercontent.com/utokyo-ipp/utokyo-ipp.github.io/master/colab/5/fig/py_open_2.png\n",
        "!wget -P fig https://raw.githubusercontent.com/utokyo-ipp/utokyo-ipp.github.io/master/colab/5/fig/py_open_1.png\n",
        "!wget -P fig https://raw.githubusercontent.com/utokyo-ipp/utokyo-ipp.github.io/master/colab/5/fig/py_conv_1.png\n",
        "!wget -P fig https://raw.githubusercontent.com/utokyo-ipp/utokyo-ipp.github.io/master/colab/5/fig/py_conv_2.png"
      ]
    },
    {
      "cell_type": "markdown",
      "metadata": {
        "id": "5Dwk-yl2niZI"
      },
      "source": [
        "# 5-2. モジュールの作り方\n",
        "モジュールの作り方について説明します。\n",
        "\n",
        "参考\n",
        "\n",
        "- https://docs.python.org/ja/3/tutorial/modules.html\n",
        "- https://docs.python.org/ja/3/reference/import.html\n",
        "\n",
        "Pythonではプログラムを**モジュール**という単位で、複数のファイルに分割することができます。\n",
        "通例、一度定義した便利な関数などを別のプログラムで再利用するときには、再利用される部分をモジュールとして切り出します。\n",
        "プログラムが大きくなると、このように複数のファイルに分割した方が開発や保守が簡単になります。\n",
        "\n",
        "## モジュールファイル\n",
        "\n",
        "本授業で扱ってきたノートブックファイル（拡張子 `.ipynb`）は、コードセル（Codeセル）にPythonソースコード、Markdownセルに文書を持ち、内部的に出力結果も保存しています。 一方、モジュールファイル（拡張子 `.py`）は、Pythonソースコードのみを含んだファイルです。\n",
        "\n",
        "モジュールファイルを作るときには、Jupyter Notebook におけるコードセルの内容のみをファイルに記述することになります。\n",
        "\n",
        "モジュールファイルの文字コードはUTF-8であることが[公式に推奨されています](https://www.python.org/dev/peps/pep-0008/#source-file-encoding)。\n",
        "原則としてUTF-8でエンコードして保存してください。"
      ]
    },
    {
      "cell_type": "markdown",
      "metadata": {
        "id": "YNtIBAr6niZJ"
      },
      "source": [
        "### ノートブックファイルをモジュールファイルに変換する\n",
        "\n",
        "本授業で利用しているノートブックファイルを `.py` としてセーブするには、\n",
        "「ファイル」メニューの「.py をダウンロード」項目を選択します。\n",
        "\n",
        "そうすると、コードセルだけがプログラム行として有効になり、その他の行はコメントアウトされたモジュールファイルがダウンロードできます。\n",
        "ダウンロード先はブラウザによって定まりますが、ダウンロードフォルダになることが一般的でしょう。\n",
        "\n",
        "この方法では、全てのコードセルの内容を一度に実行するプログラムとして保存されます。\n",
        "ノートブックのようにセル単位の実行するわけではないことに注意する必要があります。"
      ]
    },
    {
      "cell_type": "markdown",
      "metadata": {
        "id": "XBnQVpXMniZJ"
      },
      "source": [
        "### モジュールファイルをアップロードする\n",
        "\n",
        "次に、ダウンロードしたモジュールファイルをColaboratoryで使うには、\n",
        "Colaboratoryの実行環境の中のファイルシステムのカレントディレクトリに\n",
        "モジュールファイルをアップロードする必要があります。\n",
        "このためには、以下のセルを実行してください。"
      ]
    },
    {
      "cell_type": "code",
      "execution_count": 2,
      "metadata": {
        "id": "CehxUuKaniZK",
        "outputId": "92330283-57b1-49aa-f1bb-f30b70182917",
        "colab": {
          "base_uri": "https://localhost:8080/",
          "height": 78
        }
      },
      "outputs": [
        {
          "output_type": "display_data",
          "data": {
            "text/plain": [
              "<IPython.core.display.HTML object>"
            ],
            "text/html": [
              "\n",
              "     <input type=\"file\" id=\"files-cbb98086-e371-4b42-b96d-0aff5ff9e7e1\" name=\"files[]\" multiple disabled\n",
              "        style=\"border:none\" />\n",
              "     <output id=\"result-cbb98086-e371-4b42-b96d-0aff5ff9e7e1\">\n",
              "      Upload widget is only available when the cell has been executed in the\n",
              "      current browser session. Please rerun this cell to enable.\n",
              "      </output>\n",
              "      <script>// Copyright 2017 Google LLC\n",
              "//\n",
              "// Licensed under the Apache License, Version 2.0 (the \"License\");\n",
              "// you may not use this file except in compliance with the License.\n",
              "// You may obtain a copy of the License at\n",
              "//\n",
              "//      http://www.apache.org/licenses/LICENSE-2.0\n",
              "//\n",
              "// Unless required by applicable law or agreed to in writing, software\n",
              "// distributed under the License is distributed on an \"AS IS\" BASIS,\n",
              "// WITHOUT WARRANTIES OR CONDITIONS OF ANY KIND, either express or implied.\n",
              "// See the License for the specific language governing permissions and\n",
              "// limitations under the License.\n",
              "\n",
              "/**\n",
              " * @fileoverview Helpers for google.colab Python module.\n",
              " */\n",
              "(function(scope) {\n",
              "function span(text, styleAttributes = {}) {\n",
              "  const element = document.createElement('span');\n",
              "  element.textContent = text;\n",
              "  for (const key of Object.keys(styleAttributes)) {\n",
              "    element.style[key] = styleAttributes[key];\n",
              "  }\n",
              "  return element;\n",
              "}\n",
              "\n",
              "// Max number of bytes which will be uploaded at a time.\n",
              "const MAX_PAYLOAD_SIZE = 100 * 1024;\n",
              "\n",
              "function _uploadFiles(inputId, outputId) {\n",
              "  const steps = uploadFilesStep(inputId, outputId);\n",
              "  const outputElement = document.getElementById(outputId);\n",
              "  // Cache steps on the outputElement to make it available for the next call\n",
              "  // to uploadFilesContinue from Python.\n",
              "  outputElement.steps = steps;\n",
              "\n",
              "  return _uploadFilesContinue(outputId);\n",
              "}\n",
              "\n",
              "// This is roughly an async generator (not supported in the browser yet),\n",
              "// where there are multiple asynchronous steps and the Python side is going\n",
              "// to poll for completion of each step.\n",
              "// This uses a Promise to block the python side on completion of each step,\n",
              "// then passes the result of the previous step as the input to the next step.\n",
              "function _uploadFilesContinue(outputId) {\n",
              "  const outputElement = document.getElementById(outputId);\n",
              "  const steps = outputElement.steps;\n",
              "\n",
              "  const next = steps.next(outputElement.lastPromiseValue);\n",
              "  return Promise.resolve(next.value.promise).then((value) => {\n",
              "    // Cache the last promise value to make it available to the next\n",
              "    // step of the generator.\n",
              "    outputElement.lastPromiseValue = value;\n",
              "    return next.value.response;\n",
              "  });\n",
              "}\n",
              "\n",
              "/**\n",
              " * Generator function which is called between each async step of the upload\n",
              " * process.\n",
              " * @param {string} inputId Element ID of the input file picker element.\n",
              " * @param {string} outputId Element ID of the output display.\n",
              " * @return {!Iterable<!Object>} Iterable of next steps.\n",
              " */\n",
              "function* uploadFilesStep(inputId, outputId) {\n",
              "  const inputElement = document.getElementById(inputId);\n",
              "  inputElement.disabled = false;\n",
              "\n",
              "  const outputElement = document.getElementById(outputId);\n",
              "  outputElement.innerHTML = '';\n",
              "\n",
              "  const pickedPromise = new Promise((resolve) => {\n",
              "    inputElement.addEventListener('change', (e) => {\n",
              "      resolve(e.target.files);\n",
              "    });\n",
              "  });\n",
              "\n",
              "  const cancel = document.createElement('button');\n",
              "  inputElement.parentElement.appendChild(cancel);\n",
              "  cancel.textContent = 'Cancel upload';\n",
              "  const cancelPromise = new Promise((resolve) => {\n",
              "    cancel.onclick = () => {\n",
              "      resolve(null);\n",
              "    };\n",
              "  });\n",
              "\n",
              "  // Wait for the user to pick the files.\n",
              "  const files = yield {\n",
              "    promise: Promise.race([pickedPromise, cancelPromise]),\n",
              "    response: {\n",
              "      action: 'starting',\n",
              "    }\n",
              "  };\n",
              "\n",
              "  cancel.remove();\n",
              "\n",
              "  // Disable the input element since further picks are not allowed.\n",
              "  inputElement.disabled = true;\n",
              "\n",
              "  if (!files) {\n",
              "    return {\n",
              "      response: {\n",
              "        action: 'complete',\n",
              "      }\n",
              "    };\n",
              "  }\n",
              "\n",
              "  for (const file of files) {\n",
              "    const li = document.createElement('li');\n",
              "    li.append(span(file.name, {fontWeight: 'bold'}));\n",
              "    li.append(span(\n",
              "        `(${file.type || 'n/a'}) - ${file.size} bytes, ` +\n",
              "        `last modified: ${\n",
              "            file.lastModifiedDate ? file.lastModifiedDate.toLocaleDateString() :\n",
              "                                    'n/a'} - `));\n",
              "    const percent = span('0% done');\n",
              "    li.appendChild(percent);\n",
              "\n",
              "    outputElement.appendChild(li);\n",
              "\n",
              "    const fileDataPromise = new Promise((resolve) => {\n",
              "      const reader = new FileReader();\n",
              "      reader.onload = (e) => {\n",
              "        resolve(e.target.result);\n",
              "      };\n",
              "      reader.readAsArrayBuffer(file);\n",
              "    });\n",
              "    // Wait for the data to be ready.\n",
              "    let fileData = yield {\n",
              "      promise: fileDataPromise,\n",
              "      response: {\n",
              "        action: 'continue',\n",
              "      }\n",
              "    };\n",
              "\n",
              "    // Use a chunked sending to avoid message size limits. See b/62115660.\n",
              "    let position = 0;\n",
              "    do {\n",
              "      const length = Math.min(fileData.byteLength - position, MAX_PAYLOAD_SIZE);\n",
              "      const chunk = new Uint8Array(fileData, position, length);\n",
              "      position += length;\n",
              "\n",
              "      const base64 = btoa(String.fromCharCode.apply(null, chunk));\n",
              "      yield {\n",
              "        response: {\n",
              "          action: 'append',\n",
              "          file: file.name,\n",
              "          data: base64,\n",
              "        },\n",
              "      };\n",
              "\n",
              "      let percentDone = fileData.byteLength === 0 ?\n",
              "          100 :\n",
              "          Math.round((position / fileData.byteLength) * 100);\n",
              "      percent.textContent = `${percentDone}% done`;\n",
              "\n",
              "    } while (position < fileData.byteLength);\n",
              "  }\n",
              "\n",
              "  // All done.\n",
              "  yield {\n",
              "    response: {\n",
              "      action: 'complete',\n",
              "    }\n",
              "  };\n",
              "}\n",
              "\n",
              "scope.google = scope.google || {};\n",
              "scope.google.colab = scope.google.colab || {};\n",
              "scope.google.colab._files = {\n",
              "  _uploadFiles,\n",
              "  _uploadFilesContinue,\n",
              "};\n",
              "})(self);\n",
              "</script> "
            ]
          },
          "metadata": {}
        },
        {
          "output_type": "stream",
          "name": "stdout",
          "text": [
            "Saving PXL_20240430_034049644.jpg to PXL_20240430_034049644.jpg\n"
          ]
        }
      ],
      "source": [
        "import sys\n",
        "if 'google.colab' in sys.modules:\n",
        "    from google.colab import files\n",
        "    uploaded = files.upload() # Upload to the current directory"
      ]
    },
    {
      "cell_type": "markdown",
      "metadata": {
        "id": "_DyKxoqiniZL"
      },
      "source": [
        "## 自作モジュールの使い方\n",
        "\n",
        "モジュールで定義されている関数を利用するには、**`import`** を用いて `import モジュール名` と書きます。\n",
        "**モジュール名**は、モジュールファイル名から拡張子 `.py` を除いたものです。\n",
        "\n",
        "すると、モジュールで定義されている関数は `モジュール名.関数名` によって参照できます。\n",
        "\n",
        "次の関数が記述された `factorial.py` というモジュールを読み込む場合を説明します。\n",
        "ただし、読み込み元と同じディレクトリに `factorial.py` が存在すると仮定します。\n",
        "\n",
        "---\n",
        "\n",
        "factorial.py:\n",
        "\n",
        "```Python\n",
        "# 階乗n!を返す\n",
        "def fact(n):\n",
        "    prod = 1\n",
        "    for i in range(1, n + 1):\n",
        "        prod *= i\n",
        "    return prod\n",
        "```\n",
        "\n",
        "---"
      ]
    },
    {
      "cell_type": "code",
      "execution_count": 3,
      "metadata": {
        "id": "ODkdlj9eniZN",
        "outputId": "2e66bbb5-e191-4e83-85fb-98fa25f0c77c",
        "colab": {
          "base_uri": "https://localhost:8080/"
        }
      },
      "outputs": [
        {
          "output_type": "execute_result",
          "data": {
            "text/plain": [
              "720"
            ]
          },
          "metadata": {},
          "execution_count": 3
        }
      ],
      "source": [
        "import factorial\n",
        "\n",
        "factorial.fact(6)"
      ]
    },
    {
      "cell_type": "markdown",
      "metadata": {
        "id": "yJA0ZMmMniZN"
      },
      "source": [
        "`from` や `as` の使い方も既存のモジュールと全く同じです。\n",
        "\n",
        "モジュール内で定義されている名前を読み込み元のプログラムでそのまま使いたい場合は、**`from`** を用いて以下のように書くことができます。"
      ]
    },
    {
      "cell_type": "code",
      "execution_count": 4,
      "metadata": {
        "id": "wMlOEpodniZN",
        "outputId": "479e0a2c-2ad0-4e06-990f-ef11f64f45bb",
        "colab": {
          "base_uri": "https://localhost:8080/"
        }
      },
      "outputs": [
        {
          "output_type": "execute_result",
          "data": {
            "text/plain": [
              "720"
            ]
          },
          "metadata": {},
          "execution_count": 4
        }
      ],
      "source": [
        "from factorial import fact\n",
        "\n",
        "fact(6)"
      ]
    },
    {
      "cell_type": "markdown",
      "metadata": {
        "id": "smRoCNSqniZO"
      },
      "source": [
        "ワイルドカード **`*`** を利用する方法もありますが、推奨されていません。\n",
        "読み込まれるモジュール内の未知の名前と、読み込み元のプログラム中の名前が衝突する可能性があるためです。"
      ]
    },
    {
      "cell_type": "code",
      "execution_count": null,
      "metadata": {
        "id": "cXsq2N_RniZO"
      },
      "outputs": [],
      "source": [
        "from factorial import *"
      ]
    },
    {
      "cell_type": "markdown",
      "metadata": {
        "id": "m-D8hZKPniZO"
      },
      "source": [
        "モジュール名が長すぎるなどの理由から別の名前としたい場合は、**`as`** を利用する方法もあります。"
      ]
    },
    {
      "cell_type": "code",
      "execution_count": null,
      "metadata": {
        "id": "M219n-MdniZO"
      },
      "outputs": [],
      "source": [
        "import factorial as f\n",
        "\n",
        "f.fact(6)"
      ]
    }
  ],
  "metadata": {
    "kernelspec": {
      "display_name": "Python 3",
      "language": "python",
      "name": "python3"
    },
    "language_info": {
      "name": "python"
    },
    "colab": {
      "provenance": []
    }
  },
  "nbformat": 4,
  "nbformat_minor": 0
}