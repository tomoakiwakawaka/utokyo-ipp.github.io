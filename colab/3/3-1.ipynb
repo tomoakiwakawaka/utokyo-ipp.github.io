{
  "cells": [
    {
      "cell_type": "markdown",
      "metadata": {
        "id": "SFjsd4ijJIfY"
      },
      "source": [
        "# 3-1. 辞書 (dictionary)\n",
        "キーと値を対応させるデータ構造である辞書について説明します。\n",
        "\n",
        "参考\n",
        "\n",
        "- https://docs.python.org/ja/3/tutorial/datastructures.html#dictionaries\n",
        "\n",
        "**辞書**は、**キー** (**key**) と**値** (**value**) を対応づけるデータです。\n",
        "キーとしては、文字列・数値・タプルなどの変更不可能なデータを使うことができますが、\n",
        "変更可能なデータであるリスト・辞書を使うことはできません。\n",
        "（辞書も変更可能なデータです。）\n",
        "一方、値としては、変更の可否にかかわらずあらゆる種類のデータを指定できます。\n",
        "\n",
        "たとえば、文字列 `'apple'` をキーとし値として数値 `3` を、`'pen'` をキーとして `5` を対応付けた辞書は、\n",
        "次のように作成します。"
      ]
    },
    {
      "cell_type": "code",
      "execution_count": null,
      "metadata": {
        "id": "HWKZZhgtJIfb"
      },
      "outputs": [],
      "source": [
        "ppap = {'apple' : 3, 'pen' : 5}\n",
        "ppap"
      ]
    },
    {
      "cell_type": "code",
      "execution_count": null,
      "metadata": {
        "id": "6IMb87OZJIfc"
      },
      "outputs": [],
      "source": [
        "type(ppap)"
      ]
    },
    {
      "cell_type": "markdown",
      "metadata": {
        "id": "9oMTqSObJIfd"
      },
      "source": [
        "辞書の `キー1` に対応する値を得るには、リストにおけるインデックスと同様に、\n",
        "\n",
        "---\n",
        "```Python\n",
        " 辞書[キー1]\n",
        "```\n",
        "---\n",
        "\n",
        "とします。"
      ]
    },
    {
      "cell_type": "code",
      "execution_count": null,
      "metadata": {
        "id": "zKQgVRmQJIfd"
      },
      "outputs": [],
      "source": [
        "ppap = {'apple' : 3, 'pen' : 5}\n",
        "ppap['apple']"
      ]
    },
    {
      "cell_type": "markdown",
      "metadata": {
        "id": "Y1zAsDBDJIfd"
      },
      "source": [
        "辞書に登録されていないキーを指定すると、エラーになります。"
      ]
    },
    {
      "cell_type": "code",
      "execution_count": null,
      "metadata": {
        "tags": [
          "raises-exception"
        ],
        "id": "gefhL-S4JIfe"
      },
      "outputs": [],
      "source": [
        "ppap['orange']"
      ]
    },
    {
      "cell_type": "markdown",
      "metadata": {
        "id": "9jI6IkpIJIfe"
      },
      "source": [
        "キーに対する値を変更したり、新たなキーと値を登録するには代入文を用います。"
      ]
    },
    {
      "cell_type": "code",
      "execution_count": null,
      "metadata": {
        "id": "NPz_k9fzJIfe"
      },
      "outputs": [],
      "source": [
        "ppap = {'apple' : 3, 'pen' : 5}\n",
        "ppap['apple'] = 10\n",
        "ppap['pinapple'] = 7\n",
        "ppap"
      ]
    },
    {
      "cell_type": "markdown",
      "metadata": {
        "id": "4mkZ_EznJIff"
      },
      "source": [
        "上のようにキーから値は取り出せますが、値からキーを直接取り出すことはできません。\n",
        "また、リストのようにインデックスを指定して値を取得することはできません。"
      ]
    },
    {
      "cell_type": "code",
      "execution_count": null,
      "metadata": {
        "tags": [
          "raises-exception"
        ],
        "id": "LEoUT4XoJIff"
      },
      "outputs": [],
      "source": [
        "ppap[1]"
      ]
    },
    {
      "cell_type": "markdown",
      "metadata": {
        "id": "gafaRnmgJIff"
      },
      "source": [
        "キーが辞書に登録されているかどうかは、演算子 **`in`** を用いて調べることができます。"
      ]
    },
    {
      "cell_type": "code",
      "execution_count": null,
      "metadata": {
        "id": "fj5g0s9kJIff"
      },
      "outputs": [],
      "source": [
        "ppap = {'apple': 3, 'pen': 5}\n",
        "'apple' in ppap"
      ]
    },
    {
      "cell_type": "code",
      "execution_count": null,
      "metadata": {
        "id": "yQO7LjMeJIff"
      },
      "outputs": [],
      "source": [
        "'banana' in ppap"
      ]
    },
    {
      "cell_type": "markdown",
      "metadata": {
        "id": "fy24BTdIJIff"
      },
      "source": [
        "組み込み関数 **`len`** によって、辞書に登録されている要素、キーと値のペア、の数が得られます。"
      ]
    },
    {
      "cell_type": "code",
      "execution_count": null,
      "metadata": {
        "id": "-2q5TzoSJIfg"
      },
      "outputs": [],
      "source": [
        "ppap = {'apple': 3, 'pen': 5}\n",
        "len(ppap)"
      ]
    },
    {
      "cell_type": "markdown",
      "metadata": {
        "id": "Pfy06RnJJIfg"
      },
      "source": [
        "**`del`** 文によって、登録されているキーの要素を削除することができます。具体的には、次のように削除します。\n",
        "\n",
        "---\n",
        "```Python\n",
        "del 辞書[削除したいキー]\n",
        "```\n",
        "---"
      ]
    },
    {
      "cell_type": "code",
      "execution_count": null,
      "metadata": {
        "id": "RsiQmV9lJIfg"
      },
      "outputs": [],
      "source": [
        "ppap = {'apple' : 3, 'pen' : 5}\n",
        "del ppap['pen']\n",
        "ppap"
      ]
    },
    {
      "cell_type": "markdown",
      "metadata": {
        "id": "S-F_cCTLJIfg"
      },
      "source": [
        "空のリストと同様に空の辞書を作ることもできます。このような空のデータは繰り返し処理でしばしば使われます。"
      ]
    },
    {
      "cell_type": "code",
      "execution_count": null,
      "metadata": {
        "id": "4A_sdhU1JIfg"
      },
      "outputs": [],
      "source": [
        "empty_d = {}\n",
        "empty_d"
      ]
    },
    {
      "cell_type": "markdown",
      "metadata": {
        "id": "jbr2hpynJIfg"
      },
      "source": [
        "## 練習\n",
        "\n",
        "リスト `list1` が引数として与えられたとき、`list1` の各要素 `value` をキー、` value` の `list1` におけるインデックスをキーに対応する値とした辞書を返す関数 `reverse_lookup` を作成してください。\n",
        "\n",
        "以下のセルの `...` のところを書き換えて `reverse_lookup(list1)` を作成してください。"
      ]
    },
    {
      "cell_type": "code",
      "execution_count": 1,
      "metadata": {
        "id": "h3m8pI70JIfg"
      },
      "outputs": [],
      "source": [
        "def reverse_lookup(list1):\n",
        "    retu={}\n",
        "    for valu in list1:\n",
        "        retu[valu]=list1.index(valu)\n",
        "    return retu"
      ]
    },
    {
      "cell_type": "markdown",
      "metadata": {
        "id": "sDtVCnQPJIfg"
      },
      "source": [
        "上のセルで解答を作成した後、以下のセルを実行し、実行結果が `True` になることを確認してください。"
      ]
    },
    {
      "cell_type": "code",
      "execution_count": 2,
      "metadata": {
        "id": "cWDOay3TJIfg",
        "outputId": "96317cf7-47df-4c8f-f08c-0c57090aa875",
        "colab": {
          "base_uri": "https://localhost:8080/"
        }
      },
      "outputs": [
        {
          "output_type": "stream",
          "name": "stdout",
          "text": [
            "True\n"
          ]
        }
      ],
      "source": [
        "print(reverse_lookup(['apple', 'pen', 'orange']) == {'apple': 0, 'orange': 2, 'pen': 1})"
      ]
    },
    {
      "cell_type": "markdown",
      "metadata": {
        "id": "EjQZHEikJIfg"
      },
      "source": [
        "## 辞書のメソッド\n",
        "辞書のメソッドを紹介しておきます。"
      ]
    },
    {
      "cell_type": "markdown",
      "metadata": {
        "id": "8kCpjFe6JIfg"
      },
      "source": [
        "### キーを指定して値を得るメソッド\n",
        "\n",
        "**`get`** メソッドは、引数として指定したキーが辞書に含まれてる場合にはその値を取得し、\n",
        "指定したキーが含まれていない場合には `None` を返します。\n",
        "`get` を利用することで、エラーを回避し、登録されているかどうかわからないキーを使うことができます。\n",
        "先に説明したキーを括弧、`[...]`、で指定する方法では、\n",
        "辞書にキーが存在しないとエラーとなりプログラムの実行が停止してしまいます。"
      ]
    },
    {
      "cell_type": "code",
      "execution_count": null,
      "metadata": {
        "tags": [
          "raises-exception"
        ],
        "id": "246DSeELJIfg"
      },
      "outputs": [],
      "source": [
        "ppap = {'apple' : 3, 'pen' : 5}\n",
        "print('キーappleに対応する値 = ', ppap.get('apple'))\n",
        "print('キーorangeに対応する値 = ', ppap.get('orange'))\n",
        "print('キーorangeに対応する値（エラー） = ', ppap['orange'])"
      ]
    },
    {
      "cell_type": "markdown",
      "metadata": {
        "id": "d1iWl33CJIfh"
      },
      "source": [
        "また、`get` に2番目の引数を与えると、その引数の値を「指定したキーが含まれていない場合」に `get` が返す値とすることができます。"
      ]
    },
    {
      "cell_type": "code",
      "execution_count": null,
      "metadata": {
        "id": "TwhWNgJmJIfh"
      },
      "outputs": [],
      "source": [
        "ppap = {'apple' : 3, 'pen' : 5}\n",
        "print('キーappleに対応する値 = ', ppap.get('apple', -1))\n",
        "print('キーorangeに対応する値 = ', ppap.get('orange', -1))"
      ]
    },
    {
      "cell_type": "markdown",
      "metadata": {
        "id": "GYAodrskJIfh"
      },
      "source": [
        "### ▲キーがない場合に登録を行う\n",
        "\n",
        "**`setdefault`** メソッドは、\n",
        "指定したキーが辞書に含まれてる場合には、対応する値を返します。\n",
        "キーが含まれていない場合には、2番目の引数として指定した値を返すと同時に、キーに対応する値として登録します。"
      ]
    },
    {
      "cell_type": "code",
      "execution_count": null,
      "metadata": {
        "id": "K5Qqqx52JIfh"
      },
      "outputs": [],
      "source": [
        "ppap = {'apple' : 3, 'pen' : 5}\n",
        "print('キーappleに対応する値 = ', ppap.setdefault('apple', 7))\n",
        "print('setdefault(\"apple\", 7)を実行後の辞書 = ', ppap)\n",
        "print('キーorangeに対応する値 = ', ppap.setdefault('orange', 7))\n",
        "print('setdefault(\"orange\", 7)を実行後の辞書 = ', ppap)"
      ]
    },
    {
      "cell_type": "markdown",
      "metadata": {
        "id": "lzwFG70_JIfh"
      },
      "source": [
        "上のような `setdefault` を用いた手続きを、`[...]` を用いて書き換えるとたとえば次のようになります。"
      ]
    },
    {
      "cell_type": "code",
      "execution_count": null,
      "metadata": {
        "id": "tQyIgiqUJIfh"
      },
      "outputs": [],
      "source": [
        "ppap = {'apple' : 3, 'pen' : 5}\n",
        "if 'apple' not in ppap:\n",
        "    ppap['apple'] = 7\n",
        "print('キーappleに対応する値 = ', ppap['apple'])\n",
        "print('実行後の辞書 = ', ppap)\n",
        "if 'orange' not in ppap:\n",
        "    ppap['orange'] = 7\n",
        "print('キーorangeに対応する値 = ', ppap['orange'])\n",
        "print('実行後の辞書 = ', ppap)"
      ]
    },
    {
      "cell_type": "markdown",
      "metadata": {
        "id": "kADC196jJIfh"
      },
      "source": [
        "### ▲キーを指定した削除\n",
        "\n",
        "**`pop`** メソッドは指定したキーおよびそれに対応する値を削除し、削除されるキーに対応付けられた値を返します。"
      ]
    },
    {
      "cell_type": "code",
      "execution_count": null,
      "metadata": {
        "id": "OjfGhK4NJIfh"
      },
      "outputs": [],
      "source": [
        "ppap = {'apple' : 3, 'pen' : 5}\n",
        "print(ppap.pop('pen'))\n",
        "print(ppap)"
      ]
    },
    {
      "cell_type": "markdown",
      "metadata": {
        "id": "_u4dGDhGJIfh"
      },
      "source": [
        "### ▲全てのキーと値の削除\n",
        "**`clear`** メソッドは全てのキーと値を削除します。その結果、辞書は空となります。"
      ]
    },
    {
      "cell_type": "code",
      "execution_count": 4,
      "metadata": {
        "id": "4uJxnk_YJIfh",
        "outputId": "aaf60b12-f148-46e3-ca3c-a1a98f7c5d73",
        "colab": {
          "base_uri": "https://localhost:8080/"
        }
      },
      "outputs": [
        {
          "output_type": "execute_result",
          "data": {
            "text/plain": [
              "{}"
            ]
          },
          "metadata": {},
          "execution_count": 4
        }
      ],
      "source": [
        "ppap = {'apple' : 3, 'pen' : 5}\n",
        "ppap.clear()\n",
        "ppap"
      ]
    },
    {
      "cell_type": "markdown",
      "metadata": {
        "id": "DGWWEsVDJIfi"
      },
      "source": [
        "### キーの一覧を得る\n",
        "**`keys`** メソッドはキーの一覧を返します。これはリストのようなものとして扱うことができ、\n",
        "`for` ループと組み合わせて繰り返し処理で利用されます（3-2を参照してください）。\n",
        "以下のように、**`keys`** メソッドが返した結果に関数 `list` を適用すると、\n",
        "通常のリストになります。"
      ]
    },
    {
      "cell_type": "code",
      "execution_count": 3,
      "metadata": {
        "id": "J5s60CFKJIfi",
        "outputId": "d2c4e4c6-75a7-4ebd-d725-2f52278fbf06",
        "colab": {
          "base_uri": "https://localhost:8080/"
        }
      },
      "outputs": [
        {
          "output_type": "execute_result",
          "data": {
            "text/plain": [
              "['apple', 'pen']"
            ]
          },
          "metadata": {},
          "execution_count": 3
        }
      ],
      "source": [
        "ppap = {'apple' : 3, 'pen' : 5}\n",
        "list(ppap.keys())"
      ]
    },
    {
      "cell_type": "markdown",
      "metadata": {
        "id": "-z1vha7vJIfm"
      },
      "source": [
        "### 値の一覧を得る\n",
        "**`values`** メソッドはキーに対応する全ての値の一覧を返します。これもリストのようなものとして扱うことができます。"
      ]
    },
    {
      "cell_type": "code",
      "execution_count": null,
      "metadata": {
        "id": "q7csc6GzJIfm"
      },
      "outputs": [],
      "source": [
        "list(ppap.values())"
      ]
    },
    {
      "cell_type": "markdown",
      "metadata": {
        "id": "pkcRY-F1JIfn"
      },
      "source": [
        "### キーと値の一覧を得る\n",
        "**`items`** メソッドはキーとそれに対応する値をタプルにした一覧を返します。 これもタプルを要素とするリストのようなものとして扱うことができ、forループなどで活用します（3-2を参照してください）。"
      ]
    },
    {
      "cell_type": "code",
      "execution_count": 5,
      "metadata": {
        "id": "NwsYHGN_JIfn",
        "outputId": "ce494f88-4436-4bb4-e23b-994e844dd889",
        "colab": {
          "base_uri": "https://localhost:8080/"
        }
      },
      "outputs": [
        {
          "output_type": "execute_result",
          "data": {
            "text/plain": [
              "[]"
            ]
          },
          "metadata": {},
          "execution_count": 5
        }
      ],
      "source": [
        "list(ppap.items())"
      ]
    },
    {
      "cell_type": "markdown",
      "metadata": {
        "id": "2gCzD7bMJIfn"
      },
      "source": [
        "### ▲辞書を複製する\n",
        "**`copy`** メソッドは辞書を複製します。リストの場合と同様に一方の辞書を変更してももう一方の辞書は影響を受けません。"
      ]
    },
    {
      "cell_type": "code",
      "execution_count": 6,
      "metadata": {
        "id": "vLVupWRXJIfn",
        "outputId": "b6ed9e50-9c2b-418f-d3f3-3b268235c4e7",
        "colab": {
          "base_uri": "https://localhost:8080/"
        }
      },
      "outputs": [
        {
          "output_type": "stream",
          "name": "stdout",
          "text": [
            "{'apple': 3, 'pen': 5, 'orange': 7, 'banana': 9}\n",
            "{'apple': 3, 'pen': 5, 'orange': 7}\n"
          ]
        }
      ],
      "source": [
        "ppap = {'apple': 3, 'pen': 5, 'orange': 7}\n",
        "ppap2 = ppap.copy()\n",
        "ppap['banana'] = 9\n",
        "print(ppap)\n",
        "print(ppap2)"
      ]
    },
    {
      "cell_type": "markdown",
      "metadata": {
        "id": "44dvD1LPJIfn"
      },
      "source": [
        "### ▲ ` keys`, `values`, `items` の返値\n",
        "`keys`, `values`, `items` メソッドの一連の説明では、返値を「リストのようなもの」と表現してきました。\n",
        "通常のリストとどう違うのでしょうか？\n",
        "\n",
        "次の例では、`ppap` の `keys`, `values`, `items` メソッドの返値をそれぞれ `ks`, `vs`, `itms` に代入し、\n",
        "`print` でそれぞれの内容を表示させています。\n",
        "\n",
        "次いで、`ppap` に新たな要素を加えたのちに、同じ変数の内容を表示させています。\n",
        "1, 2回目の `print` で内容が異なることに注意してください。\n",
        "もとの辞書が更新されると、これらの内容も動的に変わります。  "
      ]
    },
    {
      "cell_type": "code",
      "execution_count": 7,
      "metadata": {
        "id": "AWj0nMTiJIfn",
        "outputId": "944d8df5-41c7-4dac-b97d-56a5a20e4002",
        "colab": {
          "base_uri": "https://localhost:8080/"
        }
      },
      "outputs": [
        {
          "output_type": "stream",
          "name": "stdout",
          "text": [
            "['apple', 'pen', 'orange']\n",
            "[3, 5, 7]\n",
            "[('apple', 3), ('pen', 5), ('orange', 7)]\n",
            "['apple', 'pen', 'orange', 'kiwi']\n",
            "[3, 5, 7, 9]\n",
            "[('apple', 3), ('pen', 5), ('orange', 7), ('kiwi', 9)]\n"
          ]
        }
      ],
      "source": [
        "ppap = {'apple': 3, 'pen': 5, 'orange': 7}\n",
        "ks = ppap.keys()\n",
        "vs = ppap.values()\n",
        "itms = ppap.items()\n",
        "print(list(ks))\n",
        "print(list(vs))\n",
        "print(list(itms))\n",
        "ppap['kiwi'] = 9\n",
        "print(list(ks))\n",
        "print(list(vs))\n",
        "print(list(itms))"
      ]
    },
    {
      "cell_type": "markdown",
      "metadata": {
        "id": "s2-m4Qh5JIfn"
      },
      "source": [
        "## 辞書とリスト"
      ]
    },
    {
      "cell_type": "markdown",
      "metadata": {
        "id": "7el7eHy-JIfn"
      },
      "source": [
        "冒頭で述べたように、辞書では値としてあらゆる型のデータを使用できます。\n",
        "すなわち、次のように値としてリストを使用する辞書を作成可能です。\n",
        "リストの要素を参照するには数字インデックスをさらに指定します。"
      ]
    },
    {
      "cell_type": "code",
      "execution_count": 8,
      "metadata": {
        "id": "cTkl9_o0JIfn",
        "outputId": "b758bb78-dea3-43e9-f05d-3e082732cbf1",
        "colab": {
          "base_uri": "https://localhost:8080/"
        }
      },
      "outputs": [
        {
          "output_type": "stream",
          "name": "stdout",
          "text": [
            "[10, 20, 40]\n",
            "20\n"
          ]
        }
      ],
      "source": [
        "numbers = {'dozens': [10, 20, 40], 'hundreds': [100, 101, 120, 140]}\n",
        "print(numbers['dozens'])\n",
        "print(numbers['dozens'][1])"
      ]
    },
    {
      "cell_type": "markdown",
      "metadata": {
        "id": "ybtSw4_4JIfn"
      },
      "source": [
        "逆に、辞書を要素とするリストを作成することもできます。"
      ]
    },
    {
      "cell_type": "code",
      "execution_count": 9,
      "metadata": {
        "id": "GyhyZt80JIfo",
        "outputId": "77d626a2-7105-488e-e981-d9e27a22af63",
        "colab": {
          "base_uri": "https://localhost:8080/"
        }
      },
      "outputs": [
        {
          "output_type": "stream",
          "name": "stdout",
          "text": [
            "{'cat': 3, 'dog': 3, 'elephant': 8}\n",
            "3\n"
          ]
        }
      ],
      "source": [
        "ppap = {'apple': 3, 'pen': 5}\n",
        "pets = {'cat': 3, 'dog': 3, 'elephant': 8}\n",
        "ld = [ppap, pets]\n",
        "print(ld[1])\n",
        "print(ld[1]['dog'])"
      ]
    },
    {
      "cell_type": "markdown",
      "metadata": {
        "id": "gV3TQGWaJIfo"
      },
      "source": [
        "## 練習\n",
        "\n",
        "辞書 `dic1` と文字列 `str1` が引数として与えられたとき、\n",
        "以下のように `dic1` を変更する関数 `handle_collision` を作成してください。\n",
        "ただし、`dic1` のキーは整数、キーに対応する値は文字列を要素とするリストとします。\n",
        "\n",
        "1. `dic1` に `str1` の長さ `n` がキーとして登録されていない場合、`str1` のみを要素とするリスト `ls` を作成し、 `dic1` にキー `n`、`n` に対応する値 `ls` を登録します。\n",
        "2. `dic1` に `str1` の長さ `n` がキーとして登録されている場合、そのキーに対応する値（リスト）に `str1` を追加します。\n",
        "\n",
        "以下のセルの `...` のところを書き換えて `handle_collision(dic1, str1)` を作成してください。"
      ]
    },
    {
      "cell_type": "code",
      "execution_count": 10,
      "metadata": {
        "id": "KCs-JAGRJIfo"
      },
      "outputs": [],
      "source": [
        "def handle_collision(dic1, str1):\n",
        "    if dic1.get(len(str1)) is None:\n",
        "        ls = [str1]\n",
        "    else:\n",
        "        ls = dic1[len(str1)]\n",
        "        ls.append(str1)\n",
        "    dic1[len(str1)] = ls"
      ]
    },
    {
      "cell_type": "markdown",
      "metadata": {
        "id": "4Nfv7iKXJIfo"
      },
      "source": [
        "上のセルで解答を作成した後、以下のセルを実行し、実行結果が `True` になることを確認してください。"
      ]
    },
    {
      "cell_type": "code",
      "execution_count": 11,
      "metadata": {
        "id": "F8VE8jQJJIfo",
        "outputId": "4e7871d6-6470-4281-8e97-56c321200932",
        "colab": {
          "base_uri": "https://localhost:8080/"
        }
      },
      "outputs": [
        {
          "output_type": "stream",
          "name": "stdout",
          "text": [
            "True\n"
          ]
        }
      ],
      "source": [
        "dic1_orig = {3: ['ham', 'egg'], 6: ['coffee', 'brandy'], 9: ['port wine'], 15: ['curried chicken']}\n",
        "dic1_result = {3: ['ham', 'egg', 'tea'], 6: ['coffee', 'brandy'], 9: ['port wine'], 15: ['curried chicken']}\n",
        "handle_collision(dic1_orig, 'tea')\n",
        "print(dic1_orig == dic1_result)"
      ]
    },
    {
      "cell_type": "markdown",
      "metadata": {
        "id": "JeQ28RlPJIfo"
      },
      "source": [
        "## 練習の解答"
      ]
    },
    {
      "cell_type": "code",
      "execution_count": null,
      "metadata": {
        "id": "5SaVieF0JIfo"
      },
      "outputs": [],
      "source": [
        "def reverse_lookup(list1):\n",
        "    dic1 = {}  # 空の辞書を作成する\n",
        "    for value in list1:\n",
        "        dic1[value] = list1.index(value)\n",
        "    return dic1\n",
        "#reverse_lookup(['apple', 'pen', 'orange'])"
      ]
    },
    {
      "cell_type": "code",
      "execution_count": null,
      "metadata": {
        "id": "JenWsEIvJIfo"
      },
      "outputs": [],
      "source": [
        "def handle_collision(dic1, str1):\n",
        "    if dic1.get(len(str1)) is None:\n",
        "        ls = [str1]\n",
        "    else:\n",
        "        ls = dic1[len(str1)]\n",
        "        ls.append(str1)\n",
        "    dic1[len(str1)] = ls\n",
        "#handle_collision({3: ['ham', 'egg'], 6: ['coffee', 'brandy'], 9: ['port wine'], 15: ['curried chicken']}, 'tea')"
      ]
    },
    {
      "cell_type": "code",
      "execution_count": null,
      "metadata": {
        "id": "uiQ0FNlNJIfp"
      },
      "outputs": [],
      "source": []
    }
  ],
  "metadata": {
    "kernelspec": {
      "display_name": "Python 3",
      "language": "python",
      "name": "python3"
    },
    "language_info": {
      "name": "python"
    },
    "colab": {
      "provenance": []
    }
  },
  "nbformat": 4,
  "nbformat_minor": 0
}